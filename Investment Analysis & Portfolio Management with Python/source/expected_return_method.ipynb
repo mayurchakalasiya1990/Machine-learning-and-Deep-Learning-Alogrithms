{
 "cells": [
  {
   "cell_type": "code",
   "execution_count": 8,
   "id": "2afca356",
   "metadata": {},
   "outputs": [],
   "source": [
    "import pandas as pd"
   ]
  },
  {
   "cell_type": "code",
   "execution_count": 9,
   "id": "b8eae302",
   "metadata": {},
   "outputs": [
    {
     "data": {
      "text/html": [
       "<div>\n",
       "<style scoped>\n",
       "    .dataframe tbody tr th:only-of-type {\n",
       "        vertical-align: middle;\n",
       "    }\n",
       "\n",
       "    .dataframe tbody tr th {\n",
       "        vertical-align: top;\n",
       "    }\n",
       "\n",
       "    .dataframe thead th {\n",
       "        text-align: right;\n",
       "    }\n",
       "</style>\n",
       "<table border=\"1\" class=\"dataframe\">\n",
       "  <thead>\n",
       "    <tr style=\"text-align: right;\">\n",
       "      <th></th>\n",
       "      <th>Date</th>\n",
       "      <th>Open</th>\n",
       "      <th>High</th>\n",
       "      <th>Low</th>\n",
       "      <th>Close</th>\n",
       "      <th>Adj Close</th>\n",
       "      <th>Volume</th>\n",
       "    </tr>\n",
       "  </thead>\n",
       "  <tbody>\n",
       "    <tr>\n",
       "      <th>0</th>\n",
       "      <td>2012-05-18</td>\n",
       "      <td>42.049999</td>\n",
       "      <td>45.000000</td>\n",
       "      <td>38.000000</td>\n",
       "      <td>38.230000</td>\n",
       "      <td>38.230000</td>\n",
       "      <td>573576400</td>\n",
       "    </tr>\n",
       "    <tr>\n",
       "      <th>1</th>\n",
       "      <td>2012-05-21</td>\n",
       "      <td>36.529999</td>\n",
       "      <td>36.660000</td>\n",
       "      <td>33.000000</td>\n",
       "      <td>34.029999</td>\n",
       "      <td>34.029999</td>\n",
       "      <td>168192700</td>\n",
       "    </tr>\n",
       "    <tr>\n",
       "      <th>2</th>\n",
       "      <td>2012-05-22</td>\n",
       "      <td>32.610001</td>\n",
       "      <td>33.590000</td>\n",
       "      <td>30.940001</td>\n",
       "      <td>31.000000</td>\n",
       "      <td>31.000000</td>\n",
       "      <td>101786600</td>\n",
       "    </tr>\n",
       "    <tr>\n",
       "      <th>3</th>\n",
       "      <td>2012-05-23</td>\n",
       "      <td>31.370001</td>\n",
       "      <td>32.500000</td>\n",
       "      <td>31.360001</td>\n",
       "      <td>32.000000</td>\n",
       "      <td>32.000000</td>\n",
       "      <td>73600000</td>\n",
       "    </tr>\n",
       "    <tr>\n",
       "      <th>4</th>\n",
       "      <td>2012-05-24</td>\n",
       "      <td>32.950001</td>\n",
       "      <td>33.209999</td>\n",
       "      <td>31.770000</td>\n",
       "      <td>33.029999</td>\n",
       "      <td>33.029999</td>\n",
       "      <td>50237200</td>\n",
       "    </tr>\n",
       "  </tbody>\n",
       "</table>\n",
       "</div>"
      ],
      "text/plain": [
       "         Date       Open       High        Low      Close  Adj Close  \\\n",
       "0  2012-05-18  42.049999  45.000000  38.000000  38.230000  38.230000   \n",
       "1  2012-05-21  36.529999  36.660000  33.000000  34.029999  34.029999   \n",
       "2  2012-05-22  32.610001  33.590000  30.940001  31.000000  31.000000   \n",
       "3  2012-05-23  31.370001  32.500000  31.360001  32.000000  32.000000   \n",
       "4  2012-05-24  32.950001  33.209999  31.770000  33.029999  33.029999   \n",
       "\n",
       "      Volume  \n",
       "0  573576400  \n",
       "1  168192700  \n",
       "2  101786600  \n",
       "3   73600000  \n",
       "4   50237200  "
      ]
     },
     "execution_count": 9,
     "metadata": {},
     "output_type": "execute_result"
    }
   ],
   "source": [
    "data = pd.read_csv(\"../data/fb_price.csv\")\n",
    "data.head()"
   ]
  },
  {
   "cell_type": "code",
   "execution_count": 19,
   "id": "9999d5fc",
   "metadata": {},
   "outputs": [],
   "source": [
    "def getExpectedReturn(df, price_col_name, annualise=True, annualise_method='sophisticated'):\n",
    "    \n",
    "        # Calculate returns of prices\n",
    "        returns = df[price_col_name].pct_change(1)\n",
    "    \n",
    "        # Calculate the expected return using the mean method\n",
    "        expected_return_daily = returns.mean()\n",
    "        \n",
    "        if annualise:\n",
    "            if annualise_method == 'sophisticated':\n",
    "                print('1')\n",
    "                expected_return_annual = ((1+ expected_return_daily) ** 250) -1\n",
    "            else:\n",
    "                #crude method\n",
    "                expected_return_annual = expected_return_daily * 250\n",
    "            return expected_return_annual\n",
    "        else:\n",
    "            return expected_return_daily\n",
    "        \n",
    "    \n",
    "    \n",
    "            \n",
    "        "
   ]
  },
  {
   "cell_type": "code",
   "execution_count": 20,
   "id": "4c374659",
   "metadata": {},
   "outputs": [
    {
     "name": "stdout",
     "output_type": "stream",
     "text": [
      "1\n",
      "0.40093243279785296\n"
     ]
    }
   ],
   "source": [
    "print(getExpectedReturn(data,'Adj Close'))"
   ]
  },
  {
   "cell_type": "code",
   "execution_count": 22,
   "id": "cf04ccbc",
   "metadata": {},
   "outputs": [
    {
     "name": "stdout",
     "output_type": "stream",
     "text": [
      "0.001349461858750009\n"
     ]
    }
   ],
   "source": [
    "print(getExpectedReturn(data,'Adj Close',annualise=False))"
   ]
  },
  {
   "cell_type": "code",
   "execution_count": 23,
   "id": "e2d1344d",
   "metadata": {},
   "outputs": [
    {
     "name": "stdout",
     "output_type": "stream",
     "text": [
      "0.3373654646875022\n"
     ]
    }
   ],
   "source": [
    "print(getExpectedReturn(data,'Adj Close',annualise_method='crude_method'))"
   ]
  },
  {
   "cell_type": "code",
   "execution_count": null,
   "id": "f404064c",
   "metadata": {},
   "outputs": [],
   "source": []
  }
 ],
 "metadata": {
  "kernelspec": {
   "display_name": "Python 3 (ipykernel)",
   "language": "python",
   "name": "python3"
  },
  "language_info": {
   "codemirror_mode": {
    "name": "ipython",
    "version": 3
   },
   "file_extension": ".py",
   "mimetype": "text/x-python",
   "name": "python",
   "nbconvert_exporter": "python",
   "pygments_lexer": "ipython3",
   "version": "3.8.8"
  }
 },
 "nbformat": 4,
 "nbformat_minor": 5
}
