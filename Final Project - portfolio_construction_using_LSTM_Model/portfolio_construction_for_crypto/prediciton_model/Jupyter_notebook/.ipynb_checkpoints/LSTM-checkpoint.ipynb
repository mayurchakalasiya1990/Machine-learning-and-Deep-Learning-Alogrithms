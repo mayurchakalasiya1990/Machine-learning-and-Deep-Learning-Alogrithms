{
 "cells": [
  {
   "cell_type": "code",
   "execution_count": 54,
   "id": "cc3bcecb",
   "metadata": {},
   "outputs": [],
   "source": [
    "import numpy as np\n",
    "import pandas as pd\n",
    " \n",
    "class PastSampler:\n",
    "    '''\n",
    "    Forms training samples for predicting future values from past value\n",
    "    '''\n",
    "     \n",
    "    def __init__(self, N, K, sliding_window = True):\n",
    "        '''\n",
    "        Predict K future sample using N previous samples\n",
    "        '''\n",
    "        self.K = K\n",
    "        self.N = N\n",
    "        self.sliding_window = sliding_window\n",
    " \n",
    "    def transform(self, A):\n",
    "        M = self.N + self.K     #Number of samples per row (sample + target)\n",
    "        #indexes\n",
    "        if self.sliding_window:\n",
    "            I = np.arange(M) + np.arange(A.shape[0] - M + 1).reshape(-1, 1)\n",
    "        else:\n",
    "            if A.shape[0]%M == 0:\n",
    "                I = np.arange(M)+np.arange(0,A.shape[0],M).reshape(-1,1)\n",
    "                \n",
    "            else:\n",
    "                I = np.arange(M)+np.arange(0,A.shape[0] -M,M).reshape(-1,1)\n",
    "                print('I----',I)\n",
    "            \n",
    "        B = A[I].reshape(-1, M * A.shape[1], A.shape[2])\n",
    "        ci = self.N * A.shape[1]    #Number of features per sample\n",
    "        return B[:, :ci], B[:, ci:] #Sample matrix, Target matrix\n"
   ]
  },
  {
   "cell_type": "code",
   "execution_count": 87,
   "id": "6cb8874c",
   "metadata": {},
   "outputs": [],
   "source": [
    "#data file path\n",
    "dfp = '../data/kaggle/BTC-2021min.csv'\n",
    "\n",
    "#Columns of price data to use\n",
    "columns = ['close']\n",
    "# df = pd.read_csv(dfp).dropna().tail(1000000)\n",
    "df = pd.read_csv(dfp)\n",
    "df1 = pd.read_csv(dfp)\n",
    "time_stamps = df['unix']\n",
    "df = df.loc[:,columns]\n",
    "# original_df = pd.read_csv(dfp).dropna().tail(1000000).loc[:,columns]\n",
    "original_df = pd.read_csv(dfp).loc[:,columns]\n"
   ]
  },
  {
   "cell_type": "code",
   "execution_count": 88,
   "id": "13a77c27",
   "metadata": {},
   "outputs": [
    {
     "data": {
      "text/html": [
       "<div>\n",
       "<style scoped>\n",
       "    .dataframe tbody tr th:only-of-type {\n",
       "        vertical-align: middle;\n",
       "    }\n",
       "\n",
       "    .dataframe tbody tr th {\n",
       "        vertical-align: top;\n",
       "    }\n",
       "\n",
       "    .dataframe thead th {\n",
       "        text-align: right;\n",
       "    }\n",
       "</style>\n",
       "<table border=\"1\" class=\"dataframe\">\n",
       "  <thead>\n",
       "    <tr style=\"text-align: right;\">\n",
       "      <th></th>\n",
       "      <th>unix</th>\n",
       "      <th>date</th>\n",
       "      <th>symbol</th>\n",
       "      <th>open</th>\n",
       "      <th>high</th>\n",
       "      <th>low</th>\n",
       "      <th>close</th>\n",
       "      <th>Volume BTC</th>\n",
       "      <th>Volume USD</th>\n",
       "    </tr>\n",
       "  </thead>\n",
       "  <tbody>\n",
       "    <tr>\n",
       "      <th>33254</th>\n",
       "      <td>1646078400</td>\n",
       "      <td>2/28/2022 20:00</td>\n",
       "      <td>BTC/USD</td>\n",
       "      <td>41361.99</td>\n",
       "      <td>41971.00</td>\n",
       "      <td>41284.11</td>\n",
       "      <td>41914.97</td>\n",
       "      <td>247.151654</td>\n",
       "      <td>1.035935e+07</td>\n",
       "    </tr>\n",
       "    <tr>\n",
       "      <th>33255</th>\n",
       "      <td>1646082000</td>\n",
       "      <td>2/28/2022 21:00</td>\n",
       "      <td>BTC/USD</td>\n",
       "      <td>41917.09</td>\n",
       "      <td>41917.09</td>\n",
       "      <td>41542.60</td>\n",
       "      <td>41659.53</td>\n",
       "      <td>69.751680</td>\n",
       "      <td>2.905822e+06</td>\n",
       "    </tr>\n",
       "    <tr>\n",
       "      <th>33256</th>\n",
       "      <td>1646085600</td>\n",
       "      <td>2/28/2022 22:00</td>\n",
       "      <td>BTC/USD</td>\n",
       "      <td>41657.23</td>\n",
       "      <td>44256.08</td>\n",
       "      <td>41650.29</td>\n",
       "      <td>42907.32</td>\n",
       "      <td>527.540571</td>\n",
       "      <td>2.263535e+07</td>\n",
       "    </tr>\n",
       "    <tr>\n",
       "      <th>33257</th>\n",
       "      <td>1646089200</td>\n",
       "      <td>2/28/2022 23:00</td>\n",
       "      <td>BTC/USD</td>\n",
       "      <td>43085.30</td>\n",
       "      <td>43364.81</td>\n",
       "      <td>42892.37</td>\n",
       "      <td>43178.98</td>\n",
       "      <td>106.816103</td>\n",
       "      <td>4.612210e+06</td>\n",
       "    </tr>\n",
       "    <tr>\n",
       "      <th>33258</th>\n",
       "      <td>1646092800</td>\n",
       "      <td>3/1/2022 0:00</td>\n",
       "      <td>BTC/USD</td>\n",
       "      <td>43221.71</td>\n",
       "      <td>43626.49</td>\n",
       "      <td>43185.48</td>\n",
       "      <td>43312.27</td>\n",
       "      <td>52.056320</td>\n",
       "      <td>2.254677e+06</td>\n",
       "    </tr>\n",
       "  </tbody>\n",
       "</table>\n",
       "</div>"
      ],
      "text/plain": [
       "             unix             date   symbol      open      high       low  \\\n",
       "33254  1646078400  2/28/2022 20:00  BTC/USD  41361.99  41971.00  41284.11   \n",
       "33255  1646082000  2/28/2022 21:00  BTC/USD  41917.09  41917.09  41542.60   \n",
       "33256  1646085600  2/28/2022 22:00  BTC/USD  41657.23  44256.08  41650.29   \n",
       "33257  1646089200  2/28/2022 23:00  BTC/USD  43085.30  43364.81  42892.37   \n",
       "33258  1646092800    3/1/2022 0:00  BTC/USD  43221.71  43626.49  43185.48   \n",
       "\n",
       "          close  Volume BTC    Volume USD  \n",
       "33254  41914.97  247.151654  1.035935e+07  \n",
       "33255  41659.53   69.751680  2.905822e+06  \n",
       "33256  42907.32  527.540571  2.263535e+07  \n",
       "33257  43178.98  106.816103  4.612210e+06  \n",
       "33258  43312.27   52.056320  2.254677e+06  "
      ]
     },
     "execution_count": 88,
     "metadata": {},
     "output_type": "execute_result"
    }
   ],
   "source": [
    "#26753010\n",
    "#df1[\"date\"] = df1[\"date\"].apply(pd.to_datetime)\n",
    "\n",
    "df1.tail()"
   ]
  },
  {
   "cell_type": "code",
   "execution_count": 89,
   "id": "98508a3d",
   "metadata": {},
   "outputs": [
    {
     "data": {
      "text/plain": [
       "unix            int64\n",
       "date           object\n",
       "symbol         object\n",
       "open          float64\n",
       "high          float64\n",
       "low           float64\n",
       "close         float64\n",
       "Volume BTC    float64\n",
       "Volume USD    float64\n",
       "dtype: object"
      ]
     },
     "execution_count": 89,
     "metadata": {},
     "output_type": "execute_result"
    }
   ],
   "source": [
    "df1.dtypes"
   ]
  },
  {
   "cell_type": "code",
   "execution_count": null,
   "id": "63ab0c28",
   "metadata": {},
   "outputs": [],
   "source": []
  },
  {
   "cell_type": "code",
   "execution_count": null,
   "id": "db0c91cd",
   "metadata": {},
   "outputs": [],
   "source": []
  },
  {
   "cell_type": "code",
   "execution_count": null,
   "id": "64769094",
   "metadata": {},
   "outputs": [],
   "source": []
  },
  {
   "cell_type": "code",
   "execution_count": 57,
   "id": "f0db1402",
   "metadata": {},
   "outputs": [
    {
     "data": {
      "text/plain": [
       "0         1483228860\n",
       "1         1483228920\n",
       "2         1483228980\n",
       "3         1483229040\n",
       "4         1483229100\n",
       "             ...    \n",
       "525594    1514764500\n",
       "525595    1514764560\n",
       "525596    1514764620\n",
       "525597    1514764680\n",
       "525598    1514764740\n",
       "Name: unix, Length: 525599, dtype: int64"
      ]
     },
     "execution_count": 57,
     "metadata": {},
     "output_type": "execute_result"
    }
   ],
   "source": [
    "file_name='bitcoin2015to2017_close.h5'\n",
    "time_stamps"
   ]
  },
  {
   "cell_type": "code",
   "execution_count": 90,
   "id": "07ceb968",
   "metadata": {},
   "outputs": [
    {
     "data": {
      "text/html": [
       "<div>\n",
       "<style scoped>\n",
       "    .dataframe tbody tr th:only-of-type {\n",
       "        vertical-align: middle;\n",
       "    }\n",
       "\n",
       "    .dataframe tbody tr th {\n",
       "        vertical-align: top;\n",
       "    }\n",
       "\n",
       "    .dataframe thead th {\n",
       "        text-align: right;\n",
       "    }\n",
       "</style>\n",
       "<table border=\"1\" class=\"dataframe\">\n",
       "  <thead>\n",
       "    <tr style=\"text-align: right;\">\n",
       "      <th></th>\n",
       "      <th>close</th>\n",
       "    </tr>\n",
       "  </thead>\n",
       "  <tbody>\n",
       "    <tr>\n",
       "      <th>0</th>\n",
       "      <td>0.085532</td>\n",
       "    </tr>\n",
       "    <tr>\n",
       "      <th>1</th>\n",
       "      <td>0.085501</td>\n",
       "    </tr>\n",
       "    <tr>\n",
       "      <th>2</th>\n",
       "      <td>0.085341</td>\n",
       "    </tr>\n",
       "    <tr>\n",
       "      <th>3</th>\n",
       "      <td>0.085033</td>\n",
       "    </tr>\n",
       "    <tr>\n",
       "      <th>4</th>\n",
       "      <td>0.086370</td>\n",
       "    </tr>\n",
       "    <tr>\n",
       "      <th>...</th>\n",
       "      <td>...</td>\n",
       "    </tr>\n",
       "    <tr>\n",
       "      <th>33254</th>\n",
       "      <td>0.592103</td>\n",
       "    </tr>\n",
       "    <tr>\n",
       "      <th>33255</th>\n",
       "      <td>0.588203</td>\n",
       "    </tr>\n",
       "    <tr>\n",
       "      <th>33256</th>\n",
       "      <td>0.607257</td>\n",
       "    </tr>\n",
       "    <tr>\n",
       "      <th>33257</th>\n",
       "      <td>0.611405</td>\n",
       "    </tr>\n",
       "    <tr>\n",
       "      <th>33258</th>\n",
       "      <td>0.613440</td>\n",
       "    </tr>\n",
       "  </tbody>\n",
       "</table>\n",
       "<p>33259 rows × 1 columns</p>\n",
       "</div>"
      ],
      "text/plain": [
       "          close\n",
       "0      0.085532\n",
       "1      0.085501\n",
       "2      0.085341\n",
       "3      0.085033\n",
       "4      0.086370\n",
       "...         ...\n",
       "33254  0.592103\n",
       "33255  0.588203\n",
       "33256  0.607257\n",
       "33257  0.611405\n",
       "33258  0.613440\n",
       "\n",
       "[33259 rows x 1 columns]"
      ]
     },
     "execution_count": 90,
     "metadata": {},
     "output_type": "execute_result"
    }
   ],
   "source": [
    "from sklearn.preprocessing import MinMaxScaler\n",
    "scaler = MinMaxScaler()\n",
    "# normalization\n",
    "for c in columns:\n",
    "    df[c] = scaler.fit_transform(df[c].values.reshape(-1,1))\n",
    "    \n",
    "df"
   ]
  },
  {
   "cell_type": "code",
   "execution_count": 91,
   "id": "18128beb",
   "metadata": {},
   "outputs": [],
   "source": [
    "#%%Features are channels\n",
    "A = np.array(df)[:,None,:]\n",
    "original_A = np.array(original_df)[:,None,:]\n",
    "time_stamps = np.array(time_stamps)[:,None,None]\n",
    "#%%Make samples of temporal sequences of pricing data (channel)\n",
    "NPS, NFS = 256, 16         #Number of past and future samples\n",
    "ps = PastSampler(NPS, NFS, sliding_window=False)\n"
   ]
  },
  {
   "cell_type": "code",
   "execution_count": 92,
   "id": "cbe783f3",
   "metadata": {},
   "outputs": [
    {
     "name": "stdout",
     "output_type": "stream",
     "text": [
      "I---- [[    0     1     2 ...   269   270   271]\n",
      " [  272   273   274 ...   541   542   543]\n",
      " [  544   545   546 ...   813   814   815]\n",
      " ...\n",
      " [32368 32369 32370 ... 32637 32638 32639]\n",
      " [32640 32641 32642 ... 32909 32910 32911]\n",
      " [32912 32913 32914 ... 33181 33182 33183]]\n"
     ]
    },
    {
     "data": {
      "text/plain": [
       "(122, 256, 1)"
      ]
     },
     "execution_count": 92,
     "metadata": {},
     "output_type": "execute_result"
    }
   ],
   "source": [
    "B, Y = ps.transform(A)\n",
    "B.shape"
   ]
  },
  {
   "cell_type": "code",
   "execution_count": 93,
   "id": "1f0ae8f7",
   "metadata": {},
   "outputs": [
    {
     "name": "stdout",
     "output_type": "stream",
     "text": [
      "original_A: (33259, 1, 1)\n",
      "time_stamps: (33259, 1, 1)\n",
      "B: (122, 256, 1)\n",
      "Y: (122, 16, 1)\n"
     ]
    }
   ],
   "source": [
    "print('original_A:',original_A.shape)\n",
    "print('time_stamps:',time_stamps.shape)\n",
    "print('B:',B.shape)\n",
    "print('Y:',Y.shape)\n"
   ]
  },
  {
   "cell_type": "code",
   "execution_count": 94,
   "id": "1e1b4bce",
   "metadata": {},
   "outputs": [
    {
     "name": "stdout",
     "output_type": "stream",
     "text": [
      "I---- [[    0     1     2 ...   269   270   271]\n",
      " [  272   273   274 ...   541   542   543]\n",
      " [  544   545   546 ...   813   814   815]\n",
      " ...\n",
      " [32368 32369 32370 ... 32637 32638 32639]\n",
      " [32640 32641 32642 ... 32909 32910 32911]\n",
      " [32912 32913 32914 ... 33181 33182 33183]]\n",
      "I---- [[    0     1     2 ...   269   270   271]\n",
      " [  272   273   274 ...   541   542   543]\n",
      " [  544   545   546 ...   813   814   815]\n",
      " ...\n",
      " [32368 32369 32370 ... 32637 32638 32639]\n",
      " [32640 32641 32642 ... 32909 32910 32911]\n",
      " [32912 32913 32914 ... 33181 33182 33183]]\n"
     ]
    }
   ],
   "source": [
    "input_times, output_times = ps.transform(time_stamps)\n",
    "original_B, original_Y = ps.transform(original_A)"
   ]
  },
  {
   "cell_type": "code",
   "execution_count": 95,
   "id": "f60306f2",
   "metadata": {},
   "outputs": [
    {
     "name": "stdout",
     "output_type": "stream",
     "text": [
      "input_times: (122, 256, 1)\n",
      "output_times: (122, 16, 1)\n",
      "original_B: (122, 256, 1)\n",
      "original_Y: (122, 16, 1)\n"
     ]
    }
   ],
   "source": [
    "print('input_times:',input_times.shape)\n",
    "print('output_times:',output_times.shape)\n",
    "print('original_B:',original_B.shape)\n",
    "print('original_Y:',original_Y.shape)"
   ]
  },
  {
   "cell_type": "code",
   "execution_count": 96,
   "id": "06995ff7",
   "metadata": {},
   "outputs": [],
   "source": [
    "data = pd.DataFrame()"
   ]
  },
  {
   "cell_type": "code",
   "execution_count": 97,
   "id": "1062bacc",
   "metadata": {},
   "outputs": [
    {
     "data": {
      "text/plain": [
       "(33259, 1)"
      ]
     },
     "execution_count": 97,
     "metadata": {},
     "output_type": "execute_result"
    }
   ],
   "source": [
    "np.array(original_df).shape"
   ]
  },
  {
   "cell_type": "code",
   "execution_count": 98,
   "id": "581424b3",
   "metadata": {},
   "outputs": [
    {
     "data": {
      "text/plain": [
       "(122, 256, 1)"
      ]
     },
     "execution_count": 98,
     "metadata": {},
     "output_type": "execute_result"
    }
   ],
   "source": [
    "original_B.shape"
   ]
  },
  {
   "cell_type": "code",
   "execution_count": 99,
   "id": "09820221",
   "metadata": {},
   "outputs": [],
   "source": [
    "\"\"\"\n",
    "import h5py\n",
    "with h5py.File(file_name, 'w') as f:\n",
    "    f.create_dataset(\"inputs\", data = B)\n",
    "    f.create_dataset('outputs', data = Y)\n",
    "    f.create_dataset(\"input_times\", data = input_times)\n",
    "    f.create_dataset('output_times', data = output_times)\n",
    "    f.create_dataset(\"original_datas\", data=np.array(original_df))\n",
    "    f.create_dataset('original_inputs',data=original_B)\n",
    "    f.create_dataset('original_outputs',data=original_Y)\n",
    "#     f.create_dataset('original_times', data=time_stamps)\n",
    "\"\"\""
   ]
  },
  {
   "cell_type": "code",
   "execution_count": 100,
   "id": "d3ac6627",
   "metadata": {},
   "outputs": [],
   "source": [
    "datas = B\n",
    "labels = Y\n",
    "input_times = input_times\n",
    "output_times = output_times\n",
    "original_inputs = original_B\n",
    "original_outputs = original_Y\n",
    "original_datas = np.array(original_df)"
   ]
  },
  {
   "cell_type": "code",
   "execution_count": 101,
   "id": "e5eef971",
   "metadata": {},
   "outputs": [],
   "source": [
    "import pandas as pd\n",
    "import numpy as numpy\n",
    "import tensorflow as tf\n",
    "from tensorflow.keras.models import Sequential\n",
    "from tensorflow.keras.layers import Dense, Dropout, Activation, Flatten,Reshape,LSTM, LeakyReLU\n",
    "from tensorflow.keras.layers import Conv1D, MaxPooling1D\n",
    "#from keras.utils import np_utils\n",
    "from tensorflow.keras.utils import to_categorical\n",
    "\n",
    "from tensorflow.keras.callbacks import CSVLogger, ModelCheckpoint\n",
    "import h5py\n",
    "import os\n",
    "\n",
    "from tensorflow.compat.v1.keras.backend import set_session\n",
    "from sklearn.preprocessing import MinMaxScaler\n",
    "import numpy as np\n",
    "import matplotlib.pyplot as plt\n"
   ]
  },
  {
   "cell_type": "code",
   "execution_count": 102,
   "id": "38afd4cb",
   "metadata": {},
   "outputs": [],
   "source": [
    "os.environ['CUDA_DEVICE_ORDER'] = 'PCI_BUS_ID'\n",
    "os.environ['CUDA_VISIBLE_DEVICES'] = '1'\n",
    "os.environ['TF_CPP_MIN_LOG_LEVEL']='2'\n",
    "\n",
    "config = tf.compat.v1.ConfigProto()\n",
    "config.gpu_options.allow_growth = True\n",
    "set_session(tf.compat.v1.Session(config=config))"
   ]
  },
  {
   "cell_type": "code",
   "execution_count": 103,
   "id": "5da372d2",
   "metadata": {},
   "outputs": [
    {
     "name": "stdout",
     "output_type": "stream",
     "text": [
      "step_size 256\n"
     ]
    }
   ],
   "source": [
    "step_size = datas.shape[1]\n",
    "print('step_size',step_size)\n",
    "units= 50\n",
    "second_units = 30\n",
    "batch_size = 8\n",
    "#batch_size = 1\n",
    "nb_features = datas.shape[2]\n",
    "epochs = 150\n",
    "output_size=16\n",
    "output_file_name='bitcoin2015to2017_close_LSTM_1_tanh_leaky_'\n",
    "#split training validation\n",
    "scaler=MinMaxScaler()\n",
    "#split training validation\n",
    "training_size = int(0.8* datas.shape[0])\n",
    "training_datas = datas[:training_size,:,:]\n",
    "training_labels = labels[:training_size,:,0]\n",
    "validation_datas = datas[training_size:,:,:]\n",
    "validation_labels = labels[training_size:,:,0]\n",
    "validation_original_outputs = original_outputs[training_size:,:,:]\n",
    "validation_original_inputs = original_inputs[training_size:,:,:]\n",
    "validation_input_times = input_times[training_size:,:,:]\n",
    "validation_output_times = output_times[training_size:,:,:]\n",
    "\n"
   ]
  },
  {
   "cell_type": "code",
   "execution_count": 104,
   "id": "44b2e48d",
   "metadata": {},
   "outputs": [],
   "source": [
    "ground_true = np.append(validation_original_inputs,validation_original_outputs, axis=1)\n",
    "ground_true_times = np.append(validation_input_times,validation_output_times, axis=1)"
   ]
  },
  {
   "cell_type": "code",
   "execution_count": 105,
   "id": "db40ea7b",
   "metadata": {},
   "outputs": [
    {
     "name": "stdout",
     "output_type": "stream",
     "text": [
      "ground_true: (25, 272, 1)\n",
      "ground_true_times: (25, 272, 1)\n"
     ]
    }
   ],
   "source": [
    "print('ground_true:',ground_true.shape)\n",
    "print('ground_true_times:',ground_true_times.shape)"
   ]
  },
  {
   "cell_type": "code",
   "execution_count": 106,
   "id": "585a5540",
   "metadata": {},
   "outputs": [
    {
     "name": "stdout",
     "output_type": "stream",
     "text": [
      "ground_true.shape (25, 272, 1)\n",
      "training_size: 97\n",
      "training_datas: (97, 256, 1)\n",
      "training_labels: (97, 16)\n",
      "validation_datas: (25, 256, 1)\n",
      "validation_labels: (25, 16)\n",
      "validation_original_outputs: (25, 16, 1)\n",
      "validation_original_outputs: (25, 256, 1)\n",
      "validation_input_times: (25, 256, 1)\n",
      "validation_output_times: (25, 16, 1)\n"
     ]
    }
   ],
   "source": [
    "print('ground_true.shape',ground_true.shape)\n",
    "\n",
    "print('training_size:',training_size)\n",
    "print('training_datas:',training_datas.shape)\n",
    "print('training_labels:',training_labels.shape)\n",
    "print('validation_datas:',validation_datas.shape)\n",
    "print('validation_labels:',validation_labels.shape)\n",
    "print('validation_original_outputs:',validation_original_outputs.shape)\n",
    "print('validation_original_outputs:',validation_original_inputs.shape)\n",
    "print('validation_input_times:',validation_input_times.shape)\n",
    "print('validation_output_times:',validation_output_times.shape)"
   ]
  },
  {
   "cell_type": "code",
   "execution_count": 107,
   "id": "c2c5dcb6",
   "metadata": {},
   "outputs": [
    {
     "name": "stdout",
     "output_type": "stream",
     "text": [
      "Epoch 1/100\n",
      "13/13 [==============================] - ETA: 0s - loss: 0.0559\n",
      "Epoch 00001: saving model to ../weights/bitcoin2015to2017_close_LSTM_1_tanh_leaky_-01-0.27631.hdf5\n",
      "13/13 [==============================] - 1s 87ms/step - loss: 0.0559 - val_loss: 0.2763\n",
      "Epoch 2/100\n",
      "13/13 [==============================] - ETA: 0s - loss: 0.0459\n",
      "Epoch 00002: saving model to ../weights/bitcoin2015to2017_close_LSTM_1_tanh_leaky_-02-0.21828.hdf5\n",
      "13/13 [==============================] - 1s 82ms/step - loss: 0.0459 - val_loss: 0.2183\n",
      "Epoch 3/100\n",
      "13/13 [==============================] - ETA: 0s - loss: 0.0420\n",
      "Epoch 00003: saving model to ../weights/bitcoin2015to2017_close_LSTM_1_tanh_leaky_-03-0.18153.hdf5\n",
      "13/13 [==============================] - 1s 70ms/step - loss: 0.0420 - val_loss: 0.1815\n",
      "Epoch 4/100\n",
      "13/13 [==============================] - ETA: 0s - loss: 0.0358\n",
      "Epoch 00004: saving model to ../weights/bitcoin2015to2017_close_LSTM_1_tanh_leaky_-04-0.15562.hdf5\n",
      "13/13 [==============================] - 1s 86ms/step - loss: 0.0358 - val_loss: 0.1556\n",
      "Epoch 5/100\n",
      "13/13 [==============================] - ETA: 0s - loss: 0.0338\n",
      "Epoch 00005: saving model to ../weights/bitcoin2015to2017_close_LSTM_1_tanh_leaky_-05-0.15060.hdf5\n",
      "13/13 [==============================] - 1s 87ms/step - loss: 0.0338 - val_loss: 0.1506\n",
      "Epoch 6/100\n",
      "13/13 [==============================] - ETA: 0s - loss: 0.0329\n",
      "Epoch 00006: saving model to ../weights/bitcoin2015to2017_close_LSTM_1_tanh_leaky_-06-0.07362.hdf5\n",
      "13/13 [==============================] - 1s 83ms/step - loss: 0.0329 - val_loss: 0.0736\n",
      "Epoch 7/100\n",
      "13/13 [==============================] - ETA: 0s - loss: 0.0288\n",
      "Epoch 00007: saving model to ../weights/bitcoin2015to2017_close_LSTM_1_tanh_leaky_-07-0.07964.hdf5\n",
      "13/13 [==============================] - 1s 78ms/step - loss: 0.0288 - val_loss: 0.0796\n",
      "Epoch 8/100\n",
      "13/13 [==============================] - ETA: 0s - loss: 0.0271\n",
      "Epoch 00008: saving model to ../weights/bitcoin2015to2017_close_LSTM_1_tanh_leaky_-08-0.05946.hdf5\n",
      "13/13 [==============================] - 1s 83ms/step - loss: 0.0271 - val_loss: 0.0595\n",
      "Epoch 9/100\n",
      "13/13 [==============================] - ETA: 0s - loss: 0.0302\n",
      "Epoch 00009: saving model to ../weights/bitcoin2015to2017_close_LSTM_1_tanh_leaky_-09-0.07173.hdf5\n",
      "13/13 [==============================] - 1s 71ms/step - loss: 0.0302 - val_loss: 0.0717\n",
      "Epoch 10/100\n",
      "13/13 [==============================] - ETA: 0s - loss: 0.0212\n",
      "Epoch 00010: saving model to ../weights/bitcoin2015to2017_close_LSTM_1_tanh_leaky_-10-0.09068.hdf5\n",
      "13/13 [==============================] - 1s 69ms/step - loss: 0.0212 - val_loss: 0.0907\n",
      "Epoch 11/100\n",
      "13/13 [==============================] - ETA: 0s - loss: 0.0190\n",
      "Epoch 00011: saving model to ../weights/bitcoin2015to2017_close_LSTM_1_tanh_leaky_-11-0.06840.hdf5\n",
      "13/13 [==============================] - 1s 69ms/step - loss: 0.0190 - val_loss: 0.0684\n",
      "Epoch 12/100\n",
      "13/13 [==============================] - ETA: 0s - loss: 0.0209\n",
      "Epoch 00012: saving model to ../weights/bitcoin2015to2017_close_LSTM_1_tanh_leaky_-12-0.04894.hdf5\n",
      "13/13 [==============================] - 1s 70ms/step - loss: 0.0209 - val_loss: 0.0489\n",
      "Epoch 13/100\n",
      "13/13 [==============================] - ETA: 0s - loss: 0.0188\n",
      "Epoch 00013: saving model to ../weights/bitcoin2015to2017_close_LSTM_1_tanh_leaky_-13-0.05141.hdf5\n",
      "13/13 [==============================] - 1s 60ms/step - loss: 0.0188 - val_loss: 0.0514\n",
      "Epoch 14/100\n",
      "12/13 [==========================>...] - ETA: 0s - loss: 0.0217\n",
      "Epoch 00014: saving model to ../weights/bitcoin2015to2017_close_LSTM_1_tanh_leaky_-14-0.04507.hdf5\n",
      "13/13 [==============================] - 1s 67ms/step - loss: 0.0214 - val_loss: 0.0451\n",
      "Epoch 15/100\n",
      "12/13 [==========================>...] - ETA: 0s - loss: 0.0191\n",
      "Epoch 00015: saving model to ../weights/bitcoin2015to2017_close_LSTM_1_tanh_leaky_-15-0.04265.hdf5\n",
      "13/13 [==============================] - 1s 57ms/step - loss: 0.0189 - val_loss: 0.0427\n",
      "Epoch 16/100\n",
      "13/13 [==============================] - ETA: 0s - loss: 0.0165\n",
      "Epoch 00016: saving model to ../weights/bitcoin2015to2017_close_LSTM_1_tanh_leaky_-16-0.05316.hdf5\n",
      "13/13 [==============================] - 1s 70ms/step - loss: 0.0165 - val_loss: 0.0532\n",
      "Epoch 17/100\n",
      "13/13 [==============================] - ETA: 0s - loss: 0.0180\n",
      "Epoch 00017: saving model to ../weights/bitcoin2015to2017_close_LSTM_1_tanh_leaky_-17-0.03486.hdf5\n",
      "13/13 [==============================] - 1s 57ms/step - loss: 0.0180 - val_loss: 0.0349\n",
      "Epoch 18/100\n",
      "13/13 [==============================] - ETA: 0s - loss: 0.0170\n",
      "Epoch 00018: saving model to ../weights/bitcoin2015to2017_close_LSTM_1_tanh_leaky_-18-0.05166.hdf5\n",
      "13/13 [==============================] - 1s 66ms/step - loss: 0.0170 - val_loss: 0.0517\n",
      "Epoch 19/100\n",
      "12/13 [==========================>...] - ETA: 0s - loss: 0.0148\n",
      "Epoch 00019: saving model to ../weights/bitcoin2015to2017_close_LSTM_1_tanh_leaky_-19-0.04744.hdf5\n",
      "13/13 [==============================] - 1s 58ms/step - loss: 0.0146 - val_loss: 0.0474\n",
      "Epoch 20/100\n",
      "13/13 [==============================] - ETA: 0s - loss: 0.0165\n",
      "Epoch 00020: saving model to ../weights/bitcoin2015to2017_close_LSTM_1_tanh_leaky_-20-0.01873.hdf5\n",
      "13/13 [==============================] - 1s 66ms/step - loss: 0.0165 - val_loss: 0.0187\n",
      "Epoch 21/100\n",
      "13/13 [==============================] - ETA: 0s - loss: 0.0127\n",
      "Epoch 00021: saving model to ../weights/bitcoin2015to2017_close_LSTM_1_tanh_leaky_-21-0.02733.hdf5\n",
      "13/13 [==============================] - 1s 63ms/step - loss: 0.0127 - val_loss: 0.0273\n",
      "Epoch 22/100\n",
      "13/13 [==============================] - ETA: 0s - loss: 0.0137\n",
      "Epoch 00022: saving model to ../weights/bitcoin2015to2017_close_LSTM_1_tanh_leaky_-22-0.02750.hdf5\n",
      "13/13 [==============================] - 1s 65ms/step - loss: 0.0137 - val_loss: 0.0275\n",
      "Epoch 23/100\n",
      "12/13 [==========================>...] - ETA: 0s - loss: 0.0111\n",
      "Epoch 00023: saving model to ../weights/bitcoin2015to2017_close_LSTM_1_tanh_leaky_-23-0.01398.hdf5\n",
      "13/13 [==============================] - 1s 66ms/step - loss: 0.0109 - val_loss: 0.0140\n",
      "Epoch 24/100\n",
      "13/13 [==============================] - ETA: 0s - loss: 0.0145\n",
      "Epoch 00024: saving model to ../weights/bitcoin2015to2017_close_LSTM_1_tanh_leaky_-24-0.02270.hdf5\n",
      "13/13 [==============================] - 1s 61ms/step - loss: 0.0145 - val_loss: 0.0227\n",
      "Epoch 25/100\n",
      "13/13 [==============================] - ETA: 0s - loss: 0.0127\n",
      "Epoch 00025: saving model to ../weights/bitcoin2015to2017_close_LSTM_1_tanh_leaky_-25-0.04539.hdf5\n",
      "13/13 [==============================] - 1s 68ms/step - loss: 0.0127 - val_loss: 0.0454\n",
      "Epoch 26/100\n",
      "13/13 [==============================] - ETA: 0s - loss: 0.0135\n",
      "Epoch 00026: saving model to ../weights/bitcoin2015to2017_close_LSTM_1_tanh_leaky_-26-0.01899.hdf5\n",
      "13/13 [==============================] - 1s 62ms/step - loss: 0.0135 - val_loss: 0.0190\n",
      "Epoch 27/100\n",
      "12/13 [==========================>...] - ETA: 0s - loss: 0.0121\n",
      "Epoch 00027: saving model to ../weights/bitcoin2015to2017_close_LSTM_1_tanh_leaky_-27-0.00530.hdf5\n",
      "13/13 [==============================] - 1s 64ms/step - loss: 0.0120 - val_loss: 0.0053\n",
      "Epoch 28/100\n",
      "13/13 [==============================] - ETA: 0s - loss: 0.0113\n",
      "Epoch 00028: saving model to ../weights/bitcoin2015to2017_close_LSTM_1_tanh_leaky_-28-0.01819.hdf5\n",
      "13/13 [==============================] - 1s 78ms/step - loss: 0.0113 - val_loss: 0.0182\n",
      "Epoch 29/100\n",
      "13/13 [==============================] - ETA: 0s - loss: 0.0119\n",
      "Epoch 00029: saving model to ../weights/bitcoin2015to2017_close_LSTM_1_tanh_leaky_-29-0.00681.hdf5\n",
      "13/13 [==============================] - 1s 66ms/step - loss: 0.0119 - val_loss: 0.0068\n",
      "Epoch 30/100\n",
      "12/13 [==========================>...] - ETA: 0s - loss: 0.0151\n",
      "Epoch 00030: saving model to ../weights/bitcoin2015to2017_close_LSTM_1_tanh_leaky_-30-0.03660.hdf5\n",
      "13/13 [==============================] - 1s 58ms/step - loss: 0.0155 - val_loss: 0.0366\n",
      "Epoch 31/100\n",
      "12/13 [==========================>...] - ETA: 0s - loss: 0.0144\n",
      "Epoch 00031: saving model to ../weights/bitcoin2015to2017_close_LSTM_1_tanh_leaky_-31-0.03596.hdf5\n",
      "13/13 [==============================] - 1s 73ms/step - loss: 0.0144 - val_loss: 0.0360\n",
      "Epoch 32/100\n"
     ]
    },
    {
     "name": "stdout",
     "output_type": "stream",
     "text": [
      "12/13 [==========================>...] - ETA: 0s - loss: 0.0092\n",
      "Epoch 00032: saving model to ../weights/bitcoin2015to2017_close_LSTM_1_tanh_leaky_-32-0.04147.hdf5\n",
      "13/13 [==============================] - 1s 60ms/step - loss: 0.0091 - val_loss: 0.0415\n",
      "Epoch 33/100\n",
      "13/13 [==============================] - ETA: 0s - loss: 0.0100\n",
      "Epoch 00033: saving model to ../weights/bitcoin2015to2017_close_LSTM_1_tanh_leaky_-33-0.03255.hdf5\n",
      "13/13 [==============================] - 1s 73ms/step - loss: 0.0100 - val_loss: 0.0325\n",
      "Epoch 34/100\n",
      "13/13 [==============================] - ETA: 0s - loss: 0.0089\n",
      "Epoch 00034: saving model to ../weights/bitcoin2015to2017_close_LSTM_1_tanh_leaky_-34-0.01886.hdf5\n",
      "13/13 [==============================] - 1s 55ms/step - loss: 0.0089 - val_loss: 0.0189\n",
      "Epoch 35/100\n",
      "13/13 [==============================] - ETA: 0s - loss: 0.0093\n",
      "Epoch 00035: saving model to ../weights/bitcoin2015to2017_close_LSTM_1_tanh_leaky_-35-0.03340.hdf5\n",
      "13/13 [==============================] - 1s 68ms/step - loss: 0.0093 - val_loss: 0.0334\n",
      "Epoch 36/100\n",
      "13/13 [==============================] - ETA: 0s - loss: 0.0098\n",
      "Epoch 00036: saving model to ../weights/bitcoin2015to2017_close_LSTM_1_tanh_leaky_-36-0.01706.hdf5\n",
      "13/13 [==============================] - 1s 62ms/step - loss: 0.0098 - val_loss: 0.0171\n",
      "Epoch 37/100\n",
      "13/13 [==============================] - ETA: 0s - loss: 0.0095\n",
      "Epoch 00037: saving model to ../weights/bitcoin2015to2017_close_LSTM_1_tanh_leaky_-37-0.00870.hdf5\n",
      "13/13 [==============================] - 1s 62ms/step - loss: 0.0095 - val_loss: 0.0087\n",
      "Epoch 38/100\n",
      "13/13 [==============================] - ETA: 0s - loss: 0.0128\n",
      "Epoch 00038: saving model to ../weights/bitcoin2015to2017_close_LSTM_1_tanh_leaky_-38-0.00774.hdf5\n",
      "13/13 [==============================] - 1s 69ms/step - loss: 0.0128 - val_loss: 0.0077\n",
      "Epoch 39/100\n",
      "13/13 [==============================] - ETA: 0s - loss: 0.0076\n",
      "Epoch 00039: saving model to ../weights/bitcoin2015to2017_close_LSTM_1_tanh_leaky_-39-0.01009.hdf5\n",
      "13/13 [==============================] - 1s 59ms/step - loss: 0.0076 - val_loss: 0.0101\n",
      "Epoch 40/100\n",
      "13/13 [==============================] - ETA: 0s - loss: 0.0101\n",
      "Epoch 00040: saving model to ../weights/bitcoin2015to2017_close_LSTM_1_tanh_leaky_-40-0.00721.hdf5\n",
      "13/13 [==============================] - 1s 67ms/step - loss: 0.0101 - val_loss: 0.0072\n",
      "Epoch 41/100\n",
      "13/13 [==============================] - ETA: 0s - loss: 0.0110\n",
      "Epoch 00041: saving model to ../weights/bitcoin2015to2017_close_LSTM_1_tanh_leaky_-41-0.00378.hdf5\n",
      "13/13 [==============================] - 1s 63ms/step - loss: 0.0110 - val_loss: 0.0038\n",
      "Epoch 42/100\n",
      "13/13 [==============================] - ETA: 0s - loss: 0.0090\n",
      "Epoch 00042: saving model to ../weights/bitcoin2015to2017_close_LSTM_1_tanh_leaky_-42-0.00248.hdf5\n",
      "13/13 [==============================] - 1s 65ms/step - loss: 0.0090 - val_loss: 0.0025\n",
      "Epoch 43/100\n",
      "13/13 [==============================] - ETA: 0s - loss: 0.0068\n",
      "Epoch 00043: saving model to ../weights/bitcoin2015to2017_close_LSTM_1_tanh_leaky_-43-0.01456.hdf5\n",
      "13/13 [==============================] - 1s 65ms/step - loss: 0.0068 - val_loss: 0.0146\n",
      "Epoch 44/100\n",
      "13/13 [==============================] - ETA: 0s - loss: 0.0075\n",
      "Epoch 00044: saving model to ../weights/bitcoin2015to2017_close_LSTM_1_tanh_leaky_-44-0.02329.hdf5\n",
      "13/13 [==============================] - 1s 58ms/step - loss: 0.0075 - val_loss: 0.0233\n",
      "Epoch 45/100\n",
      "12/13 [==========================>...] - ETA: 0s - loss: 0.0081\n",
      "Epoch 00045: saving model to ../weights/bitcoin2015to2017_close_LSTM_1_tanh_leaky_-45-0.00894.hdf5\n",
      "13/13 [==============================] - 1s 72ms/step - loss: 0.0081 - val_loss: 0.0089\n",
      "Epoch 46/100\n",
      "13/13 [==============================] - ETA: 0s - loss: 0.0083\n",
      "Epoch 00046: saving model to ../weights/bitcoin2015to2017_close_LSTM_1_tanh_leaky_-46-0.01145.hdf5\n",
      "13/13 [==============================] - 1s 70ms/step - loss: 0.0083 - val_loss: 0.0114\n",
      "Epoch 47/100\n",
      "12/13 [==========================>...] - ETA: 0s - loss: 0.0097\n",
      "Epoch 00047: saving model to ../weights/bitcoin2015to2017_close_LSTM_1_tanh_leaky_-47-0.01127.hdf5\n",
      "13/13 [==============================] - 1s 68ms/step - loss: 0.0097 - val_loss: 0.0113\n",
      "Epoch 48/100\n",
      "12/13 [==========================>...] - ETA: 0s - loss: 0.0123\n",
      "Epoch 00048: saving model to ../weights/bitcoin2015to2017_close_LSTM_1_tanh_leaky_-48-0.00999.hdf5\n",
      "13/13 [==============================] - 1s 58ms/step - loss: 0.0129 - val_loss: 0.0100\n",
      "Epoch 49/100\n",
      "13/13 [==============================] - ETA: 0s - loss: 0.0115\n",
      "Epoch 00049: saving model to ../weights/bitcoin2015to2017_close_LSTM_1_tanh_leaky_-49-0.04410.hdf5\n",
      "13/13 [==============================] - 1s 68ms/step - loss: 0.0115 - val_loss: 0.0441\n",
      "Epoch 50/100\n",
      "13/13 [==============================] - ETA: 0s - loss: 0.0085\n",
      "Epoch 00050: saving model to ../weights/bitcoin2015to2017_close_LSTM_1_tanh_leaky_-50-0.00426.hdf5\n",
      "13/13 [==============================] - 1s 59ms/step - loss: 0.0085 - val_loss: 0.0043\n",
      "Epoch 51/100\n",
      "13/13 [==============================] - ETA: 0s - loss: 0.0082\n",
      "Epoch 00051: saving model to ../weights/bitcoin2015to2017_close_LSTM_1_tanh_leaky_-51-0.00866.hdf5\n",
      "13/13 [==============================] - 1s 67ms/step - loss: 0.0082 - val_loss: 0.0087\n",
      "Epoch 52/100\n",
      "12/13 [==========================>...] - ETA: 0s - loss: 0.0082\n",
      "Epoch 00052: saving model to ../weights/bitcoin2015to2017_close_LSTM_1_tanh_leaky_-52-0.02003.hdf5\n",
      "13/13 [==============================] - 1s 60ms/step - loss: 0.0081 - val_loss: 0.0200\n",
      "Epoch 53/100\n",
      "13/13 [==============================] - ETA: 0s - loss: 0.0098\n",
      "Epoch 00053: saving model to ../weights/bitcoin2015to2017_close_LSTM_1_tanh_leaky_-53-0.01410.hdf5\n",
      "13/13 [==============================] - 1s 69ms/step - loss: 0.0098 - val_loss: 0.0141\n",
      "Epoch 54/100\n",
      "13/13 [==============================] - ETA: 0s - loss: 0.0075\n",
      "Epoch 00054: saving model to ../weights/bitcoin2015to2017_close_LSTM_1_tanh_leaky_-54-0.01102.hdf5\n",
      "13/13 [==============================] - 1s 62ms/step - loss: 0.0075 - val_loss: 0.0110\n",
      "Epoch 55/100\n",
      "13/13 [==============================] - ETA: 0s - loss: 0.0070\n",
      "Epoch 00055: saving model to ../weights/bitcoin2015to2017_close_LSTM_1_tanh_leaky_-55-0.00099.hdf5\n",
      "13/13 [==============================] - 1s 69ms/step - loss: 0.0070 - val_loss: 9.9360e-04\n",
      "Epoch 56/100\n",
      "12/13 [==========================>...] - ETA: 0s - loss: 0.0071\n",
      "Epoch 00056: saving model to ../weights/bitcoin2015to2017_close_LSTM_1_tanh_leaky_-56-0.00314.hdf5\n",
      "13/13 [==============================] - 1s 58ms/step - loss: 0.0070 - val_loss: 0.0031\n",
      "Epoch 57/100\n",
      "13/13 [==============================] - ETA: 0s - loss: 0.0053\n",
      "Epoch 00057: saving model to ../weights/bitcoin2015to2017_close_LSTM_1_tanh_leaky_-57-0.00761.hdf5\n",
      "13/13 [==============================] - 1s 63ms/step - loss: 0.0053 - val_loss: 0.0076\n",
      "Epoch 58/100\n",
      "13/13 [==============================] - ETA: 0s - loss: 0.0057\n",
      "Epoch 00058: saving model to ../weights/bitcoin2015to2017_close_LSTM_1_tanh_leaky_-58-0.01630.hdf5\n",
      "13/13 [==============================] - 1s 63ms/step - loss: 0.0057 - val_loss: 0.0163\n",
      "Epoch 59/100\n",
      "13/13 [==============================] - ETA: 0s - loss: 0.0086\n",
      "Epoch 00059: saving model to ../weights/bitcoin2015to2017_close_LSTM_1_tanh_leaky_-59-0.01046.hdf5\n",
      "13/13 [==============================] - 1s 64ms/step - loss: 0.0086 - val_loss: 0.0105\n",
      "Epoch 60/100\n",
      "13/13 [==============================] - ETA: 0s - loss: 0.0077\n",
      "Epoch 00060: saving model to ../weights/bitcoin2015to2017_close_LSTM_1_tanh_leaky_-60-0.00268.hdf5\n",
      "13/13 [==============================] - 1s 69ms/step - loss: 0.0077 - val_loss: 0.0027\n",
      "Epoch 61/100\n",
      "13/13 [==============================] - ETA: 0s - loss: 0.0087\n",
      "Epoch 00061: saving model to ../weights/bitcoin2015to2017_close_LSTM_1_tanh_leaky_-61-0.00965.hdf5\n",
      "13/13 [==============================] - 1s 66ms/step - loss: 0.0087 - val_loss: 0.0097\n",
      "Epoch 62/100\n",
      "13/13 [==============================] - ETA: 0s - loss: 0.0072\n",
      "Epoch 00062: saving model to ../weights/bitcoin2015to2017_close_LSTM_1_tanh_leaky_-62-0.01535.hdf5\n",
      "13/13 [==============================] - 1s 61ms/step - loss: 0.0072 - val_loss: 0.0154\n",
      "Epoch 63/100\n"
     ]
    },
    {
     "name": "stdout",
     "output_type": "stream",
     "text": [
      "13/13 [==============================] - ETA: 0s - loss: 0.0066\n",
      "Epoch 00063: saving model to ../weights/bitcoin2015to2017_close_LSTM_1_tanh_leaky_-63-0.01024.hdf5\n",
      "13/13 [==============================] - 1s 72ms/step - loss: 0.0066 - val_loss: 0.0102\n",
      "Epoch 64/100\n",
      "12/13 [==========================>...] - ETA: 0s - loss: 0.0057\n",
      "Epoch 00064: saving model to ../weights/bitcoin2015to2017_close_LSTM_1_tanh_leaky_-64-0.01108.hdf5\n",
      "13/13 [==============================] - 1s 72ms/step - loss: 0.0057 - val_loss: 0.0111\n",
      "Epoch 65/100\n",
      "13/13 [==============================] - ETA: 0s - loss: 0.0058\n",
      "Epoch 00065: saving model to ../weights/bitcoin2015to2017_close_LSTM_1_tanh_leaky_-65-0.00478.hdf5\n",
      "13/13 [==============================] - 1s 71ms/step - loss: 0.0058 - val_loss: 0.0048\n",
      "Epoch 66/100\n",
      "12/13 [==========================>...] - ETA: 0s - loss: 0.0070\n",
      "Epoch 00066: saving model to ../weights/bitcoin2015to2017_close_LSTM_1_tanh_leaky_-66-0.01355.hdf5\n",
      "13/13 [==============================] - 1s 82ms/step - loss: 0.0070 - val_loss: 0.0135\n",
      "Epoch 67/100\n",
      "12/13 [==========================>...] - ETA: 0s - loss: 0.0104\n",
      "Epoch 00067: saving model to ../weights/bitcoin2015to2017_close_LSTM_1_tanh_leaky_-67-0.00693.hdf5\n",
      "13/13 [==============================] - 1s 71ms/step - loss: 0.0104 - val_loss: 0.0069\n",
      "Epoch 68/100\n",
      "13/13 [==============================] - ETA: 0s - loss: 0.0058\n",
      "Epoch 00068: saving model to ../weights/bitcoin2015to2017_close_LSTM_1_tanh_leaky_-68-0.00333.hdf5\n",
      "13/13 [==============================] - 1s 72ms/step - loss: 0.0058 - val_loss: 0.0033\n",
      "Epoch 69/100\n",
      "13/13 [==============================] - ETA: 0s - loss: 0.0052\n",
      "Epoch 00069: saving model to ../weights/bitcoin2015to2017_close_LSTM_1_tanh_leaky_-69-0.00390.hdf5\n",
      "13/13 [==============================] - 1s 64ms/step - loss: 0.0052 - val_loss: 0.0039\n",
      "Epoch 70/100\n",
      "13/13 [==============================] - ETA: 0s - loss: 0.0073\n",
      "Epoch 00070: saving model to ../weights/bitcoin2015to2017_close_LSTM_1_tanh_leaky_-70-0.00633.hdf5\n",
      "13/13 [==============================] - 1s 62ms/step - loss: 0.0073 - val_loss: 0.0063\n",
      "Epoch 71/100\n",
      "13/13 [==============================] - ETA: 0s - loss: 0.0071\n",
      "Epoch 00071: saving model to ../weights/bitcoin2015to2017_close_LSTM_1_tanh_leaky_-71-0.02369.hdf5\n",
      "13/13 [==============================] - 1s 69ms/step - loss: 0.0071 - val_loss: 0.0237\n",
      "Epoch 72/100\n",
      "13/13 [==============================] - ETA: 0s - loss: 0.0067\n",
      "Epoch 00072: saving model to ../weights/bitcoin2015to2017_close_LSTM_1_tanh_leaky_-72-0.01567.hdf5\n",
      "13/13 [==============================] - 1s 86ms/step - loss: 0.0067 - val_loss: 0.0157\n",
      "Epoch 73/100\n",
      "13/13 [==============================] - ETA: 0s - loss: 0.0097\n",
      "Epoch 00073: saving model to ../weights/bitcoin2015to2017_close_LSTM_1_tanh_leaky_-73-0.00224.hdf5\n",
      "13/13 [==============================] - 1s 86ms/step - loss: 0.0097 - val_loss: 0.0022\n",
      "Epoch 74/100\n",
      "13/13 [==============================] - ETA: 0s - loss: 0.0088\n",
      "Epoch 00074: saving model to ../weights/bitcoin2015to2017_close_LSTM_1_tanh_leaky_-74-0.00159.hdf5\n",
      "13/13 [==============================] - 1s 75ms/step - loss: 0.0088 - val_loss: 0.0016\n",
      "Epoch 75/100\n",
      "12/13 [==========================>...] - ETA: 0s - loss: 0.0072\n",
      "Epoch 00075: saving model to ../weights/bitcoin2015to2017_close_LSTM_1_tanh_leaky_-75-0.00762.hdf5\n",
      "13/13 [==============================] - 1s 57ms/step - loss: 0.0071 - val_loss: 0.0076\n",
      "Epoch 76/100\n",
      "13/13 [==============================] - ETA: 0s - loss: 0.0058\n",
      "Epoch 00076: saving model to ../weights/bitcoin2015to2017_close_LSTM_1_tanh_leaky_-76-0.00948.hdf5\n",
      "13/13 [==============================] - 1s 69ms/step - loss: 0.0058 - val_loss: 0.0095\n",
      "Epoch 77/100\n",
      "13/13 [==============================] - ETA: 0s - loss: 0.0062\n",
      "Epoch 00077: saving model to ../weights/bitcoin2015to2017_close_LSTM_1_tanh_leaky_-77-0.00290.hdf5\n",
      "13/13 [==============================] - 1s 59ms/step - loss: 0.0062 - val_loss: 0.0029\n",
      "Epoch 78/100\n",
      "13/13 [==============================] - ETA: 0s - loss: 0.0058\n",
      "Epoch 00078: saving model to ../weights/bitcoin2015to2017_close_LSTM_1_tanh_leaky_-78-0.00693.hdf5\n",
      "13/13 [==============================] - 1s 62ms/step - loss: 0.0058 - val_loss: 0.0069\n",
      "Epoch 79/100\n",
      "13/13 [==============================] - ETA: 0s - loss: 0.0075\n",
      "Epoch 00079: saving model to ../weights/bitcoin2015to2017_close_LSTM_1_tanh_leaky_-79-0.00926.hdf5\n",
      "13/13 [==============================] - 1s 77ms/step - loss: 0.0075 - val_loss: 0.0093\n",
      "Epoch 80/100\n",
      "13/13 [==============================] - ETA: 0s - loss: 0.0108\n",
      "Epoch 00080: saving model to ../weights/bitcoin2015to2017_close_LSTM_1_tanh_leaky_-80-0.05605.hdf5\n",
      "13/13 [==============================] - 1s 78ms/step - loss: 0.0108 - val_loss: 0.0560\n",
      "Epoch 81/100\n",
      "13/13 [==============================] - ETA: 0s - loss: 0.0124\n",
      "Epoch 00081: saving model to ../weights/bitcoin2015to2017_close_LSTM_1_tanh_leaky_-81-0.04071.hdf5\n",
      "13/13 [==============================] - 1s 65ms/step - loss: 0.0124 - val_loss: 0.0407\n",
      "Epoch 82/100\n",
      "13/13 [==============================] - ETA: 0s - loss: 0.0082\n",
      "Epoch 00082: saving model to ../weights/bitcoin2015to2017_close_LSTM_1_tanh_leaky_-82-0.02063.hdf5\n",
      "13/13 [==============================] - 1s 63ms/step - loss: 0.0082 - val_loss: 0.0206\n",
      "Epoch 83/100\n",
      "13/13 [==============================] - ETA: 0s - loss: 0.0122\n",
      "Epoch 00083: saving model to ../weights/bitcoin2015to2017_close_LSTM_1_tanh_leaky_-83-0.01438.hdf5\n",
      "13/13 [==============================] - 1s 72ms/step - loss: 0.0122 - val_loss: 0.0144\n",
      "Epoch 84/100\n",
      "12/13 [==========================>...] - ETA: 0s - loss: 0.0079\n",
      "Epoch 00084: saving model to ../weights/bitcoin2015to2017_close_LSTM_1_tanh_leaky_-84-0.02188.hdf5\n",
      "13/13 [==============================] - 1s 71ms/step - loss: 0.0079 - val_loss: 0.0219\n",
      "Epoch 85/100\n",
      "13/13 [==============================] - ETA: 0s - loss: 0.0105\n",
      "Epoch 00085: saving model to ../weights/bitcoin2015to2017_close_LSTM_1_tanh_leaky_-85-0.01601.hdf5\n",
      "13/13 [==============================] - 1s 74ms/step - loss: 0.0105 - val_loss: 0.0160\n",
      "Epoch 86/100\n",
      "13/13 [==============================] - ETA: 0s - loss: 0.0061\n",
      "Epoch 00086: saving model to ../weights/bitcoin2015to2017_close_LSTM_1_tanh_leaky_-86-0.00727.hdf5\n",
      "13/13 [==============================] - 1s 57ms/step - loss: 0.0061 - val_loss: 0.0073\n",
      "Epoch 87/100\n",
      "13/13 [==============================] - ETA: 0s - loss: 0.0071\n",
      "Epoch 00087: saving model to ../weights/bitcoin2015to2017_close_LSTM_1_tanh_leaky_-87-0.00984.hdf5\n",
      "13/13 [==============================] - 1s 71ms/step - loss: 0.0071 - val_loss: 0.0098\n",
      "Epoch 88/100\n",
      "13/13 [==============================] - ETA: 0s - loss: 0.0086\n",
      "Epoch 00088: saving model to ../weights/bitcoin2015to2017_close_LSTM_1_tanh_leaky_-88-0.00648.hdf5\n",
      "13/13 [==============================] - 1s 74ms/step - loss: 0.0086 - val_loss: 0.0065\n",
      "Epoch 89/100\n",
      "12/13 [==========================>...] - ETA: 0s - loss: 0.0041\n",
      "Epoch 00089: saving model to ../weights/bitcoin2015to2017_close_LSTM_1_tanh_leaky_-89-0.00641.hdf5\n",
      "13/13 [==============================] - 1s 56ms/step - loss: 0.0041 - val_loss: 0.0064\n",
      "Epoch 90/100\n",
      "13/13 [==============================] - ETA: 0s - loss: 0.0074\n",
      "Epoch 00090: saving model to ../weights/bitcoin2015to2017_close_LSTM_1_tanh_leaky_-90-0.00503.hdf5\n",
      "13/13 [==============================] - 1s 70ms/step - loss: 0.0074 - val_loss: 0.0050\n",
      "Epoch 91/100\n",
      "12/13 [==========================>...] - ETA: 0s - loss: 0.0060\n",
      "Epoch 00091: saving model to ../weights/bitcoin2015to2017_close_LSTM_1_tanh_leaky_-91-0.00522.hdf5\n",
      "13/13 [==============================] - 1s 57ms/step - loss: 0.0059 - val_loss: 0.0052\n",
      "Epoch 92/100\n",
      "13/13 [==============================] - ETA: 0s - loss: 0.0060\n",
      "Epoch 00092: saving model to ../weights/bitcoin2015to2017_close_LSTM_1_tanh_leaky_-92-0.00811.hdf5\n",
      "13/13 [==============================] - 1s 77ms/step - loss: 0.0060 - val_loss: 0.0081\n",
      "Epoch 93/100\n",
      "13/13 [==============================] - ETA: 0s - loss: 0.0073\n",
      "Epoch 00093: saving model to ../weights/bitcoin2015to2017_close_LSTM_1_tanh_leaky_-93-0.00703.hdf5\n",
      "13/13 [==============================] - 1s 60ms/step - loss: 0.0073 - val_loss: 0.0070\n",
      "Epoch 94/100\n"
     ]
    },
    {
     "name": "stdout",
     "output_type": "stream",
     "text": [
      "13/13 [==============================] - ETA: 0s - loss: 0.0071\n",
      "Epoch 00094: saving model to ../weights/bitcoin2015to2017_close_LSTM_1_tanh_leaky_-94-0.00234.hdf5\n",
      "13/13 [==============================] - 1s 72ms/step - loss: 0.0071 - val_loss: 0.0023\n",
      "Epoch 95/100\n",
      "13/13 [==============================] - ETA: 0s - loss: 0.0051\n",
      "Epoch 00095: saving model to ../weights/bitcoin2015to2017_close_LSTM_1_tanh_leaky_-95-0.00164.hdf5\n",
      "13/13 [==============================] - 1s 58ms/step - loss: 0.0051 - val_loss: 0.0016\n",
      "Epoch 96/100\n",
      "13/13 [==============================] - ETA: 0s - loss: 0.0039\n",
      "Epoch 00096: saving model to ../weights/bitcoin2015to2017_close_LSTM_1_tanh_leaky_-96-0.00222.hdf5\n",
      "13/13 [==============================] - 1s 65ms/step - loss: 0.0039 - val_loss: 0.0022\n",
      "Epoch 97/100\n",
      "13/13 [==============================] - ETA: 0s - loss: 0.0056\n",
      "Epoch 00097: saving model to ../weights/bitcoin2015to2017_close_LSTM_1_tanh_leaky_-97-0.00143.hdf5\n",
      "13/13 [==============================] - 1s 74ms/step - loss: 0.0056 - val_loss: 0.0014\n",
      "Epoch 98/100\n",
      "13/13 [==============================] - ETA: 0s - loss: 0.0056\n",
      "Epoch 00098: saving model to ../weights/bitcoin2015to2017_close_LSTM_1_tanh_leaky_-98-0.00205.hdf5\n",
      "13/13 [==============================] - 1s 71ms/step - loss: 0.0056 - val_loss: 0.0021\n",
      "Epoch 99/100\n",
      "13/13 [==============================] - ETA: 0s - loss: 0.0074\n",
      "Epoch 00099: saving model to ../weights/bitcoin2015to2017_close_LSTM_1_tanh_leaky_-99-0.00949.hdf5\n",
      "13/13 [==============================] - 1s 68ms/step - loss: 0.0074 - val_loss: 0.0095\n",
      "Epoch 100/100\n",
      "13/13 [==============================] - ETA: 0s - loss: 0.0056\n",
      "Epoch 00100: saving model to ../weights/bitcoin2015to2017_close_LSTM_1_tanh_leaky_-100-0.00649.hdf5\n",
      "13/13 [==============================] - 1s 66ms/step - loss: 0.0056 - val_loss: 0.0065\n"
     ]
    },
    {
     "data": {
      "text/plain": [
       "<tensorflow.python.keras.callbacks.History at 0x2beaa8708b0>"
      ]
     },
     "execution_count": 107,
     "metadata": {},
     "output_type": "execute_result"
    }
   ],
   "source": [
    "#build model\n",
    "model = Sequential()\n",
    "model.add(LSTM(units=units,activation='tanh', input_shape=(step_size,nb_features),return_sequences=False))\n",
    "model.add(Dropout(0.8))\n",
    "model.add(Dense(output_size))\n",
    "model.add(LeakyReLU())\n",
    "model.compile(loss='mse', optimizer='adam')\n",
    "model.fit(training_datas, training_labels, batch_size=batch_size,validation_data=(validation_datas,validation_labels), epochs = epochs, callbacks=[CSVLogger(output_file_name+'.csv', append=True),ModelCheckpoint('../weights/'+output_file_name+'-{epoch:02d}-{val_loss:.5f}.hdf5', monitor='val_loss', verbose=1,mode='min')])\n",
    "\n",
    "\n"
   ]
  },
  {
   "cell_type": "code",
   "execution_count": 39,
   "id": "b4464770",
   "metadata": {},
   "outputs": [
    {
     "data": {
      "text/plain": [
       "(525599, 1)"
      ]
     },
     "execution_count": 39,
     "metadata": {},
     "output_type": "execute_result"
    }
   ],
   "source": [
    "original_datas.shape"
   ]
  },
  {
   "cell_type": "code",
   "execution_count": 108,
   "id": "348e2a5a",
   "metadata": {},
   "outputs": [
    {
     "name": "stdout",
     "output_type": "stream",
     "text": [
      "(1, 25, 16)\n"
     ]
    }
   ],
   "source": [
    "\n",
    "predicted = model.predict(validation_datas)\n",
    "predicted_inverted = []\n",
    "\n",
    "# we only care about the 0 axis, close price data\n",
    "scaler=MinMaxScaler()\n",
    "\n",
    "scaler.fit(original_datas[:,0].reshape(-1,1))\n",
    "predicted_inverted.append(scaler.inverse_transform(predicted))\n",
    "print(np.array(predicted_inverted).shape)\n"
   ]
  },
  {
   "cell_type": "code",
   "execution_count": 109,
   "id": "566ec63e",
   "metadata": {},
   "outputs": [
    {
     "name": "stdout",
     "output_type": "stream",
     "text": [
      "(400,)\n"
     ]
    }
   ],
   "source": [
    "#get only the close data\n",
    "ground_true = ground_true[:,:,0].reshape(-1)\n",
    "ground_true_times = ground_true_times.reshape(-1)\n",
    "ground_true_times = pd.to_datetime(ground_true_times, unit='s')\n",
    "# since we are appending in the first dimension\n",
    "predicted_inverted = np.array(predicted_inverted)[0,:,:].reshape(-1)\n",
    "print(np.array(predicted_inverted).shape)"
   ]
  },
  {
   "cell_type": "code",
   "execution_count": 110,
   "id": "e7a1194d",
   "metadata": {},
   "outputs": [
    {
     "data": {
      "text/plain": [
       "DatetimeIndex(['2021-05-29 06:00:00', '2021-05-29 07:00:00',\n",
       "               '2021-05-29 08:00:00', '2021-05-29 09:00:00',\n",
       "               '2021-05-29 10:00:00', '2021-05-29 11:00:00',\n",
       "               '2021-05-29 12:00:00', '2021-05-29 13:00:00',\n",
       "               '2021-05-29 14:00:00', '2021-05-29 15:00:00',\n",
       "               ...\n",
       "               '2022-02-25 12:00:00', '2022-02-25 13:00:00',\n",
       "               '2022-02-25 14:00:00', '2022-02-25 15:00:00',\n",
       "               '2022-02-25 16:00:00', '2022-02-25 17:00:00',\n",
       "               '2022-02-25 18:00:00', '2022-02-25 19:00:00',\n",
       "               '2022-02-25 20:00:00', '2022-02-25 21:00:00'],\n",
       "              dtype='datetime64[ns]', length=400, freq=None)"
      ]
     },
     "execution_count": 110,
     "metadata": {},
     "output_type": "execute_result"
    }
   ],
   "source": [
    "validation_output_times = pd.to_datetime(validation_output_times.reshape(-1), unit='s')\n",
    "validation_output_times"
   ]
  },
  {
   "cell_type": "code",
   "execution_count": 111,
   "id": "79ee94e5",
   "metadata": {},
   "outputs": [
    {
     "data": {
      "text/plain": [
       "(6800, 2)"
      ]
     },
     "execution_count": 111,
     "metadata": {},
     "output_type": "execute_result"
    }
   ],
   "source": [
    "ground_true_df = pd.DataFrame()\n",
    "ground_true_df['times'] = ground_true_times\n",
    "ground_true_df['value'] = ground_true\n",
    "ground_true_df.set_index('times').reset_index()\n",
    "ground_true_df.shape"
   ]
  },
  {
   "cell_type": "code",
   "execution_count": 112,
   "id": "8825b8c6",
   "metadata": {},
   "outputs": [
    {
     "data": {
      "text/html": [
       "<div>\n",
       "<style scoped>\n",
       "    .dataframe tbody tr th:only-of-type {\n",
       "        vertical-align: middle;\n",
       "    }\n",
       "\n",
       "    .dataframe tbody tr th {\n",
       "        vertical-align: top;\n",
       "    }\n",
       "\n",
       "    .dataframe thead th {\n",
       "        text-align: right;\n",
       "    }\n",
       "</style>\n",
       "<table border=\"1\" class=\"dataframe\">\n",
       "  <thead>\n",
       "    <tr style=\"text-align: right;\">\n",
       "      <th></th>\n",
       "      <th>times</th>\n",
       "      <th>value</th>\n",
       "    </tr>\n",
       "  </thead>\n",
       "  <tbody>\n",
       "    <tr>\n",
       "      <th>0</th>\n",
       "      <td>2021-05-18 14:00:00</td>\n",
       "      <td>43249.63</td>\n",
       "    </tr>\n",
       "    <tr>\n",
       "      <th>1</th>\n",
       "      <td>2021-05-18 15:00:00</td>\n",
       "      <td>43062.32</td>\n",
       "    </tr>\n",
       "    <tr>\n",
       "      <th>2</th>\n",
       "      <td>2021-05-18 16:00:00</td>\n",
       "      <td>43641.18</td>\n",
       "    </tr>\n",
       "    <tr>\n",
       "      <th>3</th>\n",
       "      <td>2021-05-18 17:00:00</td>\n",
       "      <td>43397.03</td>\n",
       "    </tr>\n",
       "    <tr>\n",
       "      <th>4</th>\n",
       "      <td>2021-05-18 18:00:00</td>\n",
       "      <td>42902.30</td>\n",
       "    </tr>\n",
       "    <tr>\n",
       "      <th>...</th>\n",
       "      <td>...</td>\n",
       "      <td>...</td>\n",
       "    </tr>\n",
       "    <tr>\n",
       "      <th>6795</th>\n",
       "      <td>2022-02-25 17:00:00</td>\n",
       "      <td>38992.40</td>\n",
       "    </tr>\n",
       "    <tr>\n",
       "      <th>6796</th>\n",
       "      <td>2022-02-25 18:00:00</td>\n",
       "      <td>38685.67</td>\n",
       "    </tr>\n",
       "    <tr>\n",
       "      <th>6797</th>\n",
       "      <td>2022-02-25 19:00:00</td>\n",
       "      <td>38703.22</td>\n",
       "    </tr>\n",
       "    <tr>\n",
       "      <th>6798</th>\n",
       "      <td>2022-02-25 20:00:00</td>\n",
       "      <td>39134.42</td>\n",
       "    </tr>\n",
       "    <tr>\n",
       "      <th>6799</th>\n",
       "      <td>2022-02-25 21:00:00</td>\n",
       "      <td>39021.29</td>\n",
       "    </tr>\n",
       "  </tbody>\n",
       "</table>\n",
       "<p>6800 rows × 2 columns</p>\n",
       "</div>"
      ],
      "text/plain": [
       "                   times     value\n",
       "0    2021-05-18 14:00:00  43249.63\n",
       "1    2021-05-18 15:00:00  43062.32\n",
       "2    2021-05-18 16:00:00  43641.18\n",
       "3    2021-05-18 17:00:00  43397.03\n",
       "4    2021-05-18 18:00:00  42902.30\n",
       "...                  ...       ...\n",
       "6795 2022-02-25 17:00:00  38992.40\n",
       "6796 2022-02-25 18:00:00  38685.67\n",
       "6797 2022-02-25 19:00:00  38703.22\n",
       "6798 2022-02-25 20:00:00  39134.42\n",
       "6799 2022-02-25 21:00:00  39021.29\n",
       "\n",
       "[6800 rows x 2 columns]"
      ]
     },
     "execution_count": 112,
     "metadata": {},
     "output_type": "execute_result"
    }
   ],
   "source": [
    "#predicted_inverted.shape\n",
    "ground_true_df"
   ]
  },
  {
   "cell_type": "code",
   "execution_count": 113,
   "id": "bf6155fd",
   "metadata": {},
   "outputs": [
    {
     "data": {
      "text/plain": [
       "(400, 2)"
      ]
     },
     "execution_count": 113,
     "metadata": {},
     "output_type": "execute_result"
    }
   ],
   "source": [
    "prediction_df = pd.DataFrame()\n",
    "prediction_df['times'] = validation_output_times\n",
    "prediction_df['value'] = predicted_inverted\n",
    "prediction_df.shape"
   ]
  },
  {
   "cell_type": "code",
   "execution_count": 114,
   "id": "7303f033",
   "metadata": {},
   "outputs": [
    {
     "data": {
      "text/html": [
       "<div>\n",
       "<style scoped>\n",
       "    .dataframe tbody tr th:only-of-type {\n",
       "        vertical-align: middle;\n",
       "    }\n",
       "\n",
       "    .dataframe tbody tr th {\n",
       "        vertical-align: top;\n",
       "    }\n",
       "\n",
       "    .dataframe thead th {\n",
       "        text-align: right;\n",
       "    }\n",
       "</style>\n",
       "<table border=\"1\" class=\"dataframe\">\n",
       "  <thead>\n",
       "    <tr style=\"text-align: right;\">\n",
       "      <th></th>\n",
       "      <th>times</th>\n",
       "      <th>value</th>\n",
       "    </tr>\n",
       "  </thead>\n",
       "  <tbody>\n",
       "    <tr>\n",
       "      <th>0</th>\n",
       "      <td>2021-05-29 06:00:00</td>\n",
       "      <td>32746.748047</td>\n",
       "    </tr>\n",
       "    <tr>\n",
       "      <th>1</th>\n",
       "      <td>2021-05-29 07:00:00</td>\n",
       "      <td>33881.550781</td>\n",
       "    </tr>\n",
       "    <tr>\n",
       "      <th>2</th>\n",
       "      <td>2021-05-29 08:00:00</td>\n",
       "      <td>33856.257812</td>\n",
       "    </tr>\n",
       "    <tr>\n",
       "      <th>3</th>\n",
       "      <td>2021-05-29 09:00:00</td>\n",
       "      <td>33934.875000</td>\n",
       "    </tr>\n",
       "    <tr>\n",
       "      <th>4</th>\n",
       "      <td>2021-05-29 10:00:00</td>\n",
       "      <td>32666.587891</td>\n",
       "    </tr>\n",
       "    <tr>\n",
       "      <th>...</th>\n",
       "      <td>...</td>\n",
       "      <td>...</td>\n",
       "    </tr>\n",
       "    <tr>\n",
       "      <th>395</th>\n",
       "      <td>2022-02-25 17:00:00</td>\n",
       "      <td>34879.398438</td>\n",
       "    </tr>\n",
       "    <tr>\n",
       "      <th>396</th>\n",
       "      <td>2022-02-25 18:00:00</td>\n",
       "      <td>37173.351562</td>\n",
       "    </tr>\n",
       "    <tr>\n",
       "      <th>397</th>\n",
       "      <td>2022-02-25 19:00:00</td>\n",
       "      <td>34680.835938</td>\n",
       "    </tr>\n",
       "    <tr>\n",
       "      <th>398</th>\n",
       "      <td>2022-02-25 20:00:00</td>\n",
       "      <td>34707.578125</td>\n",
       "    </tr>\n",
       "    <tr>\n",
       "      <th>399</th>\n",
       "      <td>2022-02-25 21:00:00</td>\n",
       "      <td>36496.074219</td>\n",
       "    </tr>\n",
       "  </tbody>\n",
       "</table>\n",
       "<p>400 rows × 2 columns</p>\n",
       "</div>"
      ],
      "text/plain": [
       "                  times         value\n",
       "0   2021-05-29 06:00:00  32746.748047\n",
       "1   2021-05-29 07:00:00  33881.550781\n",
       "2   2021-05-29 08:00:00  33856.257812\n",
       "3   2021-05-29 09:00:00  33934.875000\n",
       "4   2021-05-29 10:00:00  32666.587891\n",
       "..                  ...           ...\n",
       "395 2022-02-25 17:00:00  34879.398438\n",
       "396 2022-02-25 18:00:00  37173.351562\n",
       "397 2022-02-25 19:00:00  34680.835938\n",
       "398 2022-02-25 20:00:00  34707.578125\n",
       "399 2022-02-25 21:00:00  36496.074219\n",
       "\n",
       "[400 rows x 2 columns]"
      ]
     },
     "execution_count": 114,
     "metadata": {},
     "output_type": "execute_result"
    }
   ],
   "source": [
    "prediction_df"
   ]
  },
  {
   "cell_type": "code",
   "execution_count": 115,
   "id": "b5bbac94",
   "metadata": {},
   "outputs": [],
   "source": [
    "prediction_df = prediction_df.loc[(prediction_df[\"times\"].dt.year <= 2021 )&(prediction_df[\"times\"].dt.month <= 5 ),: ]\n",
    "ground_true_df = ground_true_df.loc[(ground_true_df[\"times\"].dt.year <= 2021 )&(ground_true_df[\"times\"].dt.month <= 5 ),:]"
   ]
  },
  {
   "cell_type": "code",
   "execution_count": 116,
   "id": "0e2289c6",
   "metadata": {},
   "outputs": [
    {
     "data": {
      "text/html": [
       "<div>\n",
       "<style scoped>\n",
       "    .dataframe tbody tr th:only-of-type {\n",
       "        vertical-align: middle;\n",
       "    }\n",
       "\n",
       "    .dataframe tbody tr th {\n",
       "        vertical-align: top;\n",
       "    }\n",
       "\n",
       "    .dataframe thead th {\n",
       "        text-align: right;\n",
       "    }\n",
       "</style>\n",
       "<table border=\"1\" class=\"dataframe\">\n",
       "  <thead>\n",
       "    <tr style=\"text-align: right;\">\n",
       "      <th></th>\n",
       "      <th>times</th>\n",
       "      <th>value</th>\n",
       "    </tr>\n",
       "  </thead>\n",
       "  <tbody>\n",
       "    <tr>\n",
       "      <th>0</th>\n",
       "      <td>2021-05-18 14:00:00</td>\n",
       "      <td>43249.63</td>\n",
       "    </tr>\n",
       "    <tr>\n",
       "      <th>1</th>\n",
       "      <td>2021-05-18 15:00:00</td>\n",
       "      <td>43062.32</td>\n",
       "    </tr>\n",
       "    <tr>\n",
       "      <th>2</th>\n",
       "      <td>2021-05-18 16:00:00</td>\n",
       "      <td>43641.18</td>\n",
       "    </tr>\n",
       "    <tr>\n",
       "      <th>3</th>\n",
       "      <td>2021-05-18 17:00:00</td>\n",
       "      <td>43397.03</td>\n",
       "    </tr>\n",
       "    <tr>\n",
       "      <th>4</th>\n",
       "      <td>2021-05-18 18:00:00</td>\n",
       "      <td>42902.30</td>\n",
       "    </tr>\n",
       "    <tr>\n",
       "      <th>...</th>\n",
       "      <td>...</td>\n",
       "      <td>...</td>\n",
       "    </tr>\n",
       "    <tr>\n",
       "      <th>95</th>\n",
       "      <td>2021-05-22 13:00:00</td>\n",
       "      <td>38330.84</td>\n",
       "    </tr>\n",
       "    <tr>\n",
       "      <th>96</th>\n",
       "      <td>2021-05-22 14:00:00</td>\n",
       "      <td>37834.47</td>\n",
       "    </tr>\n",
       "    <tr>\n",
       "      <th>97</th>\n",
       "      <td>2021-05-22 15:00:00</td>\n",
       "      <td>38200.39</td>\n",
       "    </tr>\n",
       "    <tr>\n",
       "      <th>98</th>\n",
       "      <td>2021-05-22 16:00:00</td>\n",
       "      <td>38255.40</td>\n",
       "    </tr>\n",
       "    <tr>\n",
       "      <th>99</th>\n",
       "      <td>2021-05-22 17:00:00</td>\n",
       "      <td>38026.16</td>\n",
       "    </tr>\n",
       "  </tbody>\n",
       "</table>\n",
       "<p>100 rows × 2 columns</p>\n",
       "</div>"
      ],
      "text/plain": [
       "                 times     value\n",
       "0  2021-05-18 14:00:00  43249.63\n",
       "1  2021-05-18 15:00:00  43062.32\n",
       "2  2021-05-18 16:00:00  43641.18\n",
       "3  2021-05-18 17:00:00  43397.03\n",
       "4  2021-05-18 18:00:00  42902.30\n",
       "..                 ...       ...\n",
       "95 2021-05-22 13:00:00  38330.84\n",
       "96 2021-05-22 14:00:00  37834.47\n",
       "97 2021-05-22 15:00:00  38200.39\n",
       "98 2021-05-22 16:00:00  38255.40\n",
       "99 2021-05-22 17:00:00  38026.16\n",
       "\n",
       "[100 rows x 2 columns]"
      ]
     },
     "execution_count": 116,
     "metadata": {},
     "output_type": "execute_result"
    }
   ],
   "source": [
    "ground_true_df.head(100)\n"
   ]
  },
  {
   "cell_type": "code",
   "execution_count": 117,
   "id": "5364e49d",
   "metadata": {},
   "outputs": [
    {
     "data": {
      "text/html": [
       "<div>\n",
       "<style scoped>\n",
       "    .dataframe tbody tr th:only-of-type {\n",
       "        vertical-align: middle;\n",
       "    }\n",
       "\n",
       "    .dataframe tbody tr th {\n",
       "        vertical-align: top;\n",
       "    }\n",
       "\n",
       "    .dataframe thead th {\n",
       "        text-align: right;\n",
       "    }\n",
       "</style>\n",
       "<table border=\"1\" class=\"dataframe\">\n",
       "  <thead>\n",
       "    <tr style=\"text-align: right;\">\n",
       "      <th></th>\n",
       "      <th>times</th>\n",
       "      <th>value</th>\n",
       "    </tr>\n",
       "  </thead>\n",
       "  <tbody>\n",
       "    <tr>\n",
       "      <th>0</th>\n",
       "      <td>2021-05-29 06:00:00</td>\n",
       "      <td>32746.748047</td>\n",
       "    </tr>\n",
       "    <tr>\n",
       "      <th>1</th>\n",
       "      <td>2021-05-29 07:00:00</td>\n",
       "      <td>33881.550781</td>\n",
       "    </tr>\n",
       "    <tr>\n",
       "      <th>2</th>\n",
       "      <td>2021-05-29 08:00:00</td>\n",
       "      <td>33856.257812</td>\n",
       "    </tr>\n",
       "    <tr>\n",
       "      <th>3</th>\n",
       "      <td>2021-05-29 09:00:00</td>\n",
       "      <td>33934.875000</td>\n",
       "    </tr>\n",
       "    <tr>\n",
       "      <th>4</th>\n",
       "      <td>2021-05-29 10:00:00</td>\n",
       "      <td>32666.587891</td>\n",
       "    </tr>\n",
       "    <tr>\n",
       "      <th>5</th>\n",
       "      <td>2021-05-29 11:00:00</td>\n",
       "      <td>32318.328125</td>\n",
       "    </tr>\n",
       "    <tr>\n",
       "      <th>6</th>\n",
       "      <td>2021-05-29 12:00:00</td>\n",
       "      <td>32857.480469</td>\n",
       "    </tr>\n",
       "    <tr>\n",
       "      <th>7</th>\n",
       "      <td>2021-05-29 13:00:00</td>\n",
       "      <td>34840.820312</td>\n",
       "    </tr>\n",
       "    <tr>\n",
       "      <th>8</th>\n",
       "      <td>2021-05-29 14:00:00</td>\n",
       "      <td>34388.070312</td>\n",
       "    </tr>\n",
       "    <tr>\n",
       "      <th>9</th>\n",
       "      <td>2021-05-29 15:00:00</td>\n",
       "      <td>34045.265625</td>\n",
       "    </tr>\n",
       "    <tr>\n",
       "      <th>10</th>\n",
       "      <td>2021-05-29 16:00:00</td>\n",
       "      <td>32804.179688</td>\n",
       "    </tr>\n",
       "    <tr>\n",
       "      <th>11</th>\n",
       "      <td>2021-05-29 17:00:00</td>\n",
       "      <td>32763.240234</td>\n",
       "    </tr>\n",
       "    <tr>\n",
       "      <th>12</th>\n",
       "      <td>2021-05-29 18:00:00</td>\n",
       "      <td>34988.511719</td>\n",
       "    </tr>\n",
       "    <tr>\n",
       "      <th>13</th>\n",
       "      <td>2021-05-29 19:00:00</td>\n",
       "      <td>32632.470703</td>\n",
       "    </tr>\n",
       "    <tr>\n",
       "      <th>14</th>\n",
       "      <td>2021-05-29 20:00:00</td>\n",
       "      <td>32636.468750</td>\n",
       "    </tr>\n",
       "    <tr>\n",
       "      <th>15</th>\n",
       "      <td>2021-05-29 21:00:00</td>\n",
       "      <td>34324.511719</td>\n",
       "    </tr>\n",
       "  </tbody>\n",
       "</table>\n",
       "</div>"
      ],
      "text/plain": [
       "                 times         value\n",
       "0  2021-05-29 06:00:00  32746.748047\n",
       "1  2021-05-29 07:00:00  33881.550781\n",
       "2  2021-05-29 08:00:00  33856.257812\n",
       "3  2021-05-29 09:00:00  33934.875000\n",
       "4  2021-05-29 10:00:00  32666.587891\n",
       "5  2021-05-29 11:00:00  32318.328125\n",
       "6  2021-05-29 12:00:00  32857.480469\n",
       "7  2021-05-29 13:00:00  34840.820312\n",
       "8  2021-05-29 14:00:00  34388.070312\n",
       "9  2021-05-29 15:00:00  34045.265625\n",
       "10 2021-05-29 16:00:00  32804.179688\n",
       "11 2021-05-29 17:00:00  32763.240234\n",
       "12 2021-05-29 18:00:00  34988.511719\n",
       "13 2021-05-29 19:00:00  32632.470703\n",
       "14 2021-05-29 20:00:00  32636.468750\n",
       "15 2021-05-29 21:00:00  34324.511719"
      ]
     },
     "execution_count": 117,
     "metadata": {},
     "output_type": "execute_result"
    }
   ],
   "source": [
    "prediction_df"
   ]
  },
  {
   "cell_type": "code",
   "execution_count": 118,
   "id": "3c02212b",
   "metadata": {},
   "outputs": [
    {
     "data": {
      "image/png": "[encoded data removed]",
      "text/plain": [
       "<Figure size 1440x720 with 1 Axes>"
      ]
     },
     "metadata": {
      "needs_background": "light"
     },
     "output_type": "display_data"
    }
   ],
   "source": [
    "plt.figure(figsize=(20,10))\n",
    "plt.plot(ground_true_df.times,ground_true_df.value, label = 'Actual')\n",
    "# plt.plot(prediction_df.times,prediction_df.value, label = 'Predicted')\n",
    "plt.plot(prediction_df.times,prediction_df.value,'ro', label='Predicted')\n",
    "plt.legend(loc='upper left')\n",
    "plt.savefig('../output/bitcoin2015to2017_close_LSTM_1_tanh_leaky_result.png')\n",
    "plt.show()"
   ]
  },
  {
   "cell_type": "code",
   "execution_count": 119,
   "id": "e6cd323c",
   "metadata": {},
   "outputs": [
    {
     "data": {
      "text/plain": [
       "27813924.3090641"
      ]
     },
     "execution_count": 119,
     "metadata": {},
     "output_type": "execute_result"
    }
   ],
   "source": [
    "from sklearn.metrics import mean_squared_error\n",
    "mean_squared_error(validation_original_outputs[:,:,0].reshape(-1),predicted_inverted)"
   ]
  },
  {
   "cell_type": "code",
   "execution_count": 120,
   "id": "dd4ea260",
   "metadata": {},
   "outputs": [
    {
     "data": {
      "text/plain": [
       "(122, 16, 1)"
      ]
     },
     "execution_count": 120,
     "metadata": {},
     "output_type": "execute_result"
    }
   ],
   "source": [
    "9058673.3771138\n",
    "\n",
    "output_times[training_size:,:,:]\n",
    "output_times.shape"
   ]
  }
 ],
 "metadata": {
  "kernelspec": {
   "display_name": "Python 3",
   "language": "python",
   "name": "python3"
  },
  "language_info": {
   "codemirror_mode": {
    "name": "ipython",
    "version": 3
   },
   "file_extension": ".py",
   "mimetype": "text/x-python",
   "name": "python",
   "nbconvert_exporter": "python",
   "pygments_lexer": "ipython3",
   "version": "3.8.8"
  }
 },
 "nbformat": 4,
 "nbformat_minor": 5
}
