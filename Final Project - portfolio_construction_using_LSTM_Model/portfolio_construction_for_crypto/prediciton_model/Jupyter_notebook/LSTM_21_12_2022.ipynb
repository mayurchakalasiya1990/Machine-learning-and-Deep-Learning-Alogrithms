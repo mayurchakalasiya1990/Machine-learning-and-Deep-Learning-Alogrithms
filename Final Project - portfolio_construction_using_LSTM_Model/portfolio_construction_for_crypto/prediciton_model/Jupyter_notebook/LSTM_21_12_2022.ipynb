{
 "cells": [
  {
   "cell_type": "code",
   "execution_count": 2,
   "id": "39d90266",
   "metadata": {},
   "outputs": [
    {
     "name": "stdout",
     "output_type": "stream",
     "text": [
      "2.2.0\n"
     ]
    }
   ],
   "source": [
    "## Imports libs\n",
    "import os\n",
    "os.environ['CUDA_VISIBLE_DEVICES'] = '0'\n",
    "os.environ[\"SM_FRAMEWORK\"] = \"tf.keras\"\n",
    "import numpy as np\n",
    "import matplotlib.pyplot as plt\n",
    "import pandas as pd\n",
    "import seaborn as sns\n",
    "import tensorflow as tf\n",
    "print(tf.__version__) \n",
    "from tensorflow.keras.models import Sequential\n",
    "from tensorflow.keras.layers import Dense\n",
    "from tensorflow.keras.layers import LSTM, GRU\n",
    "from tensorflow.keras.layers import Dropout\n",
    "from sklearn.preprocessing import MinMaxScaler\n",
    "from tensorflow.keras.models import load_model\n",
    "from tensorflow.keras.callbacks import EarlyStopping\n",
    "from tensorflow.keras.callbacks import ModelCheckpoint\n",
    "import itertools\n",
    "import random\n",
    "import os"
   ]
  },
  {
   "cell_type": "code",
   "execution_count": 7,
   "id": "e27acdcd",
   "metadata": {},
   "outputs": [],
   "source": [
    "data =  pd.read_csv('./dataset/bitcoin/bitcoin_10min_dataset.csv', header=0)"
   ]
  },
  {
   "cell_type": "code",
   "execution_count": 28,
   "id": "aabee7b5",
   "metadata": {},
   "outputs": [
    {
     "data": {
      "text/html": [
       "<div>\n",
       "<style scoped>\n",
       "    .dataframe tbody tr th:only-of-type {\n",
       "        vertical-align: middle;\n",
       "    }\n",
       "\n",
       "    .dataframe tbody tr th {\n",
       "        vertical-align: top;\n",
       "    }\n",
       "\n",
       "    .dataframe thead th {\n",
       "        text-align: right;\n",
       "    }\n",
       "</style>\n",
       "<table border=\"1\" class=\"dataframe\">\n",
       "  <thead>\n",
       "    <tr style=\"text-align: right;\">\n",
       "      <th></th>\n",
       "      <th>Date</th>\n",
       "      <th>Open</th>\n",
       "      <th>High</th>\n",
       "      <th>Low</th>\n",
       "      <th>Close</th>\n",
       "      <th>SMAVG_50d</th>\n",
       "      <th>SMAVG_100d</th>\n",
       "      <th>SMAVG_200d</th>\n",
       "    </tr>\n",
       "  </thead>\n",
       "  <tbody>\n",
       "    <tr>\n",
       "      <th>37782</th>\n",
       "      <td>2022-04-01 00:10:00</td>\n",
       "      <td>45680.63</td>\n",
       "      <td>45714.11</td>\n",
       "      <td>45638.63</td>\n",
       "      <td>45665.02</td>\n",
       "      <td>45895.07</td>\n",
       "      <td>46512.44</td>\n",
       "      <td>46840.99</td>\n",
       "    </tr>\n",
       "    <tr>\n",
       "      <th>37781</th>\n",
       "      <td>2022-04-01 00:20:00</td>\n",
       "      <td>45665.07</td>\n",
       "      <td>45705.22</td>\n",
       "      <td>45633.79</td>\n",
       "      <td>45696.46</td>\n",
       "      <td>45876.87</td>\n",
       "      <td>46497.72</td>\n",
       "      <td>46834.89</td>\n",
       "    </tr>\n",
       "    <tr>\n",
       "      <th>37780</th>\n",
       "      <td>2022-04-01 00:30:00</td>\n",
       "      <td>45696.46</td>\n",
       "      <td>45731.87</td>\n",
       "      <td>45658.29</td>\n",
       "      <td>45667.18</td>\n",
       "      <td>45858.10</td>\n",
       "      <td>46482.98</td>\n",
       "      <td>46827.55</td>\n",
       "    </tr>\n",
       "    <tr>\n",
       "      <th>37779</th>\n",
       "      <td>2022-04-01 00:40:00</td>\n",
       "      <td>45669.05</td>\n",
       "      <td>45688.13</td>\n",
       "      <td>45231.34</td>\n",
       "      <td>45411.71</td>\n",
       "      <td>45835.46</td>\n",
       "      <td>46465.93</td>\n",
       "      <td>46818.93</td>\n",
       "    </tr>\n",
       "    <tr>\n",
       "      <th>37778</th>\n",
       "      <td>2022-04-01 00:50:00</td>\n",
       "      <td>45411.71</td>\n",
       "      <td>45568.35</td>\n",
       "      <td>45336.02</td>\n",
       "      <td>45528.45</td>\n",
       "      <td>45814.66</td>\n",
       "      <td>46449.71</td>\n",
       "      <td>46810.66</td>\n",
       "    </tr>\n",
       "  </tbody>\n",
       "</table>\n",
       "</div>"
      ],
      "text/plain": [
       "                     Date      Open      High       Low     Close  SMAVG_50d  \\\n",
       "37782 2022-04-01 00:10:00  45680.63  45714.11  45638.63  45665.02   45895.07   \n",
       "37781 2022-04-01 00:20:00  45665.07  45705.22  45633.79  45696.46   45876.87   \n",
       "37780 2022-04-01 00:30:00  45696.46  45731.87  45658.29  45667.18   45858.10   \n",
       "37779 2022-04-01 00:40:00  45669.05  45688.13  45231.34  45411.71   45835.46   \n",
       "37778 2022-04-01 00:50:00  45411.71  45568.35  45336.02  45528.45   45814.66   \n",
       "\n",
       "       SMAVG_100d  SMAVG_200d  \n",
       "37782    46512.44    46840.99  \n",
       "37781    46497.72    46834.89  \n",
       "37780    46482.98    46827.55  \n",
       "37779    46465.93    46818.93  \n",
       "37778    46449.71    46810.66  "
      ]
     },
     "execution_count": 28,
     "metadata": {},
     "output_type": "execute_result"
    }
   ],
   "source": [
    "data.head()"
   ]
  },
  {
   "cell_type": "code",
   "execution_count": 44,
   "id": "ab38876d",
   "metadata": {},
   "outputs": [
    {
     "name": "stdout",
     "output_type": "stream",
     "text": [
      "<class 'pandas.core.frame.DataFrame'>\n",
      "Int64Index: 26207 entries, 37782 to 11576\n",
      "Data columns (total 8 columns):\n",
      " #   Column      Non-Null Count  Dtype         \n",
      "---  ------      --------------  -----         \n",
      " 0   Date        26207 non-null  datetime64[ns]\n",
      " 1   Open        26207 non-null  float64       \n",
      " 2   High        26207 non-null  float64       \n",
      " 3   Low         26207 non-null  float64       \n",
      " 4   Close       26207 non-null  float64       \n",
      " 5   SMAVG_50d   26207 non-null  float64       \n",
      " 6   SMAVG_100d  26207 non-null  float64       \n",
      " 7   SMAVG_200d  26207 non-null  float64       \n",
      "dtypes: datetime64[ns](1), float64(7)\n",
      "memory usage: 1.8 MB\n"
     ]
    }
   ],
   "source": [
    "data.info()"
   ]
  },
  {
   "cell_type": "code",
   "execution_count": 15,
   "id": "1784b4bf",
   "metadata": {},
   "outputs": [],
   "source": [
    "data['Date']=pd.to_datetime(data['Date'])"
   ]
  },
  {
   "cell_type": "code",
   "execution_count": 20,
   "id": "0fd5af00",
   "metadata": {},
   "outputs": [],
   "source": [
    "data=data.sort_values(by=\"Date\", ascending=True)"
   ]
  },
  {
   "cell_type": "code",
   "execution_count": 25,
   "id": "87650a6d",
   "metadata": {},
   "outputs": [],
   "source": [
    "data=data[(data['Date'] >= '2022-04-01') & (data['Date'] <= '2022-09-30')]"
   ]
  },
  {
   "cell_type": "code",
   "execution_count": 30,
   "id": "958367b0",
   "metadata": {},
   "outputs": [],
   "source": [
    "data_prices = data.drop(['Date'], axis=1)"
   ]
  },
  {
   "cell_type": "code",
   "execution_count": 31,
   "id": "12f29d32",
   "metadata": {},
   "outputs": [],
   "source": [
    "data_prices = data_prices.drop(['Open', 'Low', 'High','SMAVG_100d'], axis=1)\n"
   ]
  },
  {
   "cell_type": "code",
   "execution_count": 32,
   "id": "9f65a2fc",
   "metadata": {},
   "outputs": [
    {
     "data": {
      "text/html": [
       "<div>\n",
       "<style scoped>\n",
       "    .dataframe tbody tr th:only-of-type {\n",
       "        vertical-align: middle;\n",
       "    }\n",
       "\n",
       "    .dataframe tbody tr th {\n",
       "        vertical-align: top;\n",
       "    }\n",
       "\n",
       "    .dataframe thead th {\n",
       "        text-align: right;\n",
       "    }\n",
       "</style>\n",
       "<table border=\"1\" class=\"dataframe\">\n",
       "  <thead>\n",
       "    <tr style=\"text-align: right;\">\n",
       "      <th></th>\n",
       "      <th>Close</th>\n",
       "      <th>SMAVG_50d</th>\n",
       "      <th>SMAVG_200d</th>\n",
       "    </tr>\n",
       "  </thead>\n",
       "  <tbody>\n",
       "    <tr>\n",
       "      <th>37782</th>\n",
       "      <td>45665.02</td>\n",
       "      <td>45895.07</td>\n",
       "      <td>46840.99</td>\n",
       "    </tr>\n",
       "    <tr>\n",
       "      <th>37781</th>\n",
       "      <td>45696.46</td>\n",
       "      <td>45876.87</td>\n",
       "      <td>46834.89</td>\n",
       "    </tr>\n",
       "    <tr>\n",
       "      <th>37780</th>\n",
       "      <td>45667.18</td>\n",
       "      <td>45858.10</td>\n",
       "      <td>46827.55</td>\n",
       "    </tr>\n",
       "    <tr>\n",
       "      <th>37779</th>\n",
       "      <td>45411.71</td>\n",
       "      <td>45835.46</td>\n",
       "      <td>46818.93</td>\n",
       "    </tr>\n",
       "    <tr>\n",
       "      <th>37778</th>\n",
       "      <td>45528.45</td>\n",
       "      <td>45814.66</td>\n",
       "      <td>46810.66</td>\n",
       "    </tr>\n",
       "    <tr>\n",
       "      <th>...</th>\n",
       "      <td>...</td>\n",
       "      <td>...</td>\n",
       "      <td>...</td>\n",
       "    </tr>\n",
       "    <tr>\n",
       "      <th>11580</th>\n",
       "      <td>19521.14</td>\n",
       "      <td>19343.86</td>\n",
       "      <td>19411.07</td>\n",
       "    </tr>\n",
       "    <tr>\n",
       "      <th>11579</th>\n",
       "      <td>19462.57</td>\n",
       "      <td>19354.10</td>\n",
       "      <td>19413.19</td>\n",
       "    </tr>\n",
       "    <tr>\n",
       "      <th>11578</th>\n",
       "      <td>19452.66</td>\n",
       "      <td>19365.23</td>\n",
       "      <td>19414.81</td>\n",
       "    </tr>\n",
       "    <tr>\n",
       "      <th>11577</th>\n",
       "      <td>19427.41</td>\n",
       "      <td>19374.05</td>\n",
       "      <td>19416.21</td>\n",
       "    </tr>\n",
       "    <tr>\n",
       "      <th>11576</th>\n",
       "      <td>19460.94</td>\n",
       "      <td>19382.94</td>\n",
       "      <td>19418.09</td>\n",
       "    </tr>\n",
       "  </tbody>\n",
       "</table>\n",
       "<p>26207 rows × 3 columns</p>\n",
       "</div>"
      ],
      "text/plain": [
       "          Close  SMAVG_50d  SMAVG_200d\n",
       "37782  45665.02   45895.07    46840.99\n",
       "37781  45696.46   45876.87    46834.89\n",
       "37780  45667.18   45858.10    46827.55\n",
       "37779  45411.71   45835.46    46818.93\n",
       "37778  45528.45   45814.66    46810.66\n",
       "...         ...        ...         ...\n",
       "11580  19521.14   19343.86    19411.07\n",
       "11579  19462.57   19354.10    19413.19\n",
       "11578  19452.66   19365.23    19414.81\n",
       "11577  19427.41   19374.05    19416.21\n",
       "11576  19460.94   19382.94    19418.09\n",
       "\n",
       "[26207 rows x 3 columns]"
      ]
     },
     "execution_count": 32,
     "metadata": {},
     "output_type": "execute_result"
    }
   ],
   "source": [
    "data_prices"
   ]
  },
  {
   "cell_type": "markdown",
   "id": "7dd0c47a",
   "metadata": {},
   "source": [
    "### Feature Scaling"
   ]
  },
  {
   "cell_type": "code",
   "execution_count": 81,
   "id": "24f735c9",
   "metadata": {},
   "outputs": [],
   "source": [
    "sc = MinMaxScaler(feature_range=(0, 1))\n",
    "data_prices_scaled = sc.fit_transform(data_prices)\n"
   ]
  },
  {
   "cell_type": "code",
   "execution_count": 85,
   "id": "199236c5",
   "metadata": {},
   "outputs": [],
   "source": [
    "\n",
    "sc_pred = MinMaxScaler(feature_range=(0, 1))\n",
    "data_close_price = pd.DataFrame(data_prices['Close'])\n",
    "data_pred_scaled = sc_pred.fit_transform(data_close_price)"
   ]
  },
  {
   "cell_type": "code",
   "execution_count": 80,
   "id": "48ce5f6f",
   "metadata": {},
   "outputs": [
    {
     "data": {
      "text/plain": [
       "37782    45665.02\n",
       "37781    45696.46\n",
       "37780    45667.18\n",
       "37779    45411.71\n",
       "37778    45528.45\n",
       "           ...   \n",
       "11580    19521.14\n",
       "11579    19462.57\n",
       "11578    19452.66\n",
       "11577    19427.41\n",
       "11576    19460.94\n",
       "Name: Close, Length: 26207, dtype: float64"
      ]
     },
     "execution_count": 80,
     "metadata": {},
     "output_type": "execute_result"
    }
   ],
   "source": [
    "data_prices['Close']"
   ]
  },
  {
   "cell_type": "code",
   "execution_count": 35,
   "id": "7d1fe75c",
   "metadata": {},
   "outputs": [
    {
     "data": {
      "text/plain": [
       "(26207, 3)"
      ]
     },
     "execution_count": 35,
     "metadata": {},
     "output_type": "execute_result"
    }
   ],
   "source": [
    "data_prices_scaled.shape"
   ]
  },
  {
   "cell_type": "code",
   "execution_count": 37,
   "id": "b742f535",
   "metadata": {},
   "outputs": [],
   "source": [
    "# Creating a data structure (it does not work when you have only one feature)\n",
    "def create_data(df, n_future, n_past, train_test_split_percentage, validation_split_percentage):\n",
    "    n_feature = df.shape[1]\n",
    "    x_data, y_data = [], []\n",
    "    \n",
    "    for i in range(n_past, len(df) - n_future + 1):\n",
    "        x_data.append(df[i - n_past:i, 0:n_feature])\n",
    "        y_data.append(df[i + n_future - 1:i + n_future, 0])\n",
    "    \n",
    "    split_training_test_starting_point = int(round(train_test_split_percentage*len(x_data)))\n",
    "    split_train_validation_starting_point = int(round(split_training_test_starting_point*(1-validation_split_percentage)))\n",
    "    \n",
    "    x_train = x_data[:split_train_validation_starting_point]\n",
    "    y_train = y_data[:split_train_validation_starting_point]\n",
    "    \n",
    "    # if you want to choose the validation set by yourself, uncomment the below code.\n",
    "    x_val = x_data[split_train_validation_starting_point:split_training_test_starting_point]\n",
    "    y_val =  x_data[split_train_validation_starting_point:split_training_test_starting_point]                                             \n",
    "    \n",
    "    x_test = x_data[split_training_test_starting_point:]\n",
    "    y_test = y_data[split_training_test_starting_point:]\n",
    "    \n",
    "    return np.array(x_train), np.array(x_test), np.array(x_val), np.array(y_train), np.array(y_test), np.array(y_val)"
   ]
  },
  {
   "cell_type": "code",
   "execution_count": 38,
   "id": "25f80c20",
   "metadata": {},
   "outputs": [],
   "source": [
    "# Number of days you want to predict into the future\n",
    "# Number of past days you want to use to predict the future\n",
    "\n",
    "X_train, X_test, X_val, y_train, y_test, y_val = create_data(data_prices_scaled, n_future=1, n_past=6, train_test_split_percentage=0.8,\n",
    "                                               validation_split_percentage = 0)"
   ]
  },
  {
   "cell_type": "code",
   "execution_count": 47,
   "id": "f2f6d578",
   "metadata": {},
   "outputs": [
    {
     "name": "stdout",
     "output_type": "stream",
     "text": [
      "(20961, 6, 3)\n",
      "(5240, 6, 3)\n",
      "(20961, 1)\n",
      "(5240, 1)\n"
     ]
    }
   ],
   "source": [
    "print(X_train.shape)\n",
    "print(X_test.shape)\n",
    "\n",
    "print(y_train.shape)\n",
    "print(y_test.shape)"
   ]
  },
  {
   "cell_type": "markdown",
   "id": "e7076696",
   "metadata": {},
   "source": [
    "### Train LSTM Model\n"
   ]
  },
  {
   "cell_type": "code",
   "execution_count": 52,
   "id": "c5652a3f",
   "metadata": {},
   "outputs": [
    {
     "name": "stdout",
     "output_type": "stream",
     "text": [
      "6\n",
      "3\n"
     ]
    }
   ],
   "source": [
    "print(X_train.shape[1])\n",
    "print(X_train.shape[2])"
   ]
  },
  {
   "cell_type": "code",
   "execution_count": 48,
   "id": "7a77b379",
   "metadata": {},
   "outputs": [
    {
     "name": "stdout",
     "output_type": "stream",
     "text": [
      "Model: \"sequential\"\n",
      "_________________________________________________________________\n",
      "Layer (type)                 Output Shape              Param #   \n",
      "=================================================================\n",
      "lstm (LSTM)                  (None, 6, 16)             1280      \n",
      "_________________________________________________________________\n",
      "dropout (Dropout)            (None, 6, 16)             0         \n",
      "_________________________________________________________________\n",
      "lstm_1 (LSTM)                (None, 16)                2112      \n",
      "_________________________________________________________________\n",
      "dropout_1 (Dropout)          (None, 16)                0         \n",
      "_________________________________________________________________\n",
      "dense (Dense)                (None, 1)                 17        \n",
      "=================================================================\n",
      "Total params: 3,409\n",
      "Trainable params: 3,409\n",
      "Non-trainable params: 0\n",
      "_________________________________________________________________\n"
     ]
    }
   ],
   "source": [
    "# ------------------LSTM-----------------------\n",
    "regressor = Sequential()\n",
    "regressor.add(LSTM(units=16, return_sequences=True, input_shape=(X_train.shape[1], X_train.shape[2])))\n",
    "regressor.add(Dropout(0.2))\n",
    "\n",
    "regressor.add(LSTM(units=16, return_sequences=False))\n",
    "regressor.add(Dropout(0.2))\n",
    "regressor.add(Dense(units=1, activation='linear'))\n",
    "regressor.compile(optimizer='adam', loss='mse', metrics=[tf.keras.metrics.RootMeanSquaredError()])\n",
    "\n",
    "regressor.summary()"
   ]
  },
  {
   "cell_type": "code",
   "execution_count": 49,
   "id": "bfa615df",
   "metadata": {},
   "outputs": [
    {
     "name": "stdout",
     "output_type": "stream",
     "text": [
      "Epoch 1/40\n",
      "230/230 [==============================] - 3s 14ms/step - loss: 0.0281 - root_mean_squared_error: 0.1675 - val_loss: 2.5117e-04 - val_root_mean_squared_error: 0.0158\n",
      "Epoch 2/40\n",
      "230/230 [==============================] - 4s 16ms/step - loss: 0.0062 - root_mean_squared_error: 0.0784 - val_loss: 1.7719e-04 - val_root_mean_squared_error: 0.0133\n",
      "Epoch 3/40\n",
      "230/230 [==============================] - 3s 14ms/step - loss: 0.0050 - root_mean_squared_error: 0.0705 - val_loss: 9.4829e-05 - val_root_mean_squared_error: 0.0097\n",
      "Epoch 4/40\n",
      "230/230 [==============================] - 3s 15ms/step - loss: 0.0044 - root_mean_squared_error: 0.0662 - val_loss: 1.1538e-04 - val_root_mean_squared_error: 0.0107\n",
      "Epoch 5/40\n",
      "230/230 [==============================] - 3s 14ms/step - loss: 0.0037 - root_mean_squared_error: 0.0611 - val_loss: 1.2065e-04 - val_root_mean_squared_error: 0.0110\n",
      "Epoch 6/40\n",
      "230/230 [==============================] - 3s 13ms/step - loss: 0.0034 - root_mean_squared_error: 0.0582 - val_loss: 1.7260e-04 - val_root_mean_squared_error: 0.0131\n",
      "Epoch 7/40\n",
      "230/230 [==============================] - 3s 15ms/step - loss: 0.0031 - root_mean_squared_error: 0.0558 - val_loss: 2.1310e-04 - val_root_mean_squared_error: 0.0146\n",
      "Epoch 8/40\n",
      "230/230 [==============================] - 4s 16ms/step - loss: 0.0027 - root_mean_squared_error: 0.0519 - val_loss: 1.8263e-04 - val_root_mean_squared_error: 0.0135\n",
      "Epoch 00008: early stopping\n"
     ]
    }
   ],
   "source": [
    "es = EarlyStopping(monitor='val_loss', mode='min', verbose=1, patience=5)\n",
    "#mc = ModelCheckpoint('best_model.h5', monitor='val_accuracy', mode='max', verbose=1, save_best_only=True)\n",
    "\n",
    "# fit model\n",
    "history = regressor.fit(X_train, y_train, validation_split=0.3, epochs=40, batch_size=64, callbacks=[es])"
   ]
  },
  {
   "cell_type": "code",
   "execution_count": 50,
   "id": "0b182a69",
   "metadata": {},
   "outputs": [
    {
     "data": {
      "image/png": "[encoded data removed]",
      "text/plain": [
       "<Figure size 1440x504 with 2 Axes>"
      ]
     },
     "metadata": {
      "needs_background": "light"
     },
     "output_type": "display_data"
    }
   ],
   "source": [
    "fig = plt.figure(figsize=(20,7))\n",
    "fig.add_subplot(121)\n",
    "\n",
    "# Accuracy\n",
    "plt.plot(history.epoch, history.history['root_mean_squared_error'], label = \"rmse\")\n",
    "plt.plot(history.epoch, history.history['val_root_mean_squared_error'], label = \"val_rmse\")\n",
    "\n",
    "plt.title(\"RMSE\", fontsize=18)\n",
    "plt.xlabel(\"Epochs\", fontsize=15)\n",
    "plt.ylabel(\"RMSE\", fontsize=15)\n",
    "plt.grid(alpha=0.3)\n",
    "plt.legend()\n",
    "\n",
    "\n",
    "#Adding Subplot 1 (For Loss)\n",
    "fig.add_subplot(122)\n",
    "\n",
    "plt.plot(history.epoch, history.history['loss'], label=\"loss\")\n",
    "plt.plot(history.epoch, history.history['val_loss'], label=\"val_loss\")\n",
    "\n",
    "plt.title(\"Loss\", fontsize=18)\n",
    "plt.xlabel(\"Epochs\", fontsize=15)\n",
    "plt.ylabel(\"Loss\", fontsize=15)\n",
    "plt.grid(alpha=0.3)\n",
    "plt.legend()\n",
    "\n",
    "plt.show()"
   ]
  },
  {
   "cell_type": "code",
   "execution_count": 51,
   "id": "4fc13484",
   "metadata": {},
   "outputs": [
    {
     "name": "stdout",
     "output_type": "stream",
     "text": [
      "164/164 [==============================] - 0s 3ms/step - loss: 1.0381e-04 - root_mean_squared_error: 0.0102\n",
      "test loss, test acc: [0.0001 0.0102]\n"
     ]
    }
   ],
   "source": [
    "results = regressor.evaluate(X_test, y_test)\n",
    "print(\"test loss, test acc:\", np.round(results, 4))"
   ]
  },
  {
   "cell_type": "markdown",
   "id": "612d1687",
   "metadata": {},
   "source": [
    "### Hyperparameter Tunning"
   ]
  },
  {
   "cell_type": "code",
   "execution_count": 54,
   "id": "c453f3c2",
   "metadata": {},
   "outputs": [],
   "source": [
    "def LSTM_HyperParameter_Tuning(config, x_train, y_train, x_test, y_test):\n",
    "    \n",
    "    first_additional_layer, second_additional_layer, third_additional_layer, n_neurons, n_batch_size, dropout = config\n",
    "    possible_combinations = list(itertools.product(first_additional_layer, second_additional_layer, third_additional_layer,\n",
    "                                                  n_neurons, n_batch_size, dropout))\n",
    "    \n",
    "    print(possible_combinations)\n",
    "    print('\\n')\n",
    "    \n",
    "    hist = []\n",
    "    \n",
    "    for i in range(0, len(possible_combinations)):\n",
    "        \n",
    "        print(f'{i+1}th combination: \\n')\n",
    "        print('--------------------------------------------------------------------')\n",
    "        \n",
    "        first_additional_layer, second_additional_layer, third_additional_layer, n_neurons, n_batch_size, dropout = possible_combinations[i]\n",
    "        \n",
    "        # instantiating the model in the strategy scope creates the model on the TPU\n",
    "        #with tpu_strategy.scope():\n",
    "        regressor = Sequential()\n",
    "        regressor.add(LSTM(units=n_neurons, return_sequences=True, input_shape=(x_train.shape[1], x_train.shape[2])))\n",
    "        regressor.add(Dropout(dropout))\n",
    "\n",
    "        if first_additional_layer:\n",
    "            regressor.add(LSTM(units=n_neurons, return_sequences=True))\n",
    "            regressor.add(Dropout(dropout))\n",
    "\n",
    "        if second_additional_layer:\n",
    "            regressor.add(LSTM(units=n_neurons, return_sequences=True))\n",
    "            regressor.add(Dropout(dropout))\n",
    "\n",
    "        if third_additional_layer:\n",
    "            regressor.add(GRU(units=n_neurons, return_sequences=True))\n",
    "            regressor.add(Dropout(dropout))\n",
    "\n",
    "        regressor.add(LSTM(units=n_neurons, return_sequences=False))\n",
    "        regressor.add(Dropout(dropout))\n",
    "        regressor.add(Dense(units=1, activation='linear'))\n",
    "        regressor.compile(optimizer='adam', loss='mse', metrics=[tf.keras.metrics.RootMeanSquaredError()])\n",
    "\n",
    "        es = EarlyStopping(monitor='val_loss', mode='min', verbose=1, patience=5)\n",
    "        '''''\n",
    "        From the mentioned article above --> If a validation dataset is specified to the fit() function via the validation_data or v\n",
    "        alidation_split arguments,then the loss on the validation dataset will be made available via the name “val_loss.”\n",
    "        '''''\n",
    "\n",
    "        file_path = 'best_model.h5'\n",
    "\n",
    "        mc = ModelCheckpoint(file_path, monitor='val_loss', mode='min', verbose=1, save_best_only=True)\n",
    "\n",
    "        '''''\n",
    "        cb = Callback(...)  # First, callbacks must be instantiated.\n",
    "        cb_list = [cb, ...]  # Then, one or more callbacks that you intend to use must be added to a Python list.\n",
    "        model.fit(..., callbacks=cb_list)  # Finally, the list of callbacks is provided to the callback argument when fitting the model.\n",
    "        '''''\n",
    "\n",
    "        regressor.fit(x_train, y_train, validation_split=0.3, epochs=40, batch_size=n_batch_size, callbacks=[es, mc], verbose=0)\n",
    "\n",
    "        # load the best model\n",
    "        # regressor = load_model('best_model.h5')\n",
    "\n",
    "        train_accuracy = regressor.evaluate(x_train, y_train, verbose=0)\n",
    "        test_accuracy = regressor.evaluate(x_test, y_test, verbose=0)\n",
    "\n",
    "        hist.append(list((first_additional_layer, second_additional_layer, third_additional_layer, n_neurons, n_batch_size, dropout,\n",
    "                          train_accuracy, test_accuracy)))\n",
    "\n",
    "        print(f'{str(i)}-th combination = {possible_combinations[i]} \\n train accuracy: {train_accuracy} and test accuracy: {test_accuracy}')\n",
    "        \n",
    "        print('--------------------------------------------------------------------')\n",
    "        print('--------------------------------------------------------------------')\n",
    "        print('--------------------------------------------------------------------')\n",
    "        print('--------------------------------------------------------------------')\n",
    "         \n",
    "    return hist"
   ]
  },
  {
   "cell_type": "code",
   "execution_count": 55,
   "id": "42525385",
   "metadata": {},
   "outputs": [
    {
     "name": "stdout",
     "output_type": "stream",
     "text": [
      "[(False, False, False, 16, 8, 0.2), (False, False, False, 16, 16, 0.2), (False, False, False, 16, 32, 0.2), (False, False, False, 32, 8, 0.2), (False, False, False, 32, 16, 0.2), (False, False, False, 32, 32, 0.2)]\n",
      "\n",
      "\n",
      "1th combination: \n",
      "\n",
      "--------------------------------------------------------------------\n",
      "\n",
      "Epoch 00001: val_loss improved from inf to 0.00007, saving model to best_model.h5\n",
      "\n",
      "Epoch 00002: val_loss did not improve from 0.00007\n",
      "\n",
      "Epoch 00003: val_loss did not improve from 0.00007\n",
      "\n",
      "Epoch 00004: val_loss improved from 0.00007 to 0.00004, saving model to best_model.h5\n",
      "\n",
      "Epoch 00005: val_loss did not improve from 0.00004\n",
      "\n",
      "Epoch 00006: val_loss improved from 0.00004 to 0.00003, saving model to best_model.h5\n",
      "\n",
      "Epoch 00007: val_loss improved from 0.00003 to 0.00002, saving model to best_model.h5\n",
      "\n",
      "Epoch 00008: val_loss did not improve from 0.00002\n",
      "\n",
      "Epoch 00009: val_loss did not improve from 0.00002\n",
      "\n",
      "Epoch 00010: val_loss did not improve from 0.00002\n",
      "\n",
      "Epoch 00011: val_loss did not improve from 0.00002\n",
      "\n",
      "Epoch 00012: val_loss improved from 0.00002 to 0.00002, saving model to best_model.h5\n",
      "\n",
      "Epoch 00013: val_loss improved from 0.00002 to 0.00002, saving model to best_model.h5\n",
      "\n",
      "Epoch 00014: val_loss did not improve from 0.00002\n",
      "\n",
      "Epoch 00015: val_loss did not improve from 0.00002\n",
      "\n",
      "Epoch 00016: val_loss did not improve from 0.00002\n",
      "\n",
      "Epoch 00017: val_loss did not improve from 0.00002\n",
      "\n",
      "Epoch 00018: val_loss did not improve from 0.00002\n",
      "Epoch 00018: early stopping\n",
      "0-th combination = (False, False, False, 16, 8, 0.2) \n",
      " train accuracy: [5.068053724244237e-05, 0.007119026500731707] and test accuracy: [2.5393163014086895e-05, 0.0050391629338264465]\n",
      "--------------------------------------------------------------------\n",
      "--------------------------------------------------------------------\n",
      "--------------------------------------------------------------------\n",
      "--------------------------------------------------------------------\n",
      "2th combination: \n",
      "\n",
      "--------------------------------------------------------------------\n",
      "\n",
      "Epoch 00001: val_loss improved from inf to 0.00024, saving model to best_model.h5\n",
      "\n",
      "Epoch 00002: val_loss improved from 0.00024 to 0.00011, saving model to best_model.h5\n",
      "\n",
      "Epoch 00003: val_loss improved from 0.00011 to 0.00007, saving model to best_model.h5\n",
      "\n",
      "Epoch 00004: val_loss did not improve from 0.00007\n",
      "\n",
      "Epoch 00005: val_loss improved from 0.00007 to 0.00006, saving model to best_model.h5\n",
      "\n",
      "Epoch 00006: val_loss did not improve from 0.00006\n",
      "\n",
      "Epoch 00007: val_loss did not improve from 0.00006\n",
      "\n",
      "Epoch 00008: val_loss improved from 0.00006 to 0.00004, saving model to best_model.h5\n",
      "\n",
      "Epoch 00009: val_loss did not improve from 0.00004\n",
      "\n",
      "Epoch 00010: val_loss did not improve from 0.00004\n",
      "\n",
      "Epoch 00011: val_loss did not improve from 0.00004\n",
      "\n",
      "Epoch 00012: val_loss did not improve from 0.00004\n",
      "\n",
      "Epoch 00013: val_loss did not improve from 0.00004\n",
      "Epoch 00013: early stopping\n",
      "1-th combination = (False, False, False, 16, 16, 0.2) \n",
      " train accuracy: [0.00013779681466985494, 0.011738688684999943] and test accuracy: [8.050991164054722e-05, 0.008972731418907642]\n",
      "--------------------------------------------------------------------\n",
      "--------------------------------------------------------------------\n",
      "--------------------------------------------------------------------\n",
      "--------------------------------------------------------------------\n",
      "3th combination: \n",
      "\n",
      "--------------------------------------------------------------------\n",
      "\n",
      "Epoch 00001: val_loss improved from inf to 0.00027, saving model to best_model.h5\n",
      "\n",
      "Epoch 00002: val_loss improved from 0.00027 to 0.00003, saving model to best_model.h5\n",
      "\n",
      "Epoch 00003: val_loss did not improve from 0.00003\n",
      "\n",
      "Epoch 00004: val_loss did not improve from 0.00003\n",
      "\n",
      "Epoch 00005: val_loss improved from 0.00003 to 0.00002, saving model to best_model.h5\n",
      "\n",
      "Epoch 00006: val_loss did not improve from 0.00002\n",
      "\n",
      "Epoch 00007: val_loss did not improve from 0.00002\n",
      "\n",
      "Epoch 00008: val_loss did not improve from 0.00002\n",
      "\n",
      "Epoch 00009: val_loss did not improve from 0.00002\n",
      "\n",
      "Epoch 00010: val_loss did not improve from 0.00002\n",
      "Epoch 00010: early stopping\n",
      "2-th combination = (False, False, False, 16, 32, 0.2) \n",
      " train accuracy: [0.00027068296913057566, 0.016452446579933167] and test accuracy: [0.00018709457071963698, 0.013678251765668392]\n",
      "--------------------------------------------------------------------\n",
      "--------------------------------------------------------------------\n",
      "--------------------------------------------------------------------\n",
      "--------------------------------------------------------------------\n",
      "4th combination: \n",
      "\n",
      "--------------------------------------------------------------------\n",
      "\n",
      "Epoch 00001: val_loss improved from inf to 0.00010, saving model to best_model.h5\n",
      "\n",
      "Epoch 00002: val_loss improved from 0.00010 to 0.00003, saving model to best_model.h5\n",
      "\n",
      "Epoch 00003: val_loss improved from 0.00003 to 0.00002, saving model to best_model.h5\n",
      "\n",
      "Epoch 00004: val_loss did not improve from 0.00002\n",
      "\n",
      "Epoch 00005: val_loss did not improve from 0.00002\n",
      "\n",
      "Epoch 00006: val_loss improved from 0.00002 to 0.00002, saving model to best_model.h5\n",
      "\n",
      "Epoch 00007: val_loss did not improve from 0.00002\n",
      "\n",
      "Epoch 00008: val_loss did not improve from 0.00002\n",
      "\n",
      "Epoch 00009: val_loss did not improve from 0.00002\n",
      "\n",
      "Epoch 00010: val_loss did not improve from 0.00002\n",
      "\n",
      "Epoch 00011: val_loss did not improve from 0.00002\n",
      "Epoch 00011: early stopping\n",
      "3-th combination = (False, False, False, 32, 8, 0.2) \n",
      " train accuracy: [4.7083802201086655e-05, 0.006861764006316662] and test accuracy: [5.882513869437389e-05, 0.007669754792004824]\n",
      "--------------------------------------------------------------------\n",
      "--------------------------------------------------------------------\n",
      "--------------------------------------------------------------------\n",
      "--------------------------------------------------------------------\n",
      "5th combination: \n",
      "\n",
      "--------------------------------------------------------------------\n",
      "\n",
      "Epoch 00001: val_loss improved from inf to 0.00016, saving model to best_model.h5\n",
      "\n",
      "Epoch 00002: val_loss improved from 0.00016 to 0.00005, saving model to best_model.h5\n",
      "\n",
      "Epoch 00003: val_loss did not improve from 0.00005\n",
      "\n",
      "Epoch 00004: val_loss did not improve from 0.00005\n",
      "\n",
      "Epoch 00005: val_loss improved from 0.00005 to 0.00002, saving model to best_model.h5\n",
      "\n",
      "Epoch 00006: val_loss did not improve from 0.00002\n",
      "\n",
      "Epoch 00007: val_loss improved from 0.00002 to 0.00002, saving model to best_model.h5\n",
      "\n",
      "Epoch 00008: val_loss did not improve from 0.00002\n",
      "\n",
      "Epoch 00009: val_loss did not improve from 0.00002\n",
      "\n",
      "Epoch 00010: val_loss did not improve from 0.00002\n",
      "\n",
      "Epoch 00011: val_loss did not improve from 0.00002\n",
      "\n",
      "Epoch 00012: val_loss did not improve from 0.00002\n",
      "Epoch 00012: early stopping\n",
      "4-th combination = (False, False, False, 32, 16, 0.2) \n",
      " train accuracy: [0.00012150517432019114, 0.011022938415408134] and test accuracy: [0.000247101386776194, 0.0157194584608078]\n",
      "--------------------------------------------------------------------\n",
      "--------------------------------------------------------------------\n",
      "--------------------------------------------------------------------\n",
      "--------------------------------------------------------------------\n",
      "6th combination: \n",
      "\n",
      "--------------------------------------------------------------------\n",
      "\n",
      "Epoch 00001: val_loss improved from inf to 0.00012, saving model to best_model.h5\n",
      "\n",
      "Epoch 00002: val_loss improved from 0.00012 to 0.00010, saving model to best_model.h5\n",
      "\n",
      "Epoch 00003: val_loss improved from 0.00010 to 0.00009, saving model to best_model.h5\n",
      "\n",
      "Epoch 00004: val_loss improved from 0.00009 to 0.00008, saving model to best_model.h5\n",
      "\n",
      "Epoch 00005: val_loss improved from 0.00008 to 0.00004, saving model to best_model.h5\n",
      "\n",
      "Epoch 00006: val_loss did not improve from 0.00004\n",
      "\n",
      "Epoch 00007: val_loss did not improve from 0.00004\n",
      "\n",
      "Epoch 00008: val_loss did not improve from 0.00004\n",
      "\n",
      "Epoch 00009: val_loss did not improve from 0.00004\n",
      "\n",
      "Epoch 00010: val_loss did not improve from 0.00004\n",
      "Epoch 00010: early stopping\n",
      "5-th combination = (False, False, False, 32, 32, 0.2) \n",
      " train accuracy: [0.00011023916158592328, 0.010499483905732632] and test accuracy: [1.5906898624962196e-05, 0.00398834515362978]\n",
      "--------------------------------------------------------------------\n",
      "--------------------------------------------------------------------\n",
      "--------------------------------------------------------------------\n",
      "--------------------------------------------------------------------\n"
     ]
    }
   ],
   "source": [
    "config = [[False], [False], [False], [16, 32], [8, 16, 32], [0.2]]  \n",
    "\n",
    "# list of lists --> [[first_additional_layer], [second_additional_layer], [third_additional_layer], [n_neurons], [n_batch_size], [dropout]]\n",
    "\n",
    "hist = LSTM_HyperParameter_Tuning(config, X_train, y_train, X_test, y_test)  # change x_train shape"
   ]
  },
  {
   "cell_type": "code",
   "execution_count": 56,
   "id": "d75ae484",
   "metadata": {},
   "outputs": [
    {
     "data": {
      "text/html": [
       "<div>\n",
       "<style scoped>\n",
       "    .dataframe tbody tr th:only-of-type {\n",
       "        vertical-align: middle;\n",
       "    }\n",
       "\n",
       "    .dataframe tbody tr th {\n",
       "        vertical-align: top;\n",
       "    }\n",
       "\n",
       "    .dataframe thead th {\n",
       "        text-align: right;\n",
       "    }\n",
       "</style>\n",
       "<table border=\"1\" class=\"dataframe\">\n",
       "  <thead>\n",
       "    <tr style=\"text-align: right;\">\n",
       "      <th></th>\n",
       "      <th>0</th>\n",
       "      <th>1</th>\n",
       "      <th>2</th>\n",
       "      <th>3</th>\n",
       "      <th>4</th>\n",
       "      <th>5</th>\n",
       "      <th>6</th>\n",
       "      <th>7</th>\n",
       "    </tr>\n",
       "  </thead>\n",
       "  <tbody>\n",
       "    <tr>\n",
       "      <th>5</th>\n",
       "      <td>False</td>\n",
       "      <td>False</td>\n",
       "      <td>False</td>\n",
       "      <td>32</td>\n",
       "      <td>32</td>\n",
       "      <td>0.2</td>\n",
       "      <td>[0.00011023916158592328, 0.010499483905732632]</td>\n",
       "      <td>[1.5906898624962196e-05, 0.00398834515362978]</td>\n",
       "    </tr>\n",
       "    <tr>\n",
       "      <th>0</th>\n",
       "      <td>False</td>\n",
       "      <td>False</td>\n",
       "      <td>False</td>\n",
       "      <td>16</td>\n",
       "      <td>8</td>\n",
       "      <td>0.2</td>\n",
       "      <td>[5.068053724244237e-05, 0.007119026500731707]</td>\n",
       "      <td>[2.5393163014086895e-05, 0.0050391629338264465]</td>\n",
       "    </tr>\n",
       "    <tr>\n",
       "      <th>3</th>\n",
       "      <td>False</td>\n",
       "      <td>False</td>\n",
       "      <td>False</td>\n",
       "      <td>32</td>\n",
       "      <td>8</td>\n",
       "      <td>0.2</td>\n",
       "      <td>[4.7083802201086655e-05, 0.006861764006316662]</td>\n",
       "      <td>[5.882513869437389e-05, 0.007669754792004824]</td>\n",
       "    </tr>\n",
       "    <tr>\n",
       "      <th>1</th>\n",
       "      <td>False</td>\n",
       "      <td>False</td>\n",
       "      <td>False</td>\n",
       "      <td>16</td>\n",
       "      <td>16</td>\n",
       "      <td>0.2</td>\n",
       "      <td>[0.00013779681466985494, 0.011738688684999943]</td>\n",
       "      <td>[8.050991164054722e-05, 0.008972731418907642]</td>\n",
       "    </tr>\n",
       "    <tr>\n",
       "      <th>2</th>\n",
       "      <td>False</td>\n",
       "      <td>False</td>\n",
       "      <td>False</td>\n",
       "      <td>16</td>\n",
       "      <td>32</td>\n",
       "      <td>0.2</td>\n",
       "      <td>[0.00027068296913057566, 0.016452446579933167]</td>\n",
       "      <td>[0.00018709457071963698, 0.013678251765668392]</td>\n",
       "    </tr>\n",
       "    <tr>\n",
       "      <th>4</th>\n",
       "      <td>False</td>\n",
       "      <td>False</td>\n",
       "      <td>False</td>\n",
       "      <td>32</td>\n",
       "      <td>16</td>\n",
       "      <td>0.2</td>\n",
       "      <td>[0.00012150517432019114, 0.011022938415408134]</td>\n",
       "      <td>[0.000247101386776194, 0.0157194584608078]</td>\n",
       "    </tr>\n",
       "  </tbody>\n",
       "</table>\n",
       "</div>"
      ],
      "text/plain": [
       "       0      1      2   3   4    5  \\\n",
       "5  False  False  False  32  32  0.2   \n",
       "0  False  False  False  16   8  0.2   \n",
       "3  False  False  False  32   8  0.2   \n",
       "1  False  False  False  16  16  0.2   \n",
       "2  False  False  False  16  32  0.2   \n",
       "4  False  False  False  32  16  0.2   \n",
       "\n",
       "                                                6  \\\n",
       "5  [0.00011023916158592328, 0.010499483905732632]   \n",
       "0   [5.068053724244237e-05, 0.007119026500731707]   \n",
       "3  [4.7083802201086655e-05, 0.006861764006316662]   \n",
       "1  [0.00013779681466985494, 0.011738688684999943]   \n",
       "2  [0.00027068296913057566, 0.016452446579933167]   \n",
       "4  [0.00012150517432019114, 0.011022938415408134]   \n",
       "\n",
       "                                                 7  \n",
       "5    [1.5906898624962196e-05, 0.00398834515362978]  \n",
       "0  [2.5393163014086895e-05, 0.0050391629338264465]  \n",
       "3    [5.882513869437389e-05, 0.007669754792004824]  \n",
       "1    [8.050991164054722e-05, 0.008972731418907642]  \n",
       "2   [0.00018709457071963698, 0.013678251765668392]  \n",
       "4       [0.000247101386776194, 0.0157194584608078]  "
      ]
     },
     "execution_count": 56,
     "metadata": {},
     "output_type": "execute_result"
    }
   ],
   "source": [
    "hist = pd.DataFrame(hist)\n",
    "hist = hist.sort_values(by=[7], ascending=True)\n",
    "hist"
   ]
  },
  {
   "cell_type": "code",
   "execution_count": 57,
   "id": "c11f6e37",
   "metadata": {},
   "outputs": [
    {
     "name": "stdout",
     "output_type": "stream",
     "text": [
      "Best Combination: \n",
      " first_additional_layer = False\n",
      " second_additional_layer = False\n",
      " third_additional_layer = False\n",
      " n_neurons = 32\n",
      " n_batch_size = 32\n",
      " dropout = 0.2\n",
      "**************************\n",
      "Results Before Tunning:\n",
      " Test Set RMSE: 0.0102\n",
      "\n",
      "Results After Tunning:\n",
      " Test Set RMSE: 0.004\n",
      "\n",
      "61.0% Improvement\n"
     ]
    }
   ],
   "source": [
    "print(f'Best Combination: \\n first_additional_layer = {hist.iloc[0, 0]}\\n second_additional_layer = {hist.iloc[0, 1]}\\n third_additional_layer = {hist.iloc[0, 2]}\\n n_neurons = {hist.iloc[0, 3]}\\n n_batch_size = {hist.iloc[0, 4]}\\n dropout = {hist.iloc[0, 5]}')\n",
    "print('**************************')\n",
    "print(f'Results Before Tunning:\\n Test Set RMSE: {np.round(results, 4)[1]}\\n')\n",
    "print(f'Results After Tunning:\\n Test Set RMSE: {np.round(hist.iloc[0, -1], 4)[1]}\\n')\n",
    "print(f'{np.round((results[1] - hist.iloc[0, -1][1])*100/np.round(results, 4)[1])}% Improvement')"
   ]
  },
  {
   "cell_type": "code",
   "execution_count": 58,
   "id": "02c8cffc",
   "metadata": {},
   "outputs": [],
   "source": [
    "first_additional_layer, second_additional_layer, third_additional_layer, n_neurons, n_batch_size, dropout = list(hist.iloc[0, :-2])"
   ]
  },
  {
   "cell_type": "code",
   "execution_count": 59,
   "id": "8ac99a67",
   "metadata": {},
   "outputs": [
    {
     "name": "stdout",
     "output_type": "stream",
     "text": [
      "\n",
      "Epoch 00001: val_loss improved from inf to 0.00015, saving model to best_model.h5\n",
      "\n",
      "Epoch 00002: val_loss improved from 0.00015 to 0.00011, saving model to best_model.h5\n",
      "\n",
      "Epoch 00003: val_loss improved from 0.00011 to 0.00009, saving model to best_model.h5\n",
      "\n",
      "Epoch 00004: val_loss improved from 0.00009 to 0.00006, saving model to best_model.h5\n",
      "\n",
      "Epoch 00005: val_loss improved from 0.00006 to 0.00003, saving model to best_model.h5\n",
      "\n",
      "Epoch 00006: val_loss improved from 0.00003 to 0.00002, saving model to best_model.h5\n",
      "\n",
      "Epoch 00007: val_loss improved from 0.00002 to 0.00002, saving model to best_model.h5\n",
      "\n",
      "Epoch 00008: val_loss did not improve from 0.00002\n",
      "\n",
      "Epoch 00009: val_loss did not improve from 0.00002\n",
      "\n",
      "Epoch 00010: val_loss did not improve from 0.00002\n",
      "\n",
      "Epoch 00011: val_loss did not improve from 0.00002\n",
      "\n",
      "Epoch 00012: val_loss did not improve from 0.00002\n",
      "Epoch 00012: early stopping\n"
     ]
    },
    {
     "data": {
      "text/plain": [
       "<tensorflow.python.keras.callbacks.History at 0x1bd6de7db20>"
      ]
     },
     "execution_count": 59,
     "metadata": {},
     "output_type": "execute_result"
    }
   ],
   "source": [
    "regressor = Sequential()\n",
    "regressor.add(LSTM(units=n_neurons, return_sequences=True, input_shape=(X_train.shape[1], X_train.shape[2])))\n",
    "regressor.add(Dropout(dropout))\n",
    "\n",
    "if first_additional_layer:\n",
    "    regressor.add(LSTM(units=n_neurons, return_sequences=True))\n",
    "    regressor.add(Dropout(dropout))\n",
    "\n",
    "if second_additional_layer:\n",
    "    regressor.add(LSTM(units=n_neurons, return_sequences=True))\n",
    "    regressor.add(Dropout(dropout))\n",
    "\n",
    "if third_additional_layer:\n",
    "    regressor.add(GRU(units=n_neurons, return_sequences=True))\n",
    "    regressor.add(Dropout(dropout))\n",
    "\n",
    "regressor.add(LSTM(units=n_neurons, return_sequences=False))\n",
    "regressor.add(Dropout(dropout))\n",
    "regressor.add(Dense(units=1, activation='linear'))\n",
    "regressor.compile(optimizer='adam', loss='mse')\n",
    "\n",
    "es = EarlyStopping(monitor='val_loss', mode='min', verbose=1, patience=5)\n",
    "\n",
    "file_path = 'best_model.h5'\n",
    "\n",
    "mc = ModelCheckpoint(file_path, monitor='val_loss', mode='min', verbose=1, save_best_only=True)\n",
    "\n",
    "regressor.fit(X_train, y_train, validation_split=0.3, epochs=40, batch_size=n_batch_size, callbacks=[es, mc], verbose=0)"
   ]
  },
  {
   "cell_type": "code",
   "execution_count": 62,
   "id": "9017e6c3",
   "metadata": {},
   "outputs": [
    {
     "name": "stdout",
     "output_type": "stream",
     "text": [
      "164/164 [==============================] - 1s 4ms/step - loss: 9.5658e-05A: 0s - loss: 8.7923e\n",
      "test loss, test acc: 0.0001\n"
     ]
    }
   ],
   "source": [
    "results=regressor.evaluate(X_test, y_test)\n",
    "print(\"test loss, test acc:\", np.round(results, 4))"
   ]
  },
  {
   "cell_type": "code",
   "execution_count": 61,
   "id": "2cf45153",
   "metadata": {},
   "outputs": [
    {
     "data": {
      "text/plain": [
       "<matplotlib.legend.Legend at 0x1bd63a54fa0>"
      ]
     },
     "execution_count": 61,
     "metadata": {},
     "output_type": "execute_result"
    },
    {
     "data": {
      "image/png": "[encoded data removed]",
      "text/plain": [
       "<Figure size 1600x800 with 1 Axes>"
      ]
     },
     "metadata": {},
     "output_type": "display_data"
    }
   ],
   "source": [
    "y_pred = regressor.predict(X_test)\n",
    "\n",
    "plt.figure(figsize=(16,8), dpi= 100, facecolor='w', edgecolor='k')\n",
    "\n",
    "plt.plot(y_test, color='red', label = 'Real Close Price')\n",
    "plt.plot(y_pred, color='green', label = 'Predicted Close Price')\n",
    "plt.legend(loc='best')"
   ]
  },
  {
   "cell_type": "code",
   "execution_count": 91,
   "id": "fa06d7ab",
   "metadata": {},
   "outputs": [],
   "source": [
    "predicted_btc_price_test_data = sc_pred.inverse_transform(y_pred)\n",
    "test_actual = sc_pred.inverse_transform(y_test.reshape(-1, 1))"
   ]
  },
  {
   "cell_type": "code",
   "execution_count": 94,
   "id": "8e860c62",
   "metadata": {},
   "outputs": [
    {
     "data": {
      "text/plain": [
       "array([[21613.738],\n",
       "       [21618.385],\n",
       "       [21612.777],\n",
       "       ...,\n",
       "       [19733.885],\n",
       "       [19737.941],\n",
       "       [19737.35 ]], dtype=float32)"
      ]
     },
     "execution_count": 94,
     "metadata": {},
     "output_type": "execute_result"
    }
   ],
   "source": [
    "predicted_btc_price_test_data"
   ]
  },
  {
   "cell_type": "code",
   "execution_count": 95,
   "id": "db4f017b",
   "metadata": {},
   "outputs": [
    {
     "data": {
      "text/plain": [
       "array([[21447.93],\n",
       "       [21440.1 ],\n",
       "       [21418.53],\n",
       "       ...,\n",
       "       [19452.66],\n",
       "       [19427.41],\n",
       "       [19460.94]])"
      ]
     },
     "execution_count": 95,
     "metadata": {},
     "output_type": "execute_result"
    }
   ],
   "source": [
    "test_actual"
   ]
  },
  {
   "cell_type": "code",
   "execution_count": null,
   "id": "d019c780",
   "metadata": {},
   "outputs": [],
   "source": [
    "display_start_date = \"2022-04-01\" \n",
    "\n",
    "# Add the difference between the valid and predicted prices\n",
    "train = pd.DataFrame(data_prices['Close'][:train_data_len + 1]).rename(columns={'Close': 'y_train'})\n",
    "valid = pd.DataFrame(data_prices['Close'][train_data_len:]).rename(columns={'Close': 'y_test'})\n",
    "valid.insert(1, \"y_pred\", y_pred, True)\n",
    "valid.insert(1, \"residuals\", valid[\"y_pred\"] - valid[\"y_test\"], True)\n",
    "df_union = pd.concat([train, valid])"
   ]
  }
 ],
 "metadata": {
  "kernelspec": {
   "display_name": "Python 3",
   "language": "python",
   "name": "python3"
  },
  "language_info": {
   "codemirror_mode": {
    "name": "ipython",
    "version": 3
   },
   "file_extension": ".py",
   "mimetype": "text/x-python",
   "name": "python",
   "nbconvert_exporter": "python",
   "pygments_lexer": "ipython3",
   "version": "3.8.8"
  }
 },
 "nbformat": 4,
 "nbformat_minor": 5
}
