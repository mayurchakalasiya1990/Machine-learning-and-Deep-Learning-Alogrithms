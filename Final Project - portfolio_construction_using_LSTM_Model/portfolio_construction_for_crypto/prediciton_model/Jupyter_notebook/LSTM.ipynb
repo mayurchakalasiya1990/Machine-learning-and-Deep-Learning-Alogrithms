{
 "cells": [
  {
   "cell_type": "code",
   "execution_count": 121,
   "id": "feb81ab5",
   "metadata": {},
   "outputs": [],
   "source": [
    "import numpy as np\n",
    "import pandas as pd\n",
    " \n",
    "class PastSampler:\n",
    "    '''\n",
    "    Forms training samples for predicting future values from past value\n",
    "    '''\n",
    "     \n",
    "    def __init__(self, N, K, sliding_window = True):\n",
    "        '''\n",
    "        Predict K future sample using N previous samples\n",
    "        '''\n",
    "        self.K = K\n",
    "        self.N = N\n",
    "        self.sliding_window = sliding_window\n",
    " \n",
    "    def transform(self, A):\n",
    "        M = self.N + self.K     #Number of samples per row (sample + target)\n",
    "        #indexes\n",
    "        if self.sliding_window:\n",
    "            I = np.arange(M) + np.arange(A.shape[0] - M + 1).reshape(-1, 1)\n",
    "        else:\n",
    "            if A.shape[0]%M == 0:\n",
    "                I = np.arange(M)+np.arange(0,A.shape[0],M).reshape(-1,1)\n",
    "                \n",
    "            else:\n",
    "                I = np.arange(M)+np.arange(0,A.shape[0] -M,M).reshape(-1,1)\n",
    "                print('I----',I)\n",
    "            \n",
    "        B = A[I].reshape(-1, M * A.shape[1], A.shape[2])\n",
    "        ci = self.N * A.shape[1]    #Number of features per sample\n",
    "        return B[:, :ci], B[:, ci:] #Sample matrix, Target matrix\n"
   ]
  },
  {
   "cell_type": "code",
   "execution_count": 122,
   "id": "df052553",
   "metadata": {},
   "outputs": [],
   "source": [
    "#data file path\n",
    "dfp = '../data/kaggle/BTC-2021min.csv'\n",
    "\n",
    "#Columns of price data to use\n",
    "columns = ['close']\n",
    "# df = pd.read_csv(dfp).dropna().tail(1000000)\n",
    "df = pd.read_csv(dfp)\n",
    "df1 = pd.read_csv(dfp)\n",
    "time_stamps = df['unix']\n",
    "df = df.loc[:,columns]\n",
    "# original_df = pd.read_csv(dfp).dropna().tail(1000000).loc[:,columns]\n",
    "original_df = pd.read_csv(dfp).loc[:,columns]\n"
   ]
  },
  {
   "cell_type": "code",
   "execution_count": 123,
   "id": "3efdf5da",
   "metadata": {},
   "outputs": [
    {
     "data": {
      "text/html": [
       "<div>\n",
       "<style scoped>\n",
       "    .dataframe tbody tr th:only-of-type {\n",
       "        vertical-align: middle;\n",
       "    }\n",
       "\n",
       "    .dataframe tbody tr th {\n",
       "        vertical-align: top;\n",
       "    }\n",
       "\n",
       "    .dataframe thead th {\n",
       "        text-align: right;\n",
       "    }\n",
       "</style>\n",
       "<table border=\"1\" class=\"dataframe\">\n",
       "  <thead>\n",
       "    <tr style=\"text-align: right;\">\n",
       "      <th></th>\n",
       "      <th>unix</th>\n",
       "      <th>date</th>\n",
       "      <th>symbol</th>\n",
       "      <th>open</th>\n",
       "      <th>high</th>\n",
       "      <th>low</th>\n",
       "      <th>close</th>\n",
       "      <th>Volume BTC</th>\n",
       "      <th>Volume USD</th>\n",
       "    </tr>\n",
       "  </thead>\n",
       "  <tbody>\n",
       "    <tr>\n",
       "      <th>610777</th>\n",
       "      <td>1646105880</td>\n",
       "      <td>3/1/2022 3:38</td>\n",
       "      <td>BTC/USD</td>\n",
       "      <td>43077.82</td>\n",
       "      <td>43077.82</td>\n",
       "      <td>43049.46</td>\n",
       "      <td>43049.46</td>\n",
       "      <td>0.022210</td>\n",
       "      <td>956.143143</td>\n",
       "    </tr>\n",
       "    <tr>\n",
       "      <th>610778</th>\n",
       "      <td>1646105940</td>\n",
       "      <td>3/1/2022 3:39</td>\n",
       "      <td>BTC/USD</td>\n",
       "      <td>43035.16</td>\n",
       "      <td>43035.16</td>\n",
       "      <td>42999.44</td>\n",
       "      <td>42999.44</td>\n",
       "      <td>0.820950</td>\n",
       "      <td>35300.390270</td>\n",
       "    </tr>\n",
       "    <tr>\n",
       "      <th>610779</th>\n",
       "      <td>1646106000</td>\n",
       "      <td>3/1/2022 3:40</td>\n",
       "      <td>BTC/USD</td>\n",
       "      <td>43022.24</td>\n",
       "      <td>43022.24</td>\n",
       "      <td>43016.03</td>\n",
       "      <td>43016.03</td>\n",
       "      <td>0.009230</td>\n",
       "      <td>397.037957</td>\n",
       "    </tr>\n",
       "    <tr>\n",
       "      <th>610780</th>\n",
       "      <td>1646106060</td>\n",
       "      <td>3/1/2022 3:41</td>\n",
       "      <td>BTC/USD</td>\n",
       "      <td>43018.23</td>\n",
       "      <td>43046.59</td>\n",
       "      <td>43018.23</td>\n",
       "      <td>43046.58</td>\n",
       "      <td>0.142977</td>\n",
       "      <td>6154.673021</td>\n",
       "    </tr>\n",
       "    <tr>\n",
       "      <th>610781</th>\n",
       "      <td>1646106180</td>\n",
       "      <td>3/1/2022 3:43</td>\n",
       "      <td>BTC/USD</td>\n",
       "      <td>43046.58</td>\n",
       "      <td>43046.58</td>\n",
       "      <td>43046.58</td>\n",
       "      <td>43046.58</td>\n",
       "      <td>0.000000</td>\n",
       "      <td>0.000000</td>\n",
       "    </tr>\n",
       "  </tbody>\n",
       "</table>\n",
       "</div>"
      ],
      "text/plain": [
       "              unix           date   symbol      open      high       low  \\\n",
       "610777  1646105880  3/1/2022 3:38  BTC/USD  43077.82  43077.82  43049.46   \n",
       "610778  1646105940  3/1/2022 3:39  BTC/USD  43035.16  43035.16  42999.44   \n",
       "610779  1646106000  3/1/2022 3:40  BTC/USD  43022.24  43022.24  43016.03   \n",
       "610780  1646106060  3/1/2022 3:41  BTC/USD  43018.23  43046.59  43018.23   \n",
       "610781  1646106180  3/1/2022 3:43  BTC/USD  43046.58  43046.58  43046.58   \n",
       "\n",
       "           close  Volume BTC    Volume USD  \n",
       "610777  43049.46    0.022210    956.143143  \n",
       "610778  42999.44    0.820950  35300.390270  \n",
       "610779  43016.03    0.009230    397.037957  \n",
       "610780  43046.58    0.142977   6154.673021  \n",
       "610781  43046.58    0.000000      0.000000  "
      ]
     },
     "execution_count": 123,
     "metadata": {},
     "output_type": "execute_result"
    }
   ],
   "source": [
    "#26753010\n",
    "#df1[\"date\"] = df1[\"date\"].apply(pd.to_datetime)\n",
    "\n",
    "df1.tail()"
   ]
  },
  {
   "cell_type": "code",
   "execution_count": 124,
   "id": "c79b26bd",
   "metadata": {},
   "outputs": [
    {
     "data": {
      "text/plain": [
       "unix            int64\n",
       "date           object\n",
       "symbol         object\n",
       "open          float64\n",
       "high          float64\n",
       "low           float64\n",
       "close         float64\n",
       "Volume BTC    float64\n",
       "Volume USD    float64\n",
       "dtype: object"
      ]
     },
     "execution_count": 124,
     "metadata": {},
     "output_type": "execute_result"
    }
   ],
   "source": [
    "df1.dtypes"
   ]
  },
  {
   "cell_type": "code",
   "execution_count": null,
   "id": "cc9d9370",
   "metadata": {},
   "outputs": [],
   "source": []
  },
  {
   "cell_type": "code",
   "execution_count": null,
   "id": "94c4f844",
   "metadata": {},
   "outputs": [],
   "source": []
  },
  {
   "cell_type": "code",
   "execution_count": null,
   "id": "3c25e0d3",
   "metadata": {},
   "outputs": [],
   "source": []
  },
  {
   "cell_type": "code",
   "execution_count": 125,
   "id": "688ce947",
   "metadata": {},
   "outputs": [
    {
     "data": {
      "text/plain": [
       "0         1609459260\n",
       "1         1609459320\n",
       "2         1609459380\n",
       "3         1609459440\n",
       "4         1609459500\n",
       "             ...    \n",
       "610777    1646105880\n",
       "610778    1646105940\n",
       "610779    1646106000\n",
       "610780    1646106060\n",
       "610781    1646106180\n",
       "Name: unix, Length: 610782, dtype: int64"
      ]
     },
     "execution_count": 125,
     "metadata": {},
     "output_type": "execute_result"
    }
   ],
   "source": [
    "file_name='bitcoin2015to2017_close.h5'\n",
    "time_stamps"
   ]
  },
  {
   "cell_type": "code",
   "execution_count": 126,
   "id": "7f0196fb",
   "metadata": {},
   "outputs": [
    {
     "data": {
      "text/html": [
       "<div>\n",
       "<style scoped>\n",
       "    .dataframe tbody tr th:only-of-type {\n",
       "        vertical-align: middle;\n",
       "    }\n",
       "\n",
       "    .dataframe tbody tr th {\n",
       "        vertical-align: top;\n",
       "    }\n",
       "\n",
       "    .dataframe thead th {\n",
       "        text-align: right;\n",
       "    }\n",
       "</style>\n",
       "<table border=\"1\" class=\"dataframe\">\n",
       "  <thead>\n",
       "    <tr style=\"text-align: right;\">\n",
       "      <th></th>\n",
       "      <th>close</th>\n",
       "    </tr>\n",
       "  </thead>\n",
       "  <tbody>\n",
       "    <tr>\n",
       "      <th>0</th>\n",
       "      <td>0.024689</td>\n",
       "    </tr>\n",
       "    <tr>\n",
       "      <th>1</th>\n",
       "      <td>0.023526</td>\n",
       "    </tr>\n",
       "    <tr>\n",
       "      <th>2</th>\n",
       "      <td>0.023825</td>\n",
       "    </tr>\n",
       "    <tr>\n",
       "      <th>3</th>\n",
       "      <td>0.023754</td>\n",
       "    </tr>\n",
       "    <tr>\n",
       "      <th>4</th>\n",
       "      <td>0.022637</td>\n",
       "    </tr>\n",
       "    <tr>\n",
       "      <th>...</th>\n",
       "      <td>...</td>\n",
       "    </tr>\n",
       "    <tr>\n",
       "      <th>610777</th>\n",
       "      <td>0.365931</td>\n",
       "    </tr>\n",
       "    <tr>\n",
       "      <th>610778</th>\n",
       "      <td>0.364708</td>\n",
       "    </tr>\n",
       "    <tr>\n",
       "      <th>610779</th>\n",
       "      <td>0.365114</td>\n",
       "    </tr>\n",
       "    <tr>\n",
       "      <th>610780</th>\n",
       "      <td>0.365860</td>\n",
       "    </tr>\n",
       "    <tr>\n",
       "      <th>610781</th>\n",
       "      <td>0.365860</td>\n",
       "    </tr>\n",
       "  </tbody>\n",
       "</table>\n",
       "<p>610782 rows × 1 columns</p>\n",
       "</div>"
      ],
      "text/plain": [
       "           close\n",
       "0       0.024689\n",
       "1       0.023526\n",
       "2       0.023825\n",
       "3       0.023754\n",
       "4       0.022637\n",
       "...          ...\n",
       "610777  0.365931\n",
       "610778  0.364708\n",
       "610779  0.365114\n",
       "610780  0.365860\n",
       "610781  0.365860\n",
       "\n",
       "[610782 rows x 1 columns]"
      ]
     },
     "execution_count": 126,
     "metadata": {},
     "output_type": "execute_result"
    }
   ],
   "source": [
    "from sklearn.preprocessing import MinMaxScaler\n",
    "scaler = MinMaxScaler()\n",
    "# normalization\n",
    "for c in columns:\n",
    "    df[c] = scaler.fit_transform(df[c].values.reshape(-1,1))\n",
    "    \n",
    "df"
   ]
  },
  {
   "cell_type": "code",
   "execution_count": 127,
   "id": "7255335a",
   "metadata": {},
   "outputs": [],
   "source": [
    "##%%Features are channels\n",
    "A = np.array(df)[:,None,:]\n",
    "original_A = np.array(original_df)[:,None,:]\n",
    "time_stamps = np.array(time_stamps)[:,None,None]\n",
    "##%%Make samples of temporal sequences of pricing data (channel)\n",
    "NPS, NFS = 256, 16         #Number of past and future samples\n",
    "ps = PastSampler(NPS, NFS, sliding_window=False)\n"
   ]
  },
  {
   "cell_type": "code",
   "execution_count": 128,
   "id": "fa54510a",
   "metadata": {},
   "outputs": [
    {
     "name": "stdout",
     "output_type": "stream",
     "text": [
      "I---- [[     0      1      2 ...    269    270    271]\n",
      " [   272    273    274 ...    541    542    543]\n",
      " [   544    545    546 ...    813    814    815]\n",
      " ...\n",
      " [609824 609825 609826 ... 610093 610094 610095]\n",
      " [610096 610097 610098 ... 610365 610366 610367]\n",
      " [610368 610369 610370 ... 610637 610638 610639]]\n"
     ]
    },
    {
     "data": {
      "text/plain": [
       "(2245, 256, 1)"
      ]
     },
     "execution_count": 128,
     "metadata": {},
     "output_type": "execute_result"
    }
   ],
   "source": [
    "B, Y = ps.transform(A)\n",
    "B.shape"
   ]
  },
  {
   "cell_type": "code",
   "execution_count": 129,
   "id": "c3c94b6f",
   "metadata": {},
   "outputs": [
    {
     "name": "stdout",
     "output_type": "stream",
     "text": [
      "original_A: (610782, 1, 1)\n",
      "time_stamps: (610782, 1, 1)\n",
      "B: (2245, 256, 1)\n",
      "Y: (2245, 16, 1)\n"
     ]
    }
   ],
   "source": [
    "print('original_A:',original_A.shape)\n",
    "print('time_stamps:',time_stamps.shape)\n",
    "print('B:',B.shape)\n",
    "print('Y:',Y.shape)\n"
   ]
  },
  {
   "cell_type": "code",
   "execution_count": 130,
   "id": "2a5a6b20",
   "metadata": {},
   "outputs": [
    {
     "name": "stdout",
     "output_type": "stream",
     "text": [
      "I---- [[     0      1      2 ...    269    270    271]\n",
      " [   272    273    274 ...    541    542    543]\n",
      " [   544    545    546 ...    813    814    815]\n",
      " ...\n",
      " [609824 609825 609826 ... 610093 610094 610095]\n",
      " [610096 610097 610098 ... 610365 610366 610367]\n",
      " [610368 610369 610370 ... 610637 610638 610639]]\n",
      "I---- [[     0      1      2 ...    269    270    271]\n",
      " [   272    273    274 ...    541    542    543]\n",
      " [   544    545    546 ...    813    814    815]\n",
      " ...\n",
      " [609824 609825 609826 ... 610093 610094 610095]\n",
      " [610096 610097 610098 ... 610365 610366 610367]\n",
      " [610368 610369 610370 ... 610637 610638 610639]]\n"
     ]
    }
   ],
   "source": [
    "input_times, output_times = ps.transform(time_stamps)\n",
    "original_B, original_Y = ps.transform(original_A)"
   ]
  },
  {
   "cell_type": "code",
   "execution_count": 131,
   "id": "0a231bdf",
   "metadata": {},
   "outputs": [
    {
     "name": "stdout",
     "output_type": "stream",
     "text": [
      "input_times: (2245, 256, 1)\n",
      "output_times: (2245, 16, 1)\n",
      "original_B: (2245, 256, 1)\n",
      "original_Y: (2245, 16, 1)\n"
     ]
    }
   ],
   "source": [
    "print('input_times:',input_times.shape)\n",
    "print('output_times:',output_times.shape)\n",
    "print('original_B:',original_B.shape)\n",
    "print('original_Y:',original_Y.shape)"
   ]
  },
  {
   "cell_type": "code",
   "execution_count": 132,
   "id": "8e9220e6",
   "metadata": {},
   "outputs": [],
   "source": [
    "data = pd.DataFrame()"
   ]
  },
  {
   "cell_type": "code",
   "execution_count": 133,
   "id": "ac5cde0a",
   "metadata": {},
   "outputs": [
    {
     "data": {
      "text/plain": [
       "(610782, 1)"
      ]
     },
     "execution_count": 133,
     "metadata": {},
     "output_type": "execute_result"
    }
   ],
   "source": [
    "np.array(original_df).shape"
   ]
  },
  {
   "cell_type": "code",
   "execution_count": 134,
   "id": "8bc79e50",
   "metadata": {},
   "outputs": [
    {
     "data": {
      "text/plain": [
       "(2245, 256, 1)"
      ]
     },
     "execution_count": 134,
     "metadata": {},
     "output_type": "execute_result"
    }
   ],
   "source": [
    "original_B.shape"
   ]
  },
  {
   "cell_type": "code",
   "execution_count": 135,
   "id": "cef20407",
   "metadata": {},
   "outputs": [
    {
     "data": {
      "text/plain": [
       "'\\nimport h5py\\nwith h5py.File(file_name, \\'w\\') as f:\\n    f.create_dataset(\"inputs\", data = B)\\n    f.create_dataset(\\'outputs\\', data = Y)\\n    f.create_dataset(\"input_times\", data = input_times)\\n    f.create_dataset(\\'output_times\\', data = output_times)\\n    f.create_dataset(\"original_datas\", data=np.array(original_df))\\n    f.create_dataset(\\'original_inputs\\',data=original_B)\\n    f.create_dataset(\\'original_outputs\\',data=original_Y)\\n#     f.create_dataset(\\'original_times\\', data=time_stamps)\\n'"
      ]
     },
     "execution_count": 135,
     "metadata": {},
     "output_type": "execute_result"
    }
   ],
   "source": [
    "\"\"\"\n",
    "import h5py\n",
    "with h5py.File(file_name, 'w') as f:\n",
    "    f.create_dataset(\"inputs\", data = B)\n",
    "    f.create_dataset('outputs', data = Y)\n",
    "    f.create_dataset(\"input_times\", data = input_times)\n",
    "    f.create_dataset('output_times', data = output_times)\n",
    "    f.create_dataset(\"original_datas\", data=np.array(original_df))\n",
    "    f.create_dataset('original_inputs',data=original_B)\n",
    "    f.create_dataset('original_outputs',data=original_Y)\n",
    "#     f.create_dataset('original_times', data=time_stamps)\n",
    "\"\"\""
   ]
  },
  {
   "cell_type": "code",
   "execution_count": 136,
   "id": "7dd8fcc9",
   "metadata": {},
   "outputs": [],
   "source": [
    "datas = B\n",
    "labels = Y\n",
    "input_times = input_times\n",
    "output_times = output_times\n",
    "original_inputs = original_B\n",
    "original_outputs = original_Y\n",
    "original_datas = np.array(original_df)"
   ]
  },
  {
   "cell_type": "code",
   "execution_count": 137,
   "id": "9f3f65d1",
   "metadata": {},
   "outputs": [],
   "source": [
    "import pandas as pd\n",
    "import numpy as numpy\n",
    "import tensorflow as tf\n",
    "from tensorflow.keras.models import Sequential\n",
    "from tensorflow.keras.layers import Dense, Dropout, Activation, Flatten,Reshape,LSTM, LeakyReLU\n",
    "from tensorflow.keras.layers import Conv1D, MaxPooling1D\n",
    "#from keras.utils import np_utils\n",
    "from tensorflow.keras.utils import to_categorical\n",
    "\n",
    "from tensorflow.keras.callbacks import CSVLogger, ModelCheckpoint\n",
    "import h5py\n",
    "import os\n",
    "\n",
    "from tensorflow.compat.v1.keras.backend import set_session\n",
    "from sklearn.preprocessing import MinMaxScaler\n",
    "import numpy as np\n",
    "import matplotlib.pyplot as plt\n"
   ]
  },
  {
   "cell_type": "code",
   "execution_count": 138,
   "id": "fd05730e",
   "metadata": {},
   "outputs": [],
   "source": [
    "os.environ['CUDA_DEVICE_ORDER'] = 'PCI_BUS_ID'\n",
    "os.environ['CUDA_VISIBLE_DEVICES'] = '1'\n",
    "os.environ['TF_CPP_MIN_LOG_LEVEL']='2'\n",
    "\n",
    "config = tf.compat.v1.ConfigProto()\n",
    "config.gpu_options.allow_growth = True\n",
    "set_session(tf.compat.v1.Session(config=config))"
   ]
  },
  {
   "cell_type": "code",
   "execution_count": 177,
   "id": "859b947b",
   "metadata": {},
   "outputs": [
    {
     "name": "stdout",
     "output_type": "stream",
     "text": [
      "step_size 256\n"
     ]
    }
   ],
   "source": [
    "step_size = datas.shape[1]\n",
    "print('step_size',step_size)\n",
    "units= 50\n",
    "second_units = 30\n",
    "batch_size = 8\n",
    "#batch_size = 1\n",
    "nb_features = datas.shape[2]\n",
    "epochs = 150\n",
    "output_size=16\n",
    "output_file_name='bitcoin2015to2017_close_LSTM_1_tanh_leaky_'\n",
    "#split training validation\n",
    "scaler=MinMaxScaler()\n",
    "#split training validation\n",
    "training_size = int(0.8* datas.shape[0])\n",
    "training_datas = datas[:training_size,:,:]\n",
    "training_labels = labels[:training_size,:,0]\n",
    "validation_datas = datas[training_size:,:,:]\n",
    "validation_labels = labels[training_size:,:,0]\n",
    "validation_original_outputs = original_outputs[training_size:,:,:]\n",
    "validation_original_inputs = original_inputs[training_size:,:,:]\n",
    "validation_input_times = input_times[training_size:,:,:]\n",
    "validation_output_times = output_times[training_size:,:,:]\n",
    "\n"
   ]
  },
  {
   "cell_type": "code",
   "execution_count": 178,
   "id": "5dd1f51a",
   "metadata": {},
   "outputs": [],
   "source": [
    "ground_true = np.append(validation_original_inputs,validation_original_outputs, axis=1)\n",
    "ground_true_times = np.append(validation_input_times,validation_output_times, axis=1)"
   ]
  },
  {
   "cell_type": "code",
   "execution_count": 179,
   "id": "f5c8683a",
   "metadata": {},
   "outputs": [
    {
     "name": "stdout",
     "output_type": "stream",
     "text": [
      "ground_true: (449, 272, 1)\n",
      "ground_true_times: (449, 272, 1)\n"
     ]
    }
   ],
   "source": [
    "print('ground_true:',ground_true.shape)\n",
    "print('ground_true_times:',ground_true_times.shape)"
   ]
  },
  {
   "cell_type": "code",
   "execution_count": 142,
   "id": "e11ed8ec",
   "metadata": {},
   "outputs": [
    {
     "name": "stdout",
     "output_type": "stream",
     "text": [
      "ground_true.shape (449, 272, 1)\n",
      "training_size: 1796\n",
      "training_datas: (1796, 256, 1)\n",
      "training_labels: (1796, 16)\n",
      "validation_datas: (449, 256, 1)\n",
      "validation_labels: (449, 16)\n",
      "validation_original_outputs: (449, 16, 1)\n",
      "validation_original_outputs: (449, 256, 1)\n",
      "validation_input_times: (449, 256, 1)\n",
      "validation_output_times: (449, 16, 1)\n"
     ]
    }
   ],
   "source": [
    "print('ground_true.shape',ground_true.shape)\n",
    "\n",
    "print('training_size:',training_size)\n",
    "print('training_datas:',training_datas.shape)\n",
    "print('training_labels:',training_labels.shape)\n",
    "print('validation_datas:',validation_datas.shape)\n",
    "print('validation_labels:',validation_labels.shape)\n",
    "print('validation_original_outputs:',validation_original_outputs.shape)\n",
    "print('validation_original_outputs:',validation_original_inputs.shape)\n",
    "print('validation_input_times:',validation_input_times.shape)\n",
    "print('validation_output_times:',validation_output_times.shape)"
   ]
  },
  {
   "cell_type": "code",
   "execution_count": 143,
   "id": "6431c659",
   "metadata": {},
   "outputs": [
    {
     "name": "stdout",
     "output_type": "stream",
     "text": [
      "Epoch 1/150\n",
      "225/225 [==============================] - ETA: 0s - loss: 0.0811\n",
      "Epoch 00001: saving model to ../weights/bitcoin2015to2017_close_LSTM_1_tanh_leaky_-01-0.00339.hdf5\n",
      "225/225 [==============================] - 17s 77ms/step - loss: 0.0811 - val_loss: 0.0034\n",
      "Epoch 2/150\n",
      "225/225 [==============================] - ETA: 0s - loss: 0.0241\n",
      "Epoch 00002: saving model to ../weights/bitcoin2015to2017_close_LSTM_1_tanh_leaky_-02-0.00153.hdf5\n",
      "225/225 [==============================] - 17s 76ms/step - loss: 0.0241 - val_loss: 0.0015\n",
      "Epoch 3/150\n",
      "225/225 [==============================] - ETA: 0s - loss: 0.0151\n",
      "Epoch 00003: saving model to ../weights/bitcoin2015to2017_close_LSTM_1_tanh_leaky_-03-0.00021.hdf5\n",
      "225/225 [==============================] - 16s 71ms/step - loss: 0.0151 - val_loss: 2.1016e-04\n",
      "Epoch 4/150\n",
      "225/225 [==============================] - ETA: 0s - loss: 0.0103\n",
      "Epoch 00004: saving model to ../weights/bitcoin2015to2017_close_LSTM_1_tanh_leaky_-04-0.00011.hdf5\n",
      "225/225 [==============================] - 16s 72ms/step - loss: 0.0103 - val_loss: 1.0523e-04\n",
      "Epoch 5/150\n",
      "225/225 [==============================] - ETA: 0s - loss: 0.0085\n",
      "Epoch 00005: saving model to ../weights/bitcoin2015to2017_close_LSTM_1_tanh_leaky_-05-0.00034.hdf5\n",
      "225/225 [==============================] - 15s 67ms/step - loss: 0.0085 - val_loss: 3.3998e-04\n",
      "Epoch 6/150\n",
      "225/225 [==============================] - ETA: 0s - loss: 0.0077\n",
      "Epoch 00006: saving model to ../weights/bitcoin2015to2017_close_LSTM_1_tanh_leaky_-06-0.00042.hdf5\n",
      "225/225 [==============================] - 15s 67ms/step - loss: 0.0077 - val_loss: 4.2493e-04\n",
      "Epoch 7/150\n",
      "225/225 [==============================] - ETA: 0s - loss: 0.0065\n",
      "Epoch 00007: saving model to ../weights/bitcoin2015to2017_close_LSTM_1_tanh_leaky_-07-0.00015.hdf5\n",
      "225/225 [==============================] - 20s 89ms/step - loss: 0.0065 - val_loss: 1.5012e-04\n",
      "Epoch 8/150\n",
      "225/225 [==============================] - ETA: 0s - loss: 0.0062\n",
      "Epoch 00008: saving model to ../weights/bitcoin2015to2017_close_LSTM_1_tanh_leaky_-08-0.00007.hdf5\n",
      "225/225 [==============================] - 17s 74ms/step - loss: 0.0062 - val_loss: 7.4831e-05\n",
      "Epoch 9/150\n",
      "225/225 [==============================] - ETA: 0s - loss: 0.0056\n",
      "Epoch 00009: saving model to ../weights/bitcoin2015to2017_close_LSTM_1_tanh_leaky_-09-0.00045.hdf5\n",
      "225/225 [==============================] - 16s 72ms/step - loss: 0.0056 - val_loss: 4.5334e-04\n",
      "Epoch 10/150\n",
      "225/225 [==============================] - ETA: 0s - loss: 0.0055\n",
      "Epoch 00010: saving model to ../weights/bitcoin2015to2017_close_LSTM_1_tanh_leaky_-10-0.00009.hdf5\n",
      "225/225 [==============================] - 17s 74ms/step - loss: 0.0055 - val_loss: 9.4840e-05\n",
      "Epoch 11/150\n",
      "225/225 [==============================] - ETA: 0s - loss: 0.0051\n",
      "Epoch 00011: saving model to ../weights/bitcoin2015to2017_close_LSTM_1_tanh_leaky_-11-0.00005.hdf5\n",
      "225/225 [==============================] - 17s 75ms/step - loss: 0.0051 - val_loss: 5.1782e-05\n",
      "Epoch 12/150\n",
      "225/225 [==============================] - ETA: 0s - loss: 0.0052\n",
      "Epoch 00012: saving model to ../weights/bitcoin2015to2017_close_LSTM_1_tanh_leaky_-12-0.00023.hdf5\n",
      "225/225 [==============================] - 16s 72ms/step - loss: 0.0052 - val_loss: 2.3465e-04\n",
      "Epoch 13/150\n",
      "225/225 [==============================] - ETA: 0s - loss: 0.0049\n",
      "Epoch 00013: saving model to ../weights/bitcoin2015to2017_close_LSTM_1_tanh_leaky_-13-0.00004.hdf5\n",
      "225/225 [==============================] - 16s 72ms/step - loss: 0.0049 - val_loss: 3.5439e-05\n",
      "Epoch 14/150\n",
      "225/225 [==============================] - ETA: 0s - loss: 0.0050\n",
      "Epoch 00014: saving model to ../weights/bitcoin2015to2017_close_LSTM_1_tanh_leaky_-14-0.00039.hdf5\n",
      "225/225 [==============================] - 17s 75ms/step - loss: 0.0050 - val_loss: 3.9225e-04\n",
      "Epoch 15/150\n",
      "225/225 [==============================] - ETA: 0s - loss: 0.0053\n",
      "Epoch 00015: saving model to ../weights/bitcoin2015to2017_close_LSTM_1_tanh_leaky_-15-0.00001.hdf5\n",
      "225/225 [==============================] - 17s 74ms/step - loss: 0.0053 - val_loss: 1.4915e-05\n",
      "Epoch 16/150\n",
      "225/225 [==============================] - ETA: 0s - loss: 0.0051\n",
      "Epoch 00016: saving model to ../weights/bitcoin2015to2017_close_LSTM_1_tanh_leaky_-16-0.00016.hdf5\n",
      "225/225 [==============================] - 16s 70ms/step - loss: 0.0051 - val_loss: 1.5808e-04\n",
      "Epoch 17/150\n",
      "225/225 [==============================] - ETA: 0s - loss: 0.0051\n",
      "Epoch 00017: saving model to ../weights/bitcoin2015to2017_close_LSTM_1_tanh_leaky_-17-0.00020.hdf5\n",
      "225/225 [==============================] - 15s 68ms/step - loss: 0.0051 - val_loss: 1.9554e-04\n",
      "Epoch 18/150\n",
      "225/225 [==============================] - ETA: 0s - loss: 0.0054\n",
      "Epoch 00018: saving model to ../weights/bitcoin2015to2017_close_LSTM_1_tanh_leaky_-18-0.00026.hdf5\n",
      "225/225 [==============================] - 16s 70ms/step - loss: 0.0054 - val_loss: 2.5578e-04\n",
      "Epoch 19/150\n",
      "225/225 [==============================] - ETA: 0s - loss: 0.0052\n",
      "Epoch 00019: saving model to ../weights/bitcoin2015to2017_close_LSTM_1_tanh_leaky_-19-0.00005.hdf5\n",
      "225/225 [==============================] - 16s 70ms/step - loss: 0.0052 - val_loss: 4.6534e-05\n",
      "Epoch 20/150\n",
      "225/225 [==============================] - ETA: 0s - loss: 0.0051\n",
      "Epoch 00020: saving model to ../weights/bitcoin2015to2017_close_LSTM_1_tanh_leaky_-20-0.00035.hdf5\n",
      "225/225 [==============================] - 16s 71ms/step - loss: 0.0051 - val_loss: 3.5401e-04\n",
      "Epoch 21/150\n",
      "225/225 [==============================] - ETA: 0s - loss: 0.0047\n",
      "Epoch 00021: saving model to ../weights/bitcoin2015to2017_close_LSTM_1_tanh_leaky_-21-0.00047.hdf5\n",
      "225/225 [==============================] - 16s 73ms/step - loss: 0.0047 - val_loss: 4.6640e-04\n",
      "Epoch 22/150\n",
      "225/225 [==============================] - ETA: 0s - loss: 0.0049\n",
      "Epoch 00022: saving model to ../weights/bitcoin2015to2017_close_LSTM_1_tanh_leaky_-22-0.00009.hdf5\n",
      "225/225 [==============================] - 17s 75ms/step - loss: 0.0049 - val_loss: 8.7877e-05\n",
      "Epoch 23/150\n",
      "225/225 [==============================] - ETA: 0s - loss: 0.0054\n",
      "Epoch 00023: saving model to ../weights/bitcoin2015to2017_close_LSTM_1_tanh_leaky_-23-0.00002.hdf5\n",
      "225/225 [==============================] - 17s 74ms/step - loss: 0.0054 - val_loss: 2.0833e-05\n",
      "Epoch 24/150\n",
      "225/225 [==============================] - ETA: 0s - loss: 0.0050\n",
      "Epoch 00024: saving model to ../weights/bitcoin2015to2017_close_LSTM_1_tanh_leaky_-24-0.00037.hdf5\n",
      "225/225 [==============================] - 16s 70ms/step - loss: 0.0050 - val_loss: 3.6539e-04\n",
      "Epoch 25/150\n",
      "225/225 [==============================] - ETA: 0s - loss: 0.0049\n",
      "Epoch 00025: saving model to ../weights/bitcoin2015to2017_close_LSTM_1_tanh_leaky_-25-0.00008.hdf5\n",
      "225/225 [==============================] - 17s 75ms/step - loss: 0.0049 - val_loss: 7.5455e-05\n",
      "Epoch 26/150\n",
      "225/225 [==============================] - ETA: 0s - loss: 0.0050- ETA:\n",
      "Epoch 00026: saving model to ../weights/bitcoin2015to2017_close_LSTM_1_tanh_leaky_-26-0.00006.hdf5\n",
      "225/225 [==============================] - 16s 73ms/step - loss: 0.0050 - val_loss: 5.7929e-05\n",
      "Epoch 27/150\n",
      "225/225 [==============================] - ETA: 0s - loss: 0.0051\n",
      "Epoch 00027: saving model to ../weights/bitcoin2015to2017_close_LSTM_1_tanh_leaky_-27-0.00005.hdf5\n",
      "225/225 [==============================] - 16s 69ms/step - loss: 0.0051 - val_loss: 5.4685e-05\n",
      "Epoch 28/150\n",
      "225/225 [==============================] - ETA: 0s - loss: 0.0052\n",
      "Epoch 00028: saving model to ../weights/bitcoin2015to2017_close_LSTM_1_tanh_leaky_-28-0.00005.hdf5\n",
      "225/225 [==============================] - 17s 73ms/step - loss: 0.0052 - val_loss: 4.9443e-05\n",
      "Epoch 29/150\n",
      "225/225 [==============================] - ETA: 0s - loss: 0.0047\n",
      "Epoch 00029: saving model to ../weights/bitcoin2015to2017_close_LSTM_1_tanh_leaky_-29-0.00007.hdf5\n",
      "225/225 [==============================] - 18s 79ms/step - loss: 0.0047 - val_loss: 7.1410e-05\n",
      "Epoch 30/150\n",
      "225/225 [==============================] - ETA: 0s - loss: 0.0049\n",
      "Epoch 00030: saving model to ../weights/bitcoin2015to2017_close_LSTM_1_tanh_leaky_-30-0.00059.hdf5\n",
      "225/225 [==============================] - 16s 72ms/step - loss: 0.0049 - val_loss: 5.9173e-04\n",
      "Epoch 31/150\n"
     ]
    },
    {
     "name": "stdout",
     "output_type": "stream",
     "text": [
      "225/225 [==============================] - ETA: 0s - loss: 0.0046\n",
      "Epoch 00031: saving model to ../weights/bitcoin2015to2017_close_LSTM_1_tanh_leaky_-31-0.00020.hdf5\n",
      "225/225 [==============================] - 16s 71ms/step - loss: 0.0046 - val_loss: 2.0029e-04\n",
      "Epoch 32/150\n",
      "225/225 [==============================] - ETA: 0s - loss: 0.0052\n",
      "Epoch 00032: saving model to ../weights/bitcoin2015to2017_close_LSTM_1_tanh_leaky_-32-0.00029.hdf5\n",
      "225/225 [==============================] - 17s 74ms/step - loss: 0.0052 - val_loss: 2.8736e-04\n",
      "Epoch 33/150\n",
      "225/225 [==============================] - ETA: 0s - loss: 0.0047\n",
      "Epoch 00033: saving model to ../weights/bitcoin2015to2017_close_LSTM_1_tanh_leaky_-33-0.00018.hdf5\n",
      "225/225 [==============================] - 17s 73ms/step - loss: 0.0047 - val_loss: 1.7678e-04\n",
      "Epoch 34/150\n",
      "225/225 [==============================] - ETA: 0s - loss: 0.0047\n",
      "Epoch 00034: saving model to ../weights/bitcoin2015to2017_close_LSTM_1_tanh_leaky_-34-0.00006.hdf5\n",
      "225/225 [==============================] - 16s 70ms/step - loss: 0.0047 - val_loss: 6.1005e-05\n",
      "Epoch 35/150\n",
      "225/225 [==============================] - ETA: 0s - loss: 0.0051\n",
      "Epoch 00035: saving model to ../weights/bitcoin2015to2017_close_LSTM_1_tanh_leaky_-35-0.00008.hdf5\n",
      "225/225 [==============================] - 16s 69ms/step - loss: 0.0051 - val_loss: 7.7728e-05\n",
      "Epoch 36/150\n",
      "225/225 [==============================] - ETA: 0s - loss: 0.0048\n",
      "Epoch 00036: saving model to ../weights/bitcoin2015to2017_close_LSTM_1_tanh_leaky_-36-0.00012.hdf5\n",
      "225/225 [==============================] - 19s 82ms/step - loss: 0.0048 - val_loss: 1.1918e-04\n",
      "Epoch 37/150\n",
      "225/225 [==============================] - ETA: 0s - loss: 0.0050\n",
      "Epoch 00037: saving model to ../weights/bitcoin2015to2017_close_LSTM_1_tanh_leaky_-37-0.00007.hdf5\n",
      "225/225 [==============================] - 18s 79ms/step - loss: 0.0050 - val_loss: 7.2497e-05\n",
      "Epoch 38/150\n",
      "225/225 [==============================] - ETA: 0s - loss: 0.0050\n",
      "Epoch 00038: saving model to ../weights/bitcoin2015to2017_close_LSTM_1_tanh_leaky_-38-0.00099.hdf5\n",
      "225/225 [==============================] - 16s 70ms/step - loss: 0.0050 - val_loss: 9.9189e-04\n",
      "Epoch 39/150\n",
      "225/225 [==============================] - ETA: 0s - loss: 0.0052\n",
      "Epoch 00039: saving model to ../weights/bitcoin2015to2017_close_LSTM_1_tanh_leaky_-39-0.00010.hdf5\n",
      "225/225 [==============================] - 17s 74ms/step - loss: 0.0052 - val_loss: 9.5676e-05\n",
      "Epoch 40/150\n",
      "225/225 [==============================] - ETA: 0s - loss: 0.0048\n",
      "Epoch 00040: saving model to ../weights/bitcoin2015to2017_close_LSTM_1_tanh_leaky_-40-0.00005.hdf5\n",
      "225/225 [==============================] - 16s 72ms/step - loss: 0.0048 - val_loss: 5.1241e-05\n",
      "Epoch 41/150\n",
      "225/225 [==============================] - ETA: 0s - loss: 0.0048\n",
      "Epoch 00041: saving model to ../weights/bitcoin2015to2017_close_LSTM_1_tanh_leaky_-41-0.00021.hdf5\n",
      "225/225 [==============================] - 16s 71ms/step - loss: 0.0048 - val_loss: 2.0914e-04\n",
      "Epoch 42/150\n",
      "225/225 [==============================] - ETA: 0s - loss: 0.0049\n",
      "Epoch 00042: saving model to ../weights/bitcoin2015to2017_close_LSTM_1_tanh_leaky_-42-0.00013.hdf5\n",
      "225/225 [==============================] - 16s 71ms/step - loss: 0.0049 - val_loss: 1.3175e-04\n",
      "Epoch 43/150\n",
      "225/225 [==============================] - ETA: 0s - loss: 0.0048\n",
      "Epoch 00043: saving model to ../weights/bitcoin2015to2017_close_LSTM_1_tanh_leaky_-43-0.00029.hdf5\n",
      "225/225 [==============================] - 17s 75ms/step - loss: 0.0048 - val_loss: 2.8966e-04\n",
      "Epoch 44/150\n",
      "225/225 [==============================] - ETA: 0s - loss: 0.0048\n",
      "Epoch 00044: saving model to ../weights/bitcoin2015to2017_close_LSTM_1_tanh_leaky_-44-0.00002.hdf5\n",
      "225/225 [==============================] - 17s 75ms/step - loss: 0.0048 - val_loss: 2.4515e-05\n",
      "Epoch 45/150\n",
      "225/225 [==============================] - ETA: 0s - loss: 0.0050\n",
      "Epoch 00045: saving model to ../weights/bitcoin2015to2017_close_LSTM_1_tanh_leaky_-45-0.00022.hdf5\n",
      "225/225 [==============================] - 16s 70ms/step - loss: 0.0050 - val_loss: 2.1899e-04\n",
      "Epoch 46/150\n",
      "225/225 [==============================] - ETA: 0s - loss: 0.0051\n",
      "Epoch 00046: saving model to ../weights/bitcoin2015to2017_close_LSTM_1_tanh_leaky_-46-0.00007.hdf5\n",
      "225/225 [==============================] - 17s 75ms/step - loss: 0.0051 - val_loss: 6.9512e-05\n",
      "Epoch 47/150\n",
      "225/225 [==============================] - ETA: 0s - loss: 0.0048\n",
      "Epoch 00047: saving model to ../weights/bitcoin2015to2017_close_LSTM_1_tanh_leaky_-47-0.00008.hdf5\n",
      "225/225 [==============================] - 17s 77ms/step - loss: 0.0048 - val_loss: 8.0346e-05\n",
      "Epoch 48/150\n",
      "225/225 [==============================] - ETA: 0s - loss: 0.0052\n",
      "Epoch 00048: saving model to ../weights/bitcoin2015to2017_close_LSTM_1_tanh_leaky_-48-0.00053.hdf5\n",
      "225/225 [==============================] - 16s 72ms/step - loss: 0.0052 - val_loss: 5.3212e-04\n",
      "Epoch 49/150\n",
      "225/225 [==============================] - ETA: 0s - loss: 0.0050\n",
      "Epoch 00049: saving model to ../weights/bitcoin2015to2017_close_LSTM_1_tanh_leaky_-49-0.00006.hdf5\n",
      "225/225 [==============================] - 16s 70ms/step - loss: 0.0050 - val_loss: 6.2570e-05\n",
      "Epoch 50/150\n",
      "225/225 [==============================] - ETA: 0s - loss: 0.0054\n",
      "Epoch 00050: saving model to ../weights/bitcoin2015to2017_close_LSTM_1_tanh_leaky_-50-0.00022.hdf5\n",
      "225/225 [==============================] - 19s 83ms/step - loss: 0.0054 - val_loss: 2.1520e-04\n",
      "Epoch 51/150\n",
      "225/225 [==============================] - ETA: 0s - loss: 0.0048\n",
      "Epoch 00051: saving model to ../weights/bitcoin2015to2017_close_LSTM_1_tanh_leaky_-51-0.00007.hdf5\n",
      "225/225 [==============================] - 23s 104ms/step - loss: 0.0048 - val_loss: 6.9181e-05\n",
      "Epoch 52/150\n",
      "225/225 [==============================] - ETA: 0s - loss: 0.0048\n",
      "Epoch 00052: saving model to ../weights/bitcoin2015to2017_close_LSTM_1_tanh_leaky_-52-0.00020.hdf5\n",
      "225/225 [==============================] - 22s 98ms/step - loss: 0.0048 - val_loss: 2.0240e-04\n",
      "Epoch 53/150\n",
      "225/225 [==============================] - ETA: 0s - loss: 0.0048\n",
      "Epoch 00053: saving model to ../weights/bitcoin2015to2017_close_LSTM_1_tanh_leaky_-53-0.00004.hdf5\n",
      "225/225 [==============================] - 19s 83ms/step - loss: 0.0048 - val_loss: 3.8433e-05\n",
      "Epoch 54/150\n",
      "225/225 [==============================] - ETA: 0s - loss: 0.0050\n",
      "Epoch 00054: saving model to ../weights/bitcoin2015to2017_close_LSTM_1_tanh_leaky_-54-0.00011.hdf5\n",
      "225/225 [==============================] - 19s 85ms/step - loss: 0.0050 - val_loss: 1.0659e-04\n",
      "Epoch 55/150\n",
      "225/225 [==============================] - ETA: 0s - loss: 0.0051\n",
      "Epoch 00055: saving model to ../weights/bitcoin2015to2017_close_LSTM_1_tanh_leaky_-55-0.00001.hdf5\n",
      "225/225 [==============================] - 21s 95ms/step - loss: 0.0051 - val_loss: 1.3785e-05\n",
      "Epoch 56/150\n",
      "225/225 [==============================] - ETA: 0s - loss: 0.0048\n",
      "Epoch 00056: saving model to ../weights/bitcoin2015to2017_close_LSTM_1_tanh_leaky_-56-0.00005.hdf5\n",
      "225/225 [==============================] - 19s 84ms/step - loss: 0.0048 - val_loss: 5.1243e-05\n",
      "Epoch 57/150\n",
      "225/225 [==============================] - ETA: 0s - loss: 0.0048\n",
      "Epoch 00057: saving model to ../weights/bitcoin2015to2017_close_LSTM_1_tanh_leaky_-57-0.00036.hdf5\n",
      "225/225 [==============================] - 21s 91ms/step - loss: 0.0048 - val_loss: 3.6097e-04\n",
      "Epoch 58/150\n",
      "225/225 [==============================] - ETA: 0s - loss: 0.0047\n",
      "Epoch 00058: saving model to ../weights/bitcoin2015to2017_close_LSTM_1_tanh_leaky_-58-0.00012.hdf5\n",
      "225/225 [==============================] - 24s 107ms/step - loss: 0.0047 - val_loss: 1.1527e-04\n",
      "Epoch 59/150\n",
      "225/225 [==============================] - ETA: 0s - loss: 0.0048\n",
      "Epoch 00059: saving model to ../weights/bitcoin2015to2017_close_LSTM_1_tanh_leaky_-59-0.00045.hdf5\n",
      "225/225 [==============================] - 20s 90ms/step - loss: 0.0048 - val_loss: 4.5255e-04\n",
      "Epoch 60/150\n",
      "225/225 [==============================] - ETA: 0s - loss: 0.0047\n",
      "Epoch 00060: saving model to ../weights/bitcoin2015to2017_close_LSTM_1_tanh_leaky_-60-0.00020.hdf5\n",
      "225/225 [==============================] - 22s 99ms/step - loss: 0.0047 - val_loss: 1.9531e-04\n",
      "Epoch 61/150\n"
     ]
    },
    {
     "name": "stdout",
     "output_type": "stream",
     "text": [
      "225/225 [==============================] - ETA: 0s - loss: 0.0046\n",
      "Epoch 00061: saving model to ../weights/bitcoin2015to2017_close_LSTM_1_tanh_leaky_-61-0.00068.hdf5\n",
      "225/225 [==============================] - 22s 99ms/step - loss: 0.0046 - val_loss: 6.8351e-04\n",
      "Epoch 62/150\n",
      "225/225 [==============================] - ETA: 0s - loss: 0.0049\n",
      "Epoch 00062: saving model to ../weights/bitcoin2015to2017_close_LSTM_1_tanh_leaky_-62-0.00006.hdf5\n",
      "225/225 [==============================] - 20s 90ms/step - loss: 0.0049 - val_loss: 5.9730e-05\n",
      "Epoch 63/150\n",
      "225/225 [==============================] - ETA: 0s - loss: 0.0046\n",
      "Epoch 00063: saving model to ../weights/bitcoin2015to2017_close_LSTM_1_tanh_leaky_-63-0.00006.hdf5\n",
      "225/225 [==============================] - 21s 95ms/step - loss: 0.0046 - val_loss: 5.9187e-05\n",
      "Epoch 64/150\n",
      "225/225 [==============================] - ETA: 0s - loss: 0.0049\n",
      "Epoch 00064: saving model to ../weights/bitcoin2015to2017_close_LSTM_1_tanh_leaky_-64-0.00011.hdf5\n",
      "225/225 [==============================] - 22s 96ms/step - loss: 0.0049 - val_loss: 1.1064e-04\n",
      "Epoch 65/150\n",
      "225/225 [==============================] - ETA: 0s - loss: 0.0048\n",
      "Epoch 00065: saving model to ../weights/bitcoin2015to2017_close_LSTM_1_tanh_leaky_-65-0.00010.hdf5\n",
      "225/225 [==============================] - 164s 728ms/step - loss: 0.0048 - val_loss: 9.7848e-05\n",
      "Epoch 66/150\n",
      "225/225 [==============================] - ETA: 0s - loss: 0.0046\n",
      "Epoch 00066: saving model to ../weights/bitcoin2015to2017_close_LSTM_1_tanh_leaky_-66-0.00011.hdf5\n",
      "225/225 [==============================] - 16s 72ms/step - loss: 0.0046 - val_loss: 1.1382e-04\n",
      "Epoch 67/150\n",
      "225/225 [==============================] - ETA: 0s - loss: 0.0048\n",
      "Epoch 00067: saving model to ../weights/bitcoin2015to2017_close_LSTM_1_tanh_leaky_-67-0.00037.hdf5\n",
      "225/225 [==============================] - 14s 62ms/step - loss: 0.0048 - val_loss: 3.7008e-04\n",
      "Epoch 68/150\n",
      "225/225 [==============================] - ETA: 0s - loss: 0.0049\n",
      "Epoch 00068: saving model to ../weights/bitcoin2015to2017_close_LSTM_1_tanh_leaky_-68-0.00062.hdf5\n",
      "225/225 [==============================] - 14s 62ms/step - loss: 0.0049 - val_loss: 6.1536e-04\n",
      "Epoch 69/150\n",
      "225/225 [==============================] - ETA: 0s - loss: 0.0047\n",
      "Epoch 00069: saving model to ../weights/bitcoin2015to2017_close_LSTM_1_tanh_leaky_-69-0.00051.hdf5\n",
      "225/225 [==============================] - 17s 77ms/step - loss: 0.0047 - val_loss: 5.1440e-04\n",
      "Epoch 70/150\n",
      "225/225 [==============================] - ETA: 0s - loss: 0.0048\n",
      "Epoch 00070: saving model to ../weights/bitcoin2015to2017_close_LSTM_1_tanh_leaky_-70-0.00021.hdf5\n",
      "225/225 [==============================] - 20s 87ms/step - loss: 0.0048 - val_loss: 2.0825e-04\n",
      "Epoch 71/150\n",
      "225/225 [==============================] - ETA: 0s - loss: 0.0048\n",
      "Epoch 00071: saving model to ../weights/bitcoin2015to2017_close_LSTM_1_tanh_leaky_-71-0.00035.hdf5\n",
      "225/225 [==============================] - 21s 95ms/step - loss: 0.0048 - val_loss: 3.5498e-04\n",
      "Epoch 72/150\n",
      "225/225 [==============================] - ETA: 0s - loss: 0.0046\n",
      "Epoch 00072: saving model to ../weights/bitcoin2015to2017_close_LSTM_1_tanh_leaky_-72-0.00031.hdf5\n",
      "225/225 [==============================] - 20s 90ms/step - loss: 0.0046 - val_loss: 3.0692e-04\n",
      "Epoch 73/150\n",
      "225/225 [==============================] - ETA: 0s - loss: 0.0050\n",
      "Epoch 00073: saving model to ../weights/bitcoin2015to2017_close_LSTM_1_tanh_leaky_-73-0.00012.hdf5\n",
      "225/225 [==============================] - 21s 94ms/step - loss: 0.0050 - val_loss: 1.1957e-04\n",
      "Epoch 74/150\n",
      "225/225 [==============================] - ETA: 0s - loss: 0.0048\n",
      "Epoch 00074: saving model to ../weights/bitcoin2015to2017_close_LSTM_1_tanh_leaky_-74-0.00003.hdf5\n",
      "225/225 [==============================] - 21s 95ms/step - loss: 0.0048 - val_loss: 2.6634e-05\n",
      "Epoch 75/150\n",
      "225/225 [==============================] - ETA: 0s - loss: 0.0049\n",
      "Epoch 00075: saving model to ../weights/bitcoin2015to2017_close_LSTM_1_tanh_leaky_-75-0.00006.hdf5\n",
      "225/225 [==============================] - 21s 95ms/step - loss: 0.0049 - val_loss: 6.2651e-05\n",
      "Epoch 76/150\n",
      "225/225 [==============================] - ETA: 0s - loss: 0.0049\n",
      "Epoch 00076: saving model to ../weights/bitcoin2015to2017_close_LSTM_1_tanh_leaky_-76-0.00021.hdf5\n",
      "225/225 [==============================] - 19s 86ms/step - loss: 0.0049 - val_loss: 2.0723e-04\n",
      "Epoch 77/150\n",
      "225/225 [==============================] - ETA: 0s - loss: 0.0045\n",
      "Epoch 00077: saving model to ../weights/bitcoin2015to2017_close_LSTM_1_tanh_leaky_-77-0.00002.hdf5\n",
      "225/225 [==============================] - 20s 88ms/step - loss: 0.0045 - val_loss: 1.6672e-05\n",
      "Epoch 78/150\n",
      "225/225 [==============================] - ETA: 0s - loss: 0.0049\n",
      "Epoch 00078: saving model to ../weights/bitcoin2015to2017_close_LSTM_1_tanh_leaky_-78-0.00002.hdf5\n",
      "225/225 [==============================] - 19s 86ms/step - loss: 0.0049 - val_loss: 2.0487e-05\n",
      "Epoch 79/150\n",
      "225/225 [==============================] - ETA: 0s - loss: 0.0049\n",
      "Epoch 00079: saving model to ../weights/bitcoin2015to2017_close_LSTM_1_tanh_leaky_-79-0.00005.hdf5\n",
      "225/225 [==============================] - 20s 90ms/step - loss: 0.0049 - val_loss: 4.9759e-05\n",
      "Epoch 80/150\n",
      "225/225 [==============================] - ETA: 0s - loss: 0.0046- ETA: 0s - loss: 0.0\n",
      "Epoch 00080: saving model to ../weights/bitcoin2015to2017_close_LSTM_1_tanh_leaky_-80-0.00002.hdf5\n",
      "225/225 [==============================] - 20s 88ms/step - loss: 0.0046 - val_loss: 1.7828e-05\n",
      "Epoch 81/150\n",
      "225/225 [==============================] - ETA: 0s - loss: 0.0051\n",
      "Epoch 00081: saving model to ../weights/bitcoin2015to2017_close_LSTM_1_tanh_leaky_-81-0.00045.hdf5\n",
      "225/225 [==============================] - 20s 89ms/step - loss: 0.0051 - val_loss: 4.4935e-04\n",
      "Epoch 82/150\n",
      "225/225 [==============================] - ETA: 0s - loss: 0.0049\n",
      "Epoch 00082: saving model to ../weights/bitcoin2015to2017_close_LSTM_1_tanh_leaky_-82-0.00007.hdf5\n",
      "225/225 [==============================] - 20s 88ms/step - loss: 0.0049 - val_loss: 6.6706e-05\n",
      "Epoch 83/150\n",
      "225/225 [==============================] - ETA: 0s - loss: 0.0049\n",
      "Epoch 00083: saving model to ../weights/bitcoin2015to2017_close_LSTM_1_tanh_leaky_-83-0.00028.hdf5\n",
      "225/225 [==============================] - 21s 92ms/step - loss: 0.0049 - val_loss: 2.8442e-04\n",
      "Epoch 84/150\n",
      "225/225 [==============================] - ETA: 0s - loss: 0.0042\n",
      "Epoch 00084: saving model to ../weights/bitcoin2015to2017_close_LSTM_1_tanh_leaky_-84-0.00026.hdf5\n",
      "225/225 [==============================] - 22s 98ms/step - loss: 0.0042 - val_loss: 2.6158e-04\n",
      "Epoch 85/150\n",
      "225/225 [==============================] - ETA: 0s - loss: 0.0047\n",
      "Epoch 00085: saving model to ../weights/bitcoin2015to2017_close_LSTM_1_tanh_leaky_-85-0.00016.hdf5\n",
      "225/225 [==============================] - 20s 88ms/step - loss: 0.0047 - val_loss: 1.5905e-04\n",
      "Epoch 86/150\n",
      "225/225 [==============================] - ETA: 0s - loss: 0.0047\n",
      "Epoch 00086: saving model to ../weights/bitcoin2015to2017_close_LSTM_1_tanh_leaky_-86-0.00013.hdf5\n",
      "225/225 [==============================] - 19s 87ms/step - loss: 0.0047 - val_loss: 1.2843e-04\n",
      "Epoch 87/150\n",
      "225/225 [==============================] - ETA: 0s - loss: 0.0049\n",
      "Epoch 00087: saving model to ../weights/bitcoin2015to2017_close_LSTM_1_tanh_leaky_-87-0.00024.hdf5\n",
      "225/225 [==============================] - 20s 87ms/step - loss: 0.0049 - val_loss: 2.4310e-04\n",
      "Epoch 88/150\n",
      "225/225 [==============================] - ETA: 0s - loss: 0.0055\n",
      "Epoch 00088: saving model to ../weights/bitcoin2015to2017_close_LSTM_1_tanh_leaky_-88-0.00002.hdf5\n",
      "225/225 [==============================] - 21s 93ms/step - loss: 0.0055 - val_loss: 2.3435e-05\n",
      "Epoch 89/150\n",
      "225/225 [==============================] - ETA: 0s - loss: 0.0045\n",
      "Epoch 00089: saving model to ../weights/bitcoin2015to2017_close_LSTM_1_tanh_leaky_-89-0.00006.hdf5\n",
      "225/225 [==============================] - 21s 92ms/step - loss: 0.0045 - val_loss: 5.9233e-05\n",
      "Epoch 90/150\n",
      "225/225 [==============================] - ETA: 0s - loss: 0.004 - ETA: 0s - loss: 0.0048\n",
      "Epoch 00090: saving model to ../weights/bitcoin2015to2017_close_LSTM_1_tanh_leaky_-90-0.00005.hdf5\n",
      "225/225 [==============================] - 20s 87ms/step - loss: 0.0048 - val_loss: 4.6080e-05\n"
     ]
    },
    {
     "name": "stdout",
     "output_type": "stream",
     "text": [
      "Epoch 91/150\n",
      "225/225 [==============================] - ETA: 0s - loss: 0.0048- ETA: 0s - loss:\n",
      "Epoch 00091: saving model to ../weights/bitcoin2015to2017_close_LSTM_1_tanh_leaky_-91-0.00018.hdf5\n",
      "225/225 [==============================] - 21s 94ms/step - loss: 0.0048 - val_loss: 1.8064e-04\n",
      "Epoch 92/150\n",
      "225/225 [==============================] - ETA: 0s - loss: 0.0047\n",
      "Epoch 00092: saving model to ../weights/bitcoin2015to2017_close_LSTM_1_tanh_leaky_-92-0.00001.hdf5\n",
      "225/225 [==============================] - 20s 89ms/step - loss: 0.0047 - val_loss: 1.3805e-05\n",
      "Epoch 93/150\n",
      "225/225 [==============================] - ETA: 0s - loss: 0.0045\n",
      "Epoch 00093: saving model to ../weights/bitcoin2015to2017_close_LSTM_1_tanh_leaky_-93-0.00007.hdf5\n",
      "225/225 [==============================] - 23s 101ms/step - loss: 0.0045 - val_loss: 6.7427e-05\n",
      "Epoch 94/150\n",
      "225/225 [==============================] - ETA: 0s - loss: 0.0049\n",
      "Epoch 00094: saving model to ../weights/bitcoin2015to2017_close_LSTM_1_tanh_leaky_-94-0.00005.hdf5\n",
      "225/225 [==============================] - 23s 101ms/step - loss: 0.0049 - val_loss: 4.5877e-05\n",
      "Epoch 95/150\n",
      "225/225 [==============================] - ETA: 0s - loss: 0.0045\n",
      "Epoch 00095: saving model to ../weights/bitcoin2015to2017_close_LSTM_1_tanh_leaky_-95-0.00003.hdf5\n",
      "225/225 [==============================] - 22s 96ms/step - loss: 0.0045 - val_loss: 3.1322e-05\n",
      "Epoch 96/150\n",
      "225/225 [==============================] - ETA: 0s - loss: 0.0047\n",
      "Epoch 00096: saving model to ../weights/bitcoin2015to2017_close_LSTM_1_tanh_leaky_-96-0.00012.hdf5\n",
      "225/225 [==============================] - 21s 94ms/step - loss: 0.0047 - val_loss: 1.1643e-04\n",
      "Epoch 97/150\n",
      "225/225 [==============================] - ETA: 0s - loss: 0.0045\n",
      "Epoch 00097: saving model to ../weights/bitcoin2015to2017_close_LSTM_1_tanh_leaky_-97-0.00027.hdf5\n",
      "225/225 [==============================] - 22s 98ms/step - loss: 0.0045 - val_loss: 2.6517e-04\n",
      "Epoch 98/150\n",
      "225/225 [==============================] - ETA: 0s - loss: 0.0045\n",
      "Epoch 00098: saving model to ../weights/bitcoin2015to2017_close_LSTM_1_tanh_leaky_-98-0.00007.hdf5\n",
      "225/225 [==============================] - 1620s 7s/step - loss: 0.0045 - val_loss: 7.1102e-05\n",
      "Epoch 99/150\n",
      "225/225 [==============================] - ETA: 0s - loss: 0.0048\n",
      "Epoch 00099: saving model to ../weights/bitcoin2015to2017_close_LSTM_1_tanh_leaky_-99-0.00043.hdf5\n",
      "225/225 [==============================] - 16s 70ms/step - loss: 0.0048 - val_loss: 4.2742e-04\n",
      "Epoch 100/150\n",
      "225/225 [==============================] - ETA: 0s - loss: 0.0045\n",
      "Epoch 00100: saving model to ../weights/bitcoin2015to2017_close_LSTM_1_tanh_leaky_-100-0.00007.hdf5\n",
      "225/225 [==============================] - 17s 77ms/step - loss: 0.0045 - val_loss: 7.4624e-05\n",
      "Epoch 101/150\n",
      "225/225 [==============================] - ETA: 0s - loss: 0.0048\n",
      "Epoch 00101: saving model to ../weights/bitcoin2015to2017_close_LSTM_1_tanh_leaky_-101-0.00010.hdf5\n",
      "225/225 [==============================] - 18s 79ms/step - loss: 0.0048 - val_loss: 1.0216e-04\n",
      "Epoch 102/150\n",
      "225/225 [==============================] - ETA: 0s - loss: 0.0049\n",
      "Epoch 00102: saving model to ../weights/bitcoin2015to2017_close_LSTM_1_tanh_leaky_-102-0.00008.hdf5\n",
      "225/225 [==============================] - 18s 80ms/step - loss: 0.0049 - val_loss: 7.9369e-05\n",
      "Epoch 103/150\n",
      "225/225 [==============================] - ETA: 0s - loss: 0.0051\n",
      "Epoch 00103: saving model to ../weights/bitcoin2015to2017_close_LSTM_1_tanh_leaky_-103-0.00006.hdf5\n",
      "225/225 [==============================] - 18s 81ms/step - loss: 0.0051 - val_loss: 6.1890e-05\n",
      "Epoch 104/150\n",
      "225/225 [==============================] - ETA: 0s - loss: 0.0049\n",
      "Epoch 00104: saving model to ../weights/bitcoin2015to2017_close_LSTM_1_tanh_leaky_-104-0.00003.hdf5\n",
      "225/225 [==============================] - 21s 91ms/step - loss: 0.0049 - val_loss: 3.1386e-05\n",
      "Epoch 105/150\n",
      "225/225 [==============================] - ETA: 0s - loss: 0.0048\n",
      "Epoch 00105: saving model to ../weights/bitcoin2015to2017_close_LSTM_1_tanh_leaky_-105-0.00003.hdf5\n",
      "225/225 [==============================] - 22s 99ms/step - loss: 0.0048 - val_loss: 2.6342e-05\n",
      "Epoch 106/150\n",
      "225/225 [==============================] - ETA: 0s - loss: 0.0049\n",
      "Epoch 00106: saving model to ../weights/bitcoin2015to2017_close_LSTM_1_tanh_leaky_-106-0.00059.hdf5\n",
      "225/225 [==============================] - 23s 103ms/step - loss: 0.0049 - val_loss: 5.9335e-04\n",
      "Epoch 107/150\n",
      "225/225 [==============================] - ETA: 0s - loss: 0.0049\n",
      "Epoch 00107: saving model to ../weights/bitcoin2015to2017_close_LSTM_1_tanh_leaky_-107-0.00004.hdf5\n",
      "225/225 [==============================] - 19s 85ms/step - loss: 0.0049 - val_loss: 3.9329e-05\n",
      "Epoch 108/150\n",
      "225/225 [==============================] - ETA: 0s - loss: 0.0047\n",
      "Epoch 00108: saving model to ../weights/bitcoin2015to2017_close_LSTM_1_tanh_leaky_-108-0.00004.hdf5\n",
      "225/225 [==============================] - 17s 77ms/step - loss: 0.0047 - val_loss: 3.5343e-05\n",
      "Epoch 109/150\n",
      "225/225 [==============================] - ETA: 0s - loss: 0.0050\n",
      "Epoch 00109: saving model to ../weights/bitcoin2015to2017_close_LSTM_1_tanh_leaky_-109-0.00007.hdf5\n",
      "225/225 [==============================] - 19s 83ms/step - loss: 0.0050 - val_loss: 7.0941e-05\n",
      "Epoch 110/150\n",
      "225/225 [==============================] - ETA: 0s - loss: 0.0049\n",
      "Epoch 00110: saving model to ../weights/bitcoin2015to2017_close_LSTM_1_tanh_leaky_-110-0.00020.hdf5\n",
      "225/225 [==============================] - 21s 93ms/step - loss: 0.0049 - val_loss: 2.0428e-04\n",
      "Epoch 111/150\n",
      "225/225 [==============================] - ETA: 0s - loss: 0.0049\n",
      "Epoch 00111: saving model to ../weights/bitcoin2015to2017_close_LSTM_1_tanh_leaky_-111-0.00002.hdf5\n",
      "225/225 [==============================] - 23s 101ms/step - loss: 0.0049 - val_loss: 1.6884e-05\n",
      "Epoch 112/150\n",
      "225/225 [==============================] - ETA: 0s - loss: 0.0046\n",
      "Epoch 00112: saving model to ../weights/bitcoin2015to2017_close_LSTM_1_tanh_leaky_-112-0.00027.hdf5\n",
      "225/225 [==============================] - 23s 101ms/step - loss: 0.0046 - val_loss: 2.6734e-04\n",
      "Epoch 113/150\n",
      "225/225 [==============================] - ETA: 0s - loss: 0.0048\n",
      "Epoch 00113: saving model to ../weights/bitcoin2015to2017_close_LSTM_1_tanh_leaky_-113-0.00007.hdf5\n",
      "225/225 [==============================] - 22s 97ms/step - loss: 0.0048 - val_loss: 7.1513e-05\n",
      "Epoch 114/150\n",
      "225/225 [==============================] - ETA: 0s - loss: 0.0047\n",
      "Epoch 00114: saving model to ../weights/bitcoin2015to2017_close_LSTM_1_tanh_leaky_-114-0.00016.hdf5\n",
      "225/225 [==============================] - 22s 100ms/step - loss: 0.0047 - val_loss: 1.5569e-04\n",
      "Epoch 115/150\n",
      "225/225 [==============================] - ETA: 0s - loss: 0.0048- ETA: 1s - \n",
      "Epoch 00115: saving model to ../weights/bitcoin2015to2017_close_LSTM_1_tanh_leaky_-115-0.00004.hdf5\n",
      "225/225 [==============================] - 23s 100ms/step - loss: 0.0048 - val_loss: 4.0473e-05\n",
      "Epoch 116/150\n",
      "225/225 [==============================] - ETA: 0s - loss: 0.0046\n",
      "Epoch 00116: saving model to ../weights/bitcoin2015to2017_close_LSTM_1_tanh_leaky_-116-0.00012.hdf5\n",
      "225/225 [==============================] - 23s 102ms/step - loss: 0.0046 - val_loss: 1.2382e-04\n",
      "Epoch 117/150\n",
      "225/225 [==============================] - ETA: 0s - loss: 0.0046\n",
      "Epoch 00117: saving model to ../weights/bitcoin2015to2017_close_LSTM_1_tanh_leaky_-117-0.00017.hdf5\n",
      "225/225 [==============================] - 22s 99ms/step - loss: 0.0046 - val_loss: 1.7142e-04\n",
      "Epoch 118/150\n",
      "225/225 [==============================] - ETA: 0s - loss: 0.0045\n",
      "Epoch 00118: saving model to ../weights/bitcoin2015to2017_close_LSTM_1_tanh_leaky_-118-0.00009.hdf5\n",
      "225/225 [==============================] - 19s 86ms/step - loss: 0.0045 - val_loss: 9.4149e-05\n",
      "Epoch 119/150\n",
      "225/225 [==============================] - ETA: 0s - loss: 0.0049\n",
      "Epoch 00119: saving model to ../weights/bitcoin2015to2017_close_LSTM_1_tanh_leaky_-119-0.00020.hdf5\n",
      "225/225 [==============================] - 20s 90ms/step - loss: 0.0049 - val_loss: 1.9535e-04\n",
      "Epoch 120/150\n",
      "225/225 [==============================] - ETA: 0s - loss: 0.0046\n",
      "Epoch 00120: saving model to ../weights/bitcoin2015to2017_close_LSTM_1_tanh_leaky_-120-0.00025.hdf5\n",
      "225/225 [==============================] - 21s 94ms/step - loss: 0.0046 - val_loss: 2.5332e-04\n"
     ]
    },
    {
     "name": "stdout",
     "output_type": "stream",
     "text": [
      "Epoch 121/150\n",
      "225/225 [==============================] - ETA: 0s - loss: 0.0047\n",
      "Epoch 00121: saving model to ../weights/bitcoin2015to2017_close_LSTM_1_tanh_leaky_-121-0.00015.hdf5\n",
      "225/225 [==============================] - 21s 93ms/step - loss: 0.0047 - val_loss: 1.5438e-04\n",
      "Epoch 122/150\n",
      "225/225 [==============================] - ETA: 0s - loss: 0.0053\n",
      "Epoch 00122: saving model to ../weights/bitcoin2015to2017_close_LSTM_1_tanh_leaky_-122-0.00020.hdf5\n",
      "225/225 [==============================] - 19s 85ms/step - loss: 0.0053 - val_loss: 2.0371e-04\n",
      "Epoch 123/150\n",
      "225/225 [==============================] - ETA: 0s - loss: 0.0047\n",
      "Epoch 00123: saving model to ../weights/bitcoin2015to2017_close_LSTM_1_tanh_leaky_-123-0.00003.hdf5\n",
      "225/225 [==============================] - 21s 92ms/step - loss: 0.0047 - val_loss: 2.9467e-05\n",
      "Epoch 124/150\n",
      "225/225 [==============================] - ETA: 0s - loss: 0.0047\n",
      "Epoch 00124: saving model to ../weights/bitcoin2015to2017_close_LSTM_1_tanh_leaky_-124-0.00001.hdf5\n",
      "225/225 [==============================] - 19s 87ms/step - loss: 0.0047 - val_loss: 1.3783e-05\n",
      "Epoch 125/150\n",
      "225/225 [==============================] - ETA: 0s - loss: 0.0045\n",
      "Epoch 00125: saving model to ../weights/bitcoin2015to2017_close_LSTM_1_tanh_leaky_-125-0.00011.hdf5\n",
      "225/225 [==============================] - 20s 91ms/step - loss: 0.0045 - val_loss: 1.1206e-04\n",
      "Epoch 126/150\n",
      "225/225 [==============================] - ETA: 0s - loss: 0.0051\n",
      "Epoch 00126: saving model to ../weights/bitcoin2015to2017_close_LSTM_1_tanh_leaky_-126-0.00006.hdf5\n",
      "225/225 [==============================] - 19s 86ms/step - loss: 0.0051 - val_loss: 6.3450e-05\n",
      "Epoch 127/150\n",
      "225/225 [==============================] - ETA: 0s - loss: 0.0045\n",
      "Epoch 00127: saving model to ../weights/bitcoin2015to2017_close_LSTM_1_tanh_leaky_-127-0.00010.hdf5\n",
      "225/225 [==============================] - 20s 90ms/step - loss: 0.0045 - val_loss: 1.0144e-04\n",
      "Epoch 128/150\n",
      "225/225 [==============================] - ETA: 0s - loss: 0.0046\n",
      "Epoch 00128: saving model to ../weights/bitcoin2015to2017_close_LSTM_1_tanh_leaky_-128-0.00005.hdf5\n",
      "225/225 [==============================] - 18s 80ms/step - loss: 0.0046 - val_loss: 5.2166e-05\n",
      "Epoch 129/150\n",
      "225/225 [==============================] - ETA: 0s - loss: 0.0049\n",
      "Epoch 00129: saving model to ../weights/bitcoin2015to2017_close_LSTM_1_tanh_leaky_-129-0.00007.hdf5\n",
      "225/225 [==============================] - 17s 76ms/step - loss: 0.0049 - val_loss: 6.9245e-05\n",
      "Epoch 130/150\n",
      "225/225 [==============================] - ETA: 0s - loss: 0.0049 \n",
      "Epoch 00130: saving model to ../weights/bitcoin2015to2017_close_LSTM_1_tanh_leaky_-130-0.00005.hdf5\n",
      "225/225 [==============================] - 2405s 11s/step - loss: 0.0049 - val_loss: 4.6724e-05\n",
      "Epoch 131/150\n",
      "225/225 [==============================] - ETA: 0s - loss: 0.0050\n",
      "Epoch 00131: saving model to ../weights/bitcoin2015to2017_close_LSTM_1_tanh_leaky_-131-0.00011.hdf5\n",
      "225/225 [==============================] - 17s 77ms/step - loss: 0.0050 - val_loss: 1.1463e-04\n",
      "Epoch 132/150\n",
      "225/225 [==============================] - ETA: 0s - loss: 0.0046\n",
      "Epoch 00132: saving model to ../weights/bitcoin2015to2017_close_LSTM_1_tanh_leaky_-132-0.00005.hdf5\n",
      "225/225 [==============================] - 19s 85ms/step - loss: 0.0046 - val_loss: 5.1132e-05\n",
      "Epoch 133/150\n",
      "225/225 [==============================] - ETA: 0s - loss: 0.0045\n",
      "Epoch 00133: saving model to ../weights/bitcoin2015to2017_close_LSTM_1_tanh_leaky_-133-0.00007.hdf5\n",
      "225/225 [==============================] - 19s 84ms/step - loss: 0.0045 - val_loss: 7.3523e-05\n",
      "Epoch 134/150\n",
      "225/225 [==============================] - ETA: 0s - loss: 0.0049\n",
      "Epoch 00134: saving model to ../weights/bitcoin2015to2017_close_LSTM_1_tanh_leaky_-134-0.00005.hdf5\n",
      "225/225 [==============================] - 19s 84ms/step - loss: 0.0049 - val_loss: 5.4390e-05\n",
      "Epoch 135/150\n",
      "225/225 [==============================] - ETA: 0s - loss: 0.0046\n",
      "Epoch 00135: saving model to ../weights/bitcoin2015to2017_close_LSTM_1_tanh_leaky_-135-0.00009.hdf5\n",
      "225/225 [==============================] - 20s 87ms/step - loss: 0.0046 - val_loss: 9.3874e-05\n",
      "Epoch 136/150\n",
      "225/225 [==============================] - ETA: 0s - loss: 0.0047\n",
      "Epoch 00136: saving model to ../weights/bitcoin2015to2017_close_LSTM_1_tanh_leaky_-136-0.00002.hdf5\n",
      "225/225 [==============================] - 20s 88ms/step - loss: 0.0047 - val_loss: 2.4932e-05\n",
      "Epoch 137/150\n",
      "225/225 [==============================] - ETA: 0s - loss: 0.0047\n",
      "Epoch 00137: saving model to ../weights/bitcoin2015to2017_close_LSTM_1_tanh_leaky_-137-0.00007.hdf5\n",
      "225/225 [==============================] - 17s 74ms/step - loss: 0.0047 - val_loss: 7.1395e-05\n",
      "Epoch 138/150\n",
      "225/225 [==============================] - ETA: 0s - loss: 0.0049\n",
      "Epoch 00138: saving model to ../weights/bitcoin2015to2017_close_LSTM_1_tanh_leaky_-138-0.00005.hdf5\n",
      "225/225 [==============================] - 14s 64ms/step - loss: 0.0049 - val_loss: 4.9085e-05\n",
      "Epoch 139/150\n",
      "225/225 [==============================] - ETA: 0s - loss: 0.0048\n",
      "Epoch 00139: saving model to ../weights/bitcoin2015to2017_close_LSTM_1_tanh_leaky_-139-0.00016.hdf5\n",
      "225/225 [==============================] - 14s 62ms/step - loss: 0.0048 - val_loss: 1.5929e-04\n",
      "Epoch 140/150\n",
      "225/225 [==============================] - ETA: 0s - loss: 0.0045\n",
      "Epoch 00140: saving model to ../weights/bitcoin2015to2017_close_LSTM_1_tanh_leaky_-140-0.00020.hdf5\n",
      "225/225 [==============================] - 14s 63ms/step - loss: 0.0045 - val_loss: 2.0130e-04\n",
      "Epoch 141/150\n",
      "225/225 [==============================] - ETA: 0s - loss: 0.0046\n",
      "Epoch 00141: saving model to ../weights/bitcoin2015to2017_close_LSTM_1_tanh_leaky_-141-0.00027.hdf5\n",
      "225/225 [==============================] - 16s 70ms/step - loss: 0.0046 - val_loss: 2.6884e-04\n",
      "Epoch 142/150\n",
      "225/225 [==============================] - ETA: 0s - loss: 0.0048\n",
      "Epoch 00142: saving model to ../weights/bitcoin2015to2017_close_LSTM_1_tanh_leaky_-142-0.00022.hdf5\n",
      "225/225 [==============================] - 15s 66ms/step - loss: 0.0048 - val_loss: 2.1849e-04\n",
      "Epoch 143/150\n",
      "225/225 [==============================] - ETA: 0s - loss: 0.0047\n",
      "Epoch 00143: saving model to ../weights/bitcoin2015to2017_close_LSTM_1_tanh_leaky_-143-0.00008.hdf5\n",
      "225/225 [==============================] - 15s 65ms/step - loss: 0.0047 - val_loss: 8.2013e-05\n",
      "Epoch 144/150\n",
      "225/225 [==============================] - ETA: 0s - loss: 0.0044\n",
      "Epoch 00144: saving model to ../weights/bitcoin2015to2017_close_LSTM_1_tanh_leaky_-144-0.00007.hdf5\n",
      "225/225 [==============================] - 15s 67ms/step - loss: 0.0044 - val_loss: 7.2433e-05\n",
      "Epoch 145/150\n",
      "225/225 [==============================] - ETA: 0s - loss: 0.0052\n",
      "Epoch 00145: saving model to ../weights/bitcoin2015to2017_close_LSTM_1_tanh_leaky_-145-0.00026.hdf5\n",
      "225/225 [==============================] - 15s 68ms/step - loss: 0.0052 - val_loss: 2.5907e-04\n",
      "Epoch 146/150\n",
      "225/225 [==============================] - ETA: 0s - loss: 0.0046\n",
      "Epoch 00146: saving model to ../weights/bitcoin2015to2017_close_LSTM_1_tanh_leaky_-146-0.00007.hdf5\n",
      "225/225 [==============================] - 15s 65ms/step - loss: 0.0046 - val_loss: 7.3727e-05\n",
      "Epoch 147/150\n",
      "225/225 [==============================] - ETA: 0s - loss: 0.0045\n",
      "Epoch 00147: saving model to ../weights/bitcoin2015to2017_close_LSTM_1_tanh_leaky_-147-0.00005.hdf5\n",
      "225/225 [==============================] - 15s 65ms/step - loss: 0.0045 - val_loss: 5.3138e-05\n",
      "Epoch 148/150\n",
      "225/225 [==============================] - ETA: 0s - loss: 0.0049\n",
      "Epoch 00148: saving model to ../weights/bitcoin2015to2017_close_LSTM_1_tanh_leaky_-148-0.00012.hdf5\n",
      "225/225 [==============================] - 15s 67ms/step - loss: 0.0049 - val_loss: 1.1785e-04\n",
      "Epoch 149/150\n",
      "225/225 [==============================] - ETA: 0s - loss: 0.0048\n",
      "Epoch 00149: saving model to ../weights/bitcoin2015to2017_close_LSTM_1_tanh_leaky_-149-0.00005.hdf5\n",
      "225/225 [==============================] - 16s 71ms/step - loss: 0.0048 - val_loss: 4.6140e-05\n",
      "Epoch 150/150\n",
      "225/225 [==============================] - ETA: 0s - loss: 0.0049\n",
      "Epoch 00150: saving model to ../weights/bitcoin2015to2017_close_LSTM_1_tanh_leaky_-150-0.00039.hdf5\n",
      "225/225 [==============================] - 17s 74ms/step - loss: 0.0049 - val_loss: 3.8760e-04\n"
     ]
    },
    {
     "data": {
      "text/plain": [
       "<tensorflow.python.keras.callbacks.History at 0x2bed53ad280>"
      ]
     },
     "execution_count": 143,
     "metadata": {},
     "output_type": "execute_result"
    }
   ],
   "source": [
    "#build model\n",
    "model = Sequential()\n",
    "model.add(LSTM(units=units,activation='tanh', input_shape=(step_size,nb_features),return_sequences=False))\n",
    "model.add(Dropout(0.8))\n",
    "model.add(Dense(output_size))\n",
    "model.add(LeakyReLU())\n",
    "model.compile(loss='mse', optimizer='adam')\n",
    "model.fit(training_datas, training_labels, batch_size=batch_size,validation_data=(validation_datas,validation_labels), epochs = epochs, callbacks=[CSVLogger(output_file_name+'.csv', append=True),ModelCheckpoint('../weights/'+output_file_name+'-{epoch:02d}-{val_loss:.5f}.hdf5', monitor='val_loss', verbose=1,mode='min')])\n",
    "\n",
    "\n"
   ]
  },
  {
   "cell_type": "code",
   "execution_count": 158,
   "id": "923538be",
   "metadata": {},
   "outputs": [
    {
     "data": {
      "text/plain": [
       "(610782, 1)"
      ]
     },
     "execution_count": 158,
     "metadata": {},
     "output_type": "execute_result"
    }
   ],
   "source": [
    "original_datas.shape"
   ]
  },
  {
   "cell_type": "code",
   "execution_count": 171,
   "id": "c966cdf1",
   "metadata": {},
   "outputs": [
    {
     "name": "stdout",
     "output_type": "stream",
     "text": [
      "(1, 449, 16)\n"
     ]
    }
   ],
   "source": [
    "\n",
    "predicted = model.predict(validation_datas)\n",
    "predicted_inverted = []\n",
    "\n",
    "# we only care about the 0 axis, close price data\n",
    "scaler=MinMaxScaler()\n",
    "\n",
    "scaler.fit(original_datas[:,0].reshape(-1,1))\n",
    "predicted_inverted.append(scaler.inverse_transform(predicted))\n",
    "print(np.array(predicted_inverted).shape)\n"
   ]
  },
  {
   "cell_type": "code",
   "execution_count": 175,
   "id": "06757cbd",
   "metadata": {},
   "outputs": [
    {
     "data": {
      "text/plain": [
       "(122128,)"
      ]
     },
     "execution_count": 175,
     "metadata": {},
     "output_type": "execute_result"
    }
   ],
   "source": [
    "ground_true.shape"
   ]
  },
  {
   "cell_type": "code",
   "execution_count": 180,
   "id": "b97d4c68",
   "metadata": {},
   "outputs": [
    {
     "name": "stdout",
     "output_type": "stream",
     "text": [
      "(7184,)\n"
     ]
    }
   ],
   "source": [
    "#get only the close data\n",
    "ground_true = ground_true[:,:,0].reshape(-1)\n",
    "ground_true_times = ground_true_times.reshape(-1)\n",
    "ground_true_times = pd.to_datetime(ground_true_times, unit='s')\n",
    "# since we are appending in the first dimension\n",
    "predicted_inverted = np.array(predicted_inverted)[0,:,:].reshape(-1)\n",
    "print(np.array(predicted_inverted).shape)"
   ]
  },
  {
   "cell_type": "code",
   "execution_count": 181,
   "id": "8b1c0f2e",
   "metadata": {},
   "outputs": [
    {
     "data": {
      "text/plain": [
       "DatetimeIndex(['2021-12-06 10:09:00', '2021-12-06 10:10:00',\n",
       "               '2021-12-06 10:11:00', '2021-12-06 10:12:00',\n",
       "               '2021-12-06 10:13:00', '2021-12-06 10:14:00',\n",
       "               '2021-12-06 10:15:00', '2021-12-06 10:16:00',\n",
       "               '2021-12-06 10:17:00', '2021-12-06 10:18:00',\n",
       "               ...\n",
       "               '2022-03-01 01:11:00', '2022-03-01 01:12:00',\n",
       "               '2022-03-01 01:13:00', '2022-03-01 01:14:00',\n",
       "               '2022-03-01 01:15:00', '2022-03-01 01:16:00',\n",
       "               '2022-03-01 01:17:00', '2022-03-01 01:18:00',\n",
       "               '2022-03-01 01:19:00', '2022-03-01 01:20:00'],\n",
       "              dtype='datetime64[ns]', length=7184, freq=None)"
      ]
     },
     "execution_count": 181,
     "metadata": {},
     "output_type": "execute_result"
    }
   ],
   "source": [
    "validation_output_times = pd.to_datetime(validation_output_times.reshape(-1), unit='s')\n",
    "validation_output_times"
   ]
  },
  {
   "cell_type": "code",
   "execution_count": 182,
   "id": "1c82f8c5",
   "metadata": {},
   "outputs": [
    {
     "data": {
      "text/plain": [
       "(122128, 2)"
      ]
     },
     "execution_count": 182,
     "metadata": {},
     "output_type": "execute_result"
    }
   ],
   "source": [
    "ground_true_df = pd.DataFrame()\n",
    "ground_true_df['times'] = ground_true_times\n",
    "ground_true_df['value'] = ground_true\n",
    "ground_true_df.set_index('times').reset_index()\n",
    "ground_true_df.shape"
   ]
  },
  {
   "cell_type": "code",
   "execution_count": 183,
   "id": "a372be04",
   "metadata": {},
   "outputs": [
    {
     "data": {
      "text/html": [
       "<div>\n",
       "<style scoped>\n",
       "    .dataframe tbody tr th:only-of-type {\n",
       "        vertical-align: middle;\n",
       "    }\n",
       "\n",
       "    .dataframe tbody tr th {\n",
       "        vertical-align: top;\n",
       "    }\n",
       "\n",
       "    .dataframe thead th {\n",
       "        text-align: right;\n",
       "    }\n",
       "</style>\n",
       "<table border=\"1\" class=\"dataframe\">\n",
       "  <thead>\n",
       "    <tr style=\"text-align: right;\">\n",
       "      <th></th>\n",
       "      <th>times</th>\n",
       "      <th>value</th>\n",
       "    </tr>\n",
       "  </thead>\n",
       "  <tbody>\n",
       "    <tr>\n",
       "      <th>0</th>\n",
       "      <td>2021-12-06 05:53:00</td>\n",
       "      <td>48910.74</td>\n",
       "    </tr>\n",
       "    <tr>\n",
       "      <th>1</th>\n",
       "      <td>2021-12-06 05:54:00</td>\n",
       "      <td>48895.65</td>\n",
       "    </tr>\n",
       "    <tr>\n",
       "      <th>2</th>\n",
       "      <td>2021-12-06 05:55:00</td>\n",
       "      <td>48867.13</td>\n",
       "    </tr>\n",
       "    <tr>\n",
       "      <th>3</th>\n",
       "      <td>2021-12-06 05:56:00</td>\n",
       "      <td>48845.18</td>\n",
       "    </tr>\n",
       "    <tr>\n",
       "      <th>4</th>\n",
       "      <td>2021-12-06 05:57:00</td>\n",
       "      <td>48840.16</td>\n",
       "    </tr>\n",
       "    <tr>\n",
       "      <th>...</th>\n",
       "      <td>...</td>\n",
       "      <td>...</td>\n",
       "    </tr>\n",
       "    <tr>\n",
       "      <th>122123</th>\n",
       "      <td>2022-03-01 01:16:00</td>\n",
       "      <td>43296.65</td>\n",
       "    </tr>\n",
       "    <tr>\n",
       "      <th>122124</th>\n",
       "      <td>2022-03-01 01:17:00</td>\n",
       "      <td>43281.66</td>\n",
       "    </tr>\n",
       "    <tr>\n",
       "      <th>122125</th>\n",
       "      <td>2022-03-01 01:18:00</td>\n",
       "      <td>43265.97</td>\n",
       "    </tr>\n",
       "    <tr>\n",
       "      <th>122126</th>\n",
       "      <td>2022-03-01 01:19:00</td>\n",
       "      <td>43290.40</td>\n",
       "    </tr>\n",
       "    <tr>\n",
       "      <th>122127</th>\n",
       "      <td>2022-03-01 01:20:00</td>\n",
       "      <td>43330.83</td>\n",
       "    </tr>\n",
       "  </tbody>\n",
       "</table>\n",
       "<p>122128 rows × 2 columns</p>\n",
       "</div>"
      ],
      "text/plain": [
       "                     times     value\n",
       "0      2021-12-06 05:53:00  48910.74\n",
       "1      2021-12-06 05:54:00  48895.65\n",
       "2      2021-12-06 05:55:00  48867.13\n",
       "3      2021-12-06 05:56:00  48845.18\n",
       "4      2021-12-06 05:57:00  48840.16\n",
       "...                    ...       ...\n",
       "122123 2022-03-01 01:16:00  43296.65\n",
       "122124 2022-03-01 01:17:00  43281.66\n",
       "122125 2022-03-01 01:18:00  43265.97\n",
       "122126 2022-03-01 01:19:00  43290.40\n",
       "122127 2022-03-01 01:20:00  43330.83\n",
       "\n",
       "[122128 rows x 2 columns]"
      ]
     },
     "execution_count": 183,
     "metadata": {},
     "output_type": "execute_result"
    }
   ],
   "source": [
    "#predicted_inverted.shape\n",
    "ground_true_df"
   ]
  },
  {
   "cell_type": "code",
   "execution_count": 184,
   "id": "2900318a",
   "metadata": {},
   "outputs": [
    {
     "data": {
      "text/plain": [
       "(7184, 2)"
      ]
     },
     "execution_count": 184,
     "metadata": {},
     "output_type": "execute_result"
    }
   ],
   "source": [
    "prediction_df = pd.DataFrame()\n",
    "prediction_df['times'] = validation_output_times\n",
    "prediction_df['value'] = predicted_inverted\n",
    "prediction_df.shape"
   ]
  },
  {
   "cell_type": "code",
   "execution_count": 151,
   "id": "2d4b916a",
   "metadata": {},
   "outputs": [
    {
     "data": {
      "text/html": [
       "<div>\n",
       "<style scoped>\n",
       "    .dataframe tbody tr th:only-of-type {\n",
       "        vertical-align: middle;\n",
       "    }\n",
       "\n",
       "    .dataframe tbody tr th {\n",
       "        vertical-align: top;\n",
       "    }\n",
       "\n",
       "    .dataframe thead th {\n",
       "        text-align: right;\n",
       "    }\n",
       "</style>\n",
       "<table border=\"1\" class=\"dataframe\">\n",
       "  <thead>\n",
       "    <tr style=\"text-align: right;\">\n",
       "      <th></th>\n",
       "      <th>times</th>\n",
       "      <th>value</th>\n",
       "    </tr>\n",
       "  </thead>\n",
       "  <tbody>\n",
       "    <tr>\n",
       "      <th>0</th>\n",
       "      <td>2021-12-06 10:09:00</td>\n",
       "      <td>47655.328125</td>\n",
       "    </tr>\n",
       "    <tr>\n",
       "      <th>1</th>\n",
       "      <td>2021-12-06 10:10:00</td>\n",
       "      <td>47656.296875</td>\n",
       "    </tr>\n",
       "    <tr>\n",
       "      <th>2</th>\n",
       "      <td>2021-12-06 10:11:00</td>\n",
       "      <td>47657.484375</td>\n",
       "    </tr>\n",
       "    <tr>\n",
       "      <th>3</th>\n",
       "      <td>2021-12-06 10:12:00</td>\n",
       "      <td>47656.417969</td>\n",
       "    </tr>\n",
       "    <tr>\n",
       "      <th>4</th>\n",
       "      <td>2021-12-06 10:13:00</td>\n",
       "      <td>47654.710938</td>\n",
       "    </tr>\n",
       "    <tr>\n",
       "      <th>...</th>\n",
       "      <td>...</td>\n",
       "      <td>...</td>\n",
       "    </tr>\n",
       "    <tr>\n",
       "      <th>7179</th>\n",
       "      <td>2022-03-01 01:16:00</td>\n",
       "      <td>44115.226562</td>\n",
       "    </tr>\n",
       "    <tr>\n",
       "      <th>7180</th>\n",
       "      <td>2022-03-01 01:17:00</td>\n",
       "      <td>44120.531250</td>\n",
       "    </tr>\n",
       "    <tr>\n",
       "      <th>7181</th>\n",
       "      <td>2022-03-01 01:18:00</td>\n",
       "      <td>44120.847656</td>\n",
       "    </tr>\n",
       "    <tr>\n",
       "      <th>7182</th>\n",
       "      <td>2022-03-01 01:19:00</td>\n",
       "      <td>44116.160156</td>\n",
       "    </tr>\n",
       "    <tr>\n",
       "      <th>7183</th>\n",
       "      <td>2022-03-01 01:20:00</td>\n",
       "      <td>44118.730469</td>\n",
       "    </tr>\n",
       "  </tbody>\n",
       "</table>\n",
       "<p>7184 rows × 2 columns</p>\n",
       "</div>"
      ],
      "text/plain": [
       "                   times         value\n",
       "0    2021-12-06 10:09:00  47655.328125\n",
       "1    2021-12-06 10:10:00  47656.296875\n",
       "2    2021-12-06 10:11:00  47657.484375\n",
       "3    2021-12-06 10:12:00  47656.417969\n",
       "4    2021-12-06 10:13:00  47654.710938\n",
       "...                  ...           ...\n",
       "7179 2022-03-01 01:16:00  44115.226562\n",
       "7180 2022-03-01 01:17:00  44120.531250\n",
       "7181 2022-03-01 01:18:00  44120.847656\n",
       "7182 2022-03-01 01:19:00  44116.160156\n",
       "7183 2022-03-01 01:20:00  44118.730469\n",
       "\n",
       "[7184 rows x 2 columns]"
      ]
     },
     "execution_count": 151,
     "metadata": {},
     "output_type": "execute_result"
    }
   ],
   "source": [
    "prediction_df"
   ]
  },
  {
   "cell_type": "code",
   "execution_count": 152,
   "id": "c0779b32",
   "metadata": {},
   "outputs": [],
   "source": [
    "prediction_df = prediction_df.loc[(prediction_df[\"times\"].dt.year <= 2021 )&(prediction_df[\"times\"].dt.month <= 5 ),: ]\n",
    "ground_true_df = ground_true_df.loc[(ground_true_df[\"times\"].dt.year <= 2021 )&(ground_true_df[\"times\"].dt.month <= 5 ),:]"
   ]
  },
  {
   "cell_type": "code",
   "execution_count": 153,
   "id": "c7613599",
   "metadata": {},
   "outputs": [
    {
     "data": {
      "text/html": [
       "<div>\n",
       "<style scoped>\n",
       "    .dataframe tbody tr th:only-of-type {\n",
       "        vertical-align: middle;\n",
       "    }\n",
       "\n",
       "    .dataframe tbody tr th {\n",
       "        vertical-align: top;\n",
       "    }\n",
       "\n",
       "    .dataframe thead th {\n",
       "        text-align: right;\n",
       "    }\n",
       "</style>\n",
       "<table border=\"1\" class=\"dataframe\">\n",
       "  <thead>\n",
       "    <tr style=\"text-align: right;\">\n",
       "      <th></th>\n",
       "      <th>times</th>\n",
       "      <th>value</th>\n",
       "    </tr>\n",
       "  </thead>\n",
       "  <tbody>\n",
       "  </tbody>\n",
       "</table>\n",
       "</div>"
      ],
      "text/plain": [
       "Empty DataFrame\n",
       "Columns: [times, value]\n",
       "Index: []"
      ]
     },
     "execution_count": 153,
     "metadata": {},
     "output_type": "execute_result"
    }
   ],
   "source": [
    "ground_true_df.head(100)\n"
   ]
  },
  {
   "cell_type": "code",
   "execution_count": 154,
   "id": "d2dee1f9",
   "metadata": {},
   "outputs": [
    {
     "data": {
      "text/html": [
       "<div>\n",
       "<style scoped>\n",
       "    .dataframe tbody tr th:only-of-type {\n",
       "        vertical-align: middle;\n",
       "    }\n",
       "\n",
       "    .dataframe tbody tr th {\n",
       "        vertical-align: top;\n",
       "    }\n",
       "\n",
       "    .dataframe thead th {\n",
       "        text-align: right;\n",
       "    }\n",
       "</style>\n",
       "<table border=\"1\" class=\"dataframe\">\n",
       "  <thead>\n",
       "    <tr style=\"text-align: right;\">\n",
       "      <th></th>\n",
       "      <th>times</th>\n",
       "      <th>value</th>\n",
       "    </tr>\n",
       "  </thead>\n",
       "  <tbody>\n",
       "  </tbody>\n",
       "</table>\n",
       "</div>"
      ],
      "text/plain": [
       "Empty DataFrame\n",
       "Columns: [times, value]\n",
       "Index: []"
      ]
     },
     "execution_count": 154,
     "metadata": {},
     "output_type": "execute_result"
    }
   ],
   "source": [
    "prediction_df"
   ]
  },
  {
   "cell_type": "code",
   "execution_count": 185,
   "id": "acd109f4",
   "metadata": {},
   "outputs": [
    {
     "data": {
      "image/png": "[encoded data removed]",
      "text/plain": [
       "<Figure size 1440x720 with 1 Axes>"
      ]
     },
     "metadata": {
      "needs_background": "light"
     },
     "output_type": "display_data"
    }
   ],
   "source": [
    "plt.figure(figsize=(20,10))\n",
    "plt.plot(ground_true_df.times,ground_true_df.value, label = 'Actual')\n",
    "# plt.plot(prediction_df.times,prediction_df.value, label = 'Predicted')\n",
    "plt.plot(prediction_df.times,prediction_df.value,'ro', label='Predicted')\n",
    "plt.legend(loc='upper left')\n",
    "plt.savefig('../output/bitcoin2015to2017_close_LSTM_1_tanh_leaky_result.png')\n",
    "plt.show()"
   ]
  },
  {
   "cell_type": "code",
   "execution_count": 186,
   "id": "fe905769",
   "metadata": {},
   "outputs": [
    {
     "data": {
      "text/plain": [
       "649243.6767731439"
      ]
     },
     "execution_count": 186,
     "metadata": {},
     "output_type": "execute_result"
    }
   ],
   "source": [
    "from sklearn.metrics import mean_squared_error\n",
    "mean_squared_error(validation_original_outputs[:,:,0].reshape(-1),predicted_inverted)"
   ]
  },
  {
   "cell_type": "code",
   "execution_count": 157,
   "id": "13067ba5",
   "metadata": {},
   "outputs": [
    {
     "data": {
      "text/plain": [
       "(2245, 16, 1)"
      ]
     },
     "execution_count": 157,
     "metadata": {},
     "output_type": "execute_result"
    }
   ],
   "source": [
    "9058673.3771138\n",
    "\n",
    "output_times[training_size:,:,:]\n",
    "output_times.shape"
   ]
  }
 ],
 "metadata": {
  "kernelspec": {
   "display_name": "Python 3",
   "language": "python",
   "name": "python3"
  },
  "language_info": {
   "codemirror_mode": {
    "name": "ipython",
    "version": 3
   },
   "file_extension": ".py",
   "mimetype": "text/x-python",
   "name": "python",
   "nbconvert_exporter": "python",
   "pygments_lexer": "ipython3",
   "version": "3.8.8"
  }
 },
 "nbformat": 4,
 "nbformat_minor": 5
}
